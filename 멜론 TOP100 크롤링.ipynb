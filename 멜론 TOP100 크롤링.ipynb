{
 "cells": [
  {
   "cell_type": "markdown",
   "id": "a85deddc",
   "metadata": {},
   "source": [
    "<h3> 1. 크롤링을 위한 라이브러리와 기타 라이브러리 모두 import </h3>"
   ]
  },
  {
   "cell_type": "code",
   "execution_count": 21,
   "id": "cabe4912",
   "metadata": {},
   "outputs": [
    {
     "name": "stderr",
     "output_type": "stream",
     "text": [
      "/var/folders/sv/cl913h0j61d2vdb1nsx820000000gn/T/ipykernel_85606/2675340068.py:5: DeprecationWarning: executable_path has been deprecated, please pass in a Service object\n",
      "  driver = webdriver.Chrome('chromedriver.exe')\n"
     ]
    }
   ],
   "source": [
    "# 라이브러리 호출\n",
    "import requests as req\n",
    "from bs4 import BeautifulSoup as bs\n",
    "from selenium import webdriver\n",
    "driver = webdriver.Chrome('chromedriver.exe')\n",
    "import re\n",
    "import pandas as pd\n",
    "from selenium.webdriver.common.by import By"
   ]
  },
  {
   "cell_type": "markdown",
   "id": "f4394181",
   "metadata": {},
   "source": [
    "<h3> 2. Top 100 크롤링 하기 위해 사이트로 이동 </h3>"
   ]
  },
  {
   "cell_type": "code",
   "execution_count": 48,
   "id": "13c79b40",
   "metadata": {},
   "outputs": [],
   "source": [
    "driver.get(\"https://www.melon.com/chart/index.htm\")"
   ]
  },
  {
   "cell_type": "code",
   "execution_count": 49,
   "id": "8bfe2f75",
   "metadata": {},
   "outputs": [],
   "source": [
    "title=driver.find_elements(By.CLASS_NAME,'ellipsis.rank01')\n",
    "\n",
    "title2=[]\n",
    "for i in title:\n",
    "    title2.append(i.text)"
   ]
  },
  {
   "cell_type": "code",
   "execution_count": 50,
   "id": "ad7e2663",
   "metadata": {},
   "outputs": [
    {
     "data": {
      "text/plain": [
       "100"
      ]
     },
     "execution_count": 50,
     "metadata": {},
     "output_type": "execute_result"
    }
   ],
   "source": [
    "len(title2)"
   ]
  },
  {
   "cell_type": "code",
   "execution_count": 52,
   "id": "f0a8cdfa",
   "metadata": {},
   "outputs": [
    {
     "data": {
      "text/plain": [
       "['IVE (아이브)',\n",
       " 'LE SSERAFIM (르세라핌)',\n",
       " 'aespa',\n",
       " 'IVE (아이브)',\n",
       " '(여자)아이들',\n",
       " '세븐틴 (SEVENTEEN)',\n",
       " '지수 (JISOO)',\n",
       " 'NewJeans',\n",
       " 'NewJeans',\n",
       " '허각',\n",
       " '박재정',\n",
       " '임영웅',\n",
       " '부석순 (SEVENTEEN)',\n",
       " 'NewJeans',\n",
       " '임재현',\n",
       " '임영웅',\n",
       " 'STAYC(스테이씨)',\n",
       " '윤하 (YOUNHA)',\n",
       " 'FIFTY FIFTY',\n",
       " '임영웅',\n",
       " 'Charlie Puth',\n",
       " '임영웅',\n",
       " '던 (DAWN)',\n",
       " '임영웅',\n",
       " 'IVE (아이브)',\n",
       " '임영웅',\n",
       " 'Charlie Puth',\n",
       " '볼빨간사춘기',\n",
       " '임영웅',\n",
       " 'Agust D',\n",
       " 'DK(디셈버)',\n",
       " '임영웅',\n",
       " 'LE SSERAFIM (르세라핌)',\n",
       " '세븐틴 (SEVENTEEN)',\n",
       " 'V.O.S',\n",
       " 'IVE (아이브)',\n",
       " '(여자)아이들',\n",
       " '비투비',\n",
       " 'NewJeans',\n",
       " '임영웅',\n",
       " '임영웅',\n",
       " '임영웅',\n",
       " 'Zior Park',\n",
       " '임영웅',\n",
       " '지아',\n",
       " '임영웅',\n",
       " '지민',\n",
       " 'imase',\n",
       " '임영웅',\n",
       " '멜로망스',\n",
       " '방탄소년단',\n",
       " '이채연',\n",
       " 'NMIXX',\n",
       " '성시경',\n",
       " 'aespa',\n",
       " '지아',\n",
       " '(여자)아이들',\n",
       " '임한별',\n",
       " '방탄소년단',\n",
       " '방탄소년단',\n",
       " '(여자)아이들',\n",
       " '방탄소년단',\n",
       " 'H1-KEY (하이키)',\n",
       " '#안녕',\n",
       " 'The Kid LAROI, Justin Bieber',\n",
       " 'Charlie Puth',\n",
       " '우디 (Woody)',\n",
       " '10CM',\n",
       " '방탄소년단',\n",
       " 'NCT DREAM',\n",
       " 'LE SSERAFIM (르세라핌)',\n",
       " '테이',\n",
       " 'BLACKPINK',\n",
       " '김민석 (멜로망스)',\n",
       " 'IVE (아이브)',\n",
       " '세븐틴 (SEVENTEEN)',\n",
       " 'aespa',\n",
       " 'DK(디셈버)',\n",
       " 'j-hope, J. Cole',\n",
       " '우디 (Woody)',\n",
       " '경서예지, 전건호',\n",
       " '주호',\n",
       " 'BIG Naughty (서동현)',\n",
       " 'BLACKPINK',\n",
       " '태양',\n",
       " '지코 (ZICO)',\n",
       " '이무진',\n",
       " '정국, 방탄소년단',\n",
       " 'WSG워너비 (가야G)',\n",
       " '주주 시크릿',\n",
       " 'Agust D',\n",
       " '세븐틴 (SEVENTEEN)',\n",
       " '태양',\n",
       " '김호중',\n",
       " '윤하 (YOUNHA)',\n",
       " '10CM',\n",
       " '세븐틴 (SEVENTEEN)',\n",
       " '세븐틴 (SEVENTEEN)',\n",
       " 'NCT 도재정',\n",
       " '세븐틴 (SEVENTEEN)']"
      ]
     },
     "execution_count": 52,
     "metadata": {},
     "output_type": "execute_result"
    }
   ],
   "source": [
    "singer=driver.find_elements(By.CLASS_NAME, 'ellipsis.rank02')\n",
    "singer2=[]\n",
    "for i in singer:\n",
    "    singer2.append(i.text)\n",
    "\n",
    "singer2"
   ]
  },
  {
   "cell_type": "code",
   "execution_count": 53,
   "id": "f62e438d",
   "metadata": {},
   "outputs": [],
   "source": [
    "songTagList = driver.find_elements(By.ID, 'lst50')\n",
    "number=[]\n",
    "for i in songTagList:\n",
    "    number.append(i.get_attribute('data-song-no'))"
   ]
  },
  {
   "cell_type": "code",
   "execution_count": 54,
   "id": "14fad4c5",
   "metadata": {},
   "outputs": [
    {
     "data": {
      "text/plain": [
       "50"
      ]
     },
     "execution_count": 54,
     "metadata": {},
     "output_type": "execute_result"
    }
   ],
   "source": [
    "len(number)"
   ]
  },
  {
   "cell_type": "code",
   "execution_count": 55,
   "id": "3bc453d3",
   "metadata": {},
   "outputs": [],
   "source": [
    "songTagList2 = driver.find_elements(By.ID, 'lst100')\n",
    "for i in songTagList2:\n",
    "    number.append(i.get_attribute('data-song-no'))"
   ]
  },
  {
   "cell_type": "code",
   "execution_count": 56,
   "id": "65b98970",
   "metadata": {},
   "outputs": [
    {
     "data": {
      "text/plain": [
       "100"
      ]
     },
     "execution_count": 56,
     "metadata": {},
     "output_type": "execute_result"
    }
   ],
   "source": [
    "len(number)"
   ]
  },
  {
   "cell_type": "markdown",
   "id": "0cf856cf",
   "metadata": {},
   "source": [
    "<h3> 3. class name과 css selector를 이용해서 가사와 장르 모두 크롤링"
   ]
  },
  {
   "cell_type": "code",
   "execution_count": 62,
   "id": "35587d9e",
   "metadata": {},
   "outputs": [],
   "source": [
    "LYRIC=[]\n",
    "Genre = []\n",
    "for i in number:\n",
    "    driver.get(\"https://www.melon.com/song/detail.htm?songId=\" + i)\n",
    "    lyric=driver.find_element(By.CLASS_NAME, \"lyric\")\n",
    "    genre=driver.find_element(By.CSS_SELECTOR,\"#downloadfrm > div > div > div.entry > div.meta > dl > dd:nth-child(6)\")\n",
    "    LYRIC.append(lyric.text)\n",
    "    Genre.append(genre.text)"
   ]
  },
  {
   "cell_type": "code",
   "execution_count": 59,
   "id": "26ed337c",
   "metadata": {},
   "outputs": [
    {
     "data": {
      "text/plain": [
       "100"
      ]
     },
     "execution_count": 59,
     "metadata": {},
     "output_type": "execute_result"
    }
   ],
   "source": [
    "len(LYRIC)"
   ]
  },
  {
   "cell_type": "code",
   "execution_count": 60,
   "id": "b1e43d46",
   "metadata": {},
   "outputs": [
    {
     "data": {
      "text/plain": [
       "['다른 문을 열어 따라 갈 필요는 없어\\n넌 너의 길로 난 나의 길로 음\\n하루하루마다 색이 달라진 느낌\\n밝게 빛이 나는 길을 찾아\\nI’m on my way 넌 그냥 믿으면 돼\\nI’m on my way 보이는 그대로야\\n너는 누군가의 Dreams come true\\n제일 좋은 어느 날의 데자뷰\\n머물고픈 어딘가의 낯선 뷰\\nI’ll be far away\\nThat’s my\\nLife is 아름다운 갤럭시\\nBe a writer, 장르로는 판타지\\n내일 내게 열리는 건 big big 스테이지\\nSo that is who I am\\nLook at me\\nLook at me\\nLook at me\\nnow\\n어제랑 또 다른 짜릿한 나\\n두려운 모든 게 설레이게\\nI’m in sky high, OMG\\n사소한 건 다 아득해져 와\\nLook at me now\\nLook at me now\\nI’m on fire\\nI’m on my way 넌 그냥 믿으면 돼\\nI’m on my way 보이는 그대로야\\n너는 누군가의 Dreams come true\\n제일 좋은 어느 날의 데자뷰\\n머물고픈 어딘가의 낯선 뷰\\nI’ll be far away\\nThat’s my\\nLife is 아름다운 갤럭시\\nBe a writer, 장르로는 판타지\\n내일 내게 열리는 건 big big 스테이지\\nSo that is who I am\\n어느 깊은 밤 길을 잃어도\\n차라리 날아올라 그럼 네가\\n지나가는 대로 길이거든\\n1, 2, 3\\n1, 2, 3\\n1, 2, 3\\nFly up\\nI hope you’d be someone’s\\ndreams come true\\n제일 좋은 어느 날의 데자뷰\\n머물고픈 어딘가의 낯선 뷰\\nI’ll be far away\\nThat’s my\\nLife is 아름다운 갤럭시\\nBe a writer, 장르로는 판타지\\n내일 내게 열리는 건 big big 스테이지\\nSo that is who I am',\n",
       " \"Unforgiven I’m a villain I’m a\\nUnforgiven 난 그 길을 걸어\\nUnforgiven I’m a villain I’m a\\n새 시대로 기억될 unforgiven\\nYeah what you want?\\n불편함이 깃든 face, wanna shut me up\\n사냥감을 거듭해 찾는 워리어S\\n너의 game에 난 문제아\\nsuch a freak 골칫거리\\nLet me tell you ‘bout LE SSERAFIM\\n내가 제일 싫은 건 낡은 대물림\\n어둠 속 불을 켜 마치 rebellion\\nWe gonna kick it break it\\nrules gon’ give up\\nUnforgiven yes I was bleeding\\n힘없이 늘 져야만 했던 싸움 but I ride\\n바란 적도 없어 용서 따위는\\n난 금기를 겨눠 watch me now\\nNow now now\\nUnforgiven I’m a villain I’m a\\nUnforgiven 난 그 길을 걸어\\nUnforgiven I’m a villain I’m a\\n새 시대로 기억될 unforgiven\\n나랑 저 너머 같이 가자\\nmy “unforgiven girls”\\n나랑 선 넘어 같이 가자\\nmy “unforgiven boys”\\nUnforgiven unforgiven unforgiven\\n한계 위로 남겨지는 우리 이름\\n나랑 저 너머 같이 가자\\nmy “unforgiven girls”\\nU-unforgiven-given-given\\n내 style로 livin’ livin’ livin’\\n내 방식 아주 원 없이\\n또 한국말론 아주 “철없이”\\nGet started let’s get started\\n미래 그 앞에 새겨둬 나의 story\\n신념이 죄면 난 villain,\\nI'm not that cinderella type of a girl\\nUnforgiven yes I was bleeding\\n힘없이 늘 져야만 했던 싸움 but I ride\\n바란 적도 없어 용서 따위는\\n난 금기를 겨눠 watch me now\\nNow now now\\nUnforgiven I’m a villain I’m a\\nUnforgiven 난 그 길을 걸어\\nUnforgiven I’m a villain I’m a\\n새 시대로 기억될 unforgiven\\n나랑 저 너머 같이 가자\\nmy “unforgiven girls”\\n나랑 선 넘어 같이 가자\\nmy “unforgiven boys”\\nUnforgiven unforgiven unforgiven\\n한계 위로 남겨지는 우리 이름\\n나랑 저 너머 같이 가자\\nmy “unforgiven girls”\\nUnforgiven I’m a villain I’m a\\nUnforgiven 난 그 길을 걸어\\nUnforgiven I’m a villain I’m a\\nUnforgiven 난 그 길을 걸어\\nOh I will never be a clown\\nOh 보게 될 거야 나다움\\nOh 내 목소린 좀 loud\\nOh I don’t care just shout it out!\\n나랑 저 너머 같이 가자\\nmy “unforgiven girls”\\n나랑 선 넘어 같이 가자\\nmy “unforgiven boys”\\nUnforgiven unforgiven unforgiven\\n한계 위로 남겨지는 우리 이름\\n나랑 저 너머 같이 가자\\nmy “unforgiven girls”\",\n",
       " \"Uh Uh Too Spicy\\nYou want my A to the Z\\nBut you won’t 어림없지\\n맞혀봐 Sweet 또는 Freak\\nWhat’s hiding underneath\\n(I see)\\n망설이듯 간 보는 너\\n기회는 없어 Oh\\nNah You won’t get it\\nNo No, You won’t get it\\nI say\\n깜빡 한순간\\n끌어당겨\\nYou’ll be mine (Mine)\\n살짝 다가와\\nCan cross my borderline\\n(Line Line Line)\\n널 따분하게 했던 Every day\\n흥미로운 덫을 던져줄게\\n뛰어들어 봐\\nJust right now\\n'Cause I’m too Spicy\\nfor your heart\\nRing the fire alarm\\n심장을 파고들어 넌\\nI'm too Spicy\\n번지는 자극 속에 넌\\n바로 그 순간\\n또 다른 나를 발견해\\nI’m too Spicy too too\\nI’m too Spicy\\nDon’t Stop 겁내지 마\\nBang Bang 외쳐봐\\nI’m too Spicy\\nYeah I’m too Spicy\\nYou know that I\\nDon’t Stop 용기 내 봐\\nNext step, Myself\\nI’m too Spicy\\nToo Spicy too too\\nI’m too Spicy\\nTell me what you see\\nWhen you look at me\\n'Cause I am a 10\\nout of 10 honestly\\n기세가 다른 Move\\n널 압도하는 Groove\\nBut you keep wasting\\nyour time Dude\\nDon't chase me\\n경고해 난\\nErase me\\n멀리 달아나\\nHey 이젠 알겠니\\n원래부터 Bad I’m so bad honestly\\nSo bad\\n전부 가질래\\n지금부턴\\nCall you mine (Mine)\\n도망칠 거면\\nDon’t cross my borderline\\n(Line Line Line)\\n늘 뻔하기만 했던 Every day\\n이제 그만 Rule을 벗어날 때\\n어렵지 않아\\nJust right now\\n'Cause I’m too Spicy\\nfor your heart\\nRing the fire alarm\\n심장을 파고들어 넌\\nI'm too Spicy\\n번지는 자극 속에 넌\\n바로 그 순간\\n또 다른 나를 발견해\\nI’m too Spicy too too\\nI’m too Spicy\\nReady? Uh\\n좀 더 강도를 높여\\n다음다음다음\\nOne of a kind\\n우린 한계를 앞서\\nWow Wow Wow\\nThat’s Right\\n'Cause I’m too Spicy\\nfor your heart\\nRing the fire alarm\\n새로운 도전 끝에 넌\\nI'm too Spicy\\n변화할 시간이야 넌\\n지금 이 순간\\n또 다른 나를 찾아내\\nI’m too Spicy too too\\nI’m too Spicy\\nDon’t Stop 겁내지 마\\nBang Bang 외쳐봐\\nI’m too Spicy\\nYeah I’m too Spicy\\nYou know that I\\nDon’t Stop 용기 내 봐\\nNext step, Myself\\nI’m too Spicy\\nI’m too Spicy\\nI’m too Spicy too too\\nI’m too Spicy\\n'Cause I\\nOh Yeah\\nYeah I’m too Spicy\\nfor your heart\\n(Yeah I’m too Spicy\\nfor your heart)\\n마침내 번져오는 Joy\\n(Enjoy joy joy joy)\\nYeah I’m too Spicy\\nfor your heart\\nI’m too Spicy too too\\nI’m too Spicy\\nFor you\",\n",
       " \"It's our time 우린 달라 특별한 게 좋아\\nOh What a good time\\n난 잘 살아 내 걱정은 낭비야\\n네가 보낸 DM을 읽고 나서 답이 없는 게\\n내 답이야 (That’s my style)\\nOOTD 하나까지 완전 우리답지\\nMy favorite things 그런 것 들엔 좀\\n점수를 매기지 마\\n난 생겨 먹은 대로 사는 애야, 뭘 더 바래\\nThat’s my style (That’s my style)\\n우리만의 자유로운 nineteen’s kitsch\\n지금까지 한적 없는 custom fit\\n올려 대는 나의 feed엔 like it\\n홀린 듯이 눌러 모두 다 like it\\n내가 추는 춤을 다들 따라 춰\\n매일 너의 알고리즘에 난 떠\\n걷잡을 수 없이 올라 미친 score\\n그 누구도 예상 못할 nineteen’s kitsch\\n우리만의 자유로운 nineteen’s kitsch\\n우리-우리만의 자유로운\\nnineteen’s kitsch\\n우리만의 자유로운 nineteen’s kitsch\\n우리-우리만의 자유로운\\nnineteen’s kitsch\\nkitsch kitsch kitsch kitsch\\nkitsch kitsch kitsch\\n우리만의 자유로운 nineteen’s kitsch\\n우리-우리만의 자유로운\\n달콤한 말, 뒤에 숨긴 너의 의도대로\\n따라가진 않을 거야 난 똑똑하니까\\n난 절대 끌리지 않는 것에 끌려가지 않아\\nThat’s my style (That’s my style)\\n우리만의 자유로운 nineteen’s kitsch\\n지금까지 한적 없는 custom fit\\n올려 대는 나의 feed엔 like it\\n홀린 듯이 눌러 모두 다 like it\\n내가 추는 춤을 다들 따라 춰\\n매일 너의 알고리즘에 난 떠\\n걷잡을 수 없이 올라 미친 score\\n그 누구도 예상 못할 nineteen’s kitsch\\n우리만의 자유로운 nineteen’s kitsch\\n우리-우리만의 자유로운\\nnineteen’s kitsch\\n우리만의 자유로운 nineteen’s kitsch\\n우리-우리만의 자유로운\\nnineteen’s kitsch\\nkitsch kitsch kitsch kitsch\\nkitsch kitsch kitsch\\n우리만의 자유로운 nineteen’s kitsch\\n우리-우리만의 자유로운\\nYah 모두 주목해\\n내가 좋아하는 것만 하면 뭐 어때 huh\\nThis ain’t ur life\\n쓸데없는 생각 따위 Go away\\n답답한 이 세상 앞엔 멋대로 할래\\nYOLO! Say no! 너의 길을 가 now\\n잔소리는 Quite down\\n이제 그만 Peace out\\n우리만의 자유로운 nineteen’s kitsch\\n지금까지 한적 없는 custom fit\\n올려 대는 나의 feed엔 like it\\n홀린 듯이 눌러 모두 다 like it\\n내가 추는 춤을 다들 따라 춰\\n매일 너의 알고리즘에 난 떠\\n걷잡을 수 없이 올라 미친 score\\n그 누구도 예상 못할 nineteen’s kitsch\\n우리만의 자유로운 nineteen’s kitsch\\n우리-우리만의 자유로운\\nnineteen’s kitsch\\n우리만의 자유로운 nineteen’s kitsch\\n우리-우리만의 자유로운\\nnineteen’s kitsch\\nkitsch kitsch kitsch kitsch\\nkitsch kitsch kitsch\\n우리만의 자유로운 nineteen’s kitsch\\n우리-우리만의 자유로운\\nnineteen’s kitsch\",\n",
       " 'Hey you\\n뭘 보니? 내가 좀 Sexy Sexy 반했니\\nYe you\\n뭐 하니? 너도 내 Kiss Kiss 원하니\\n월 화 수 목 금 토 일 미모가 쉬지를 않네\\n머리부터 발끝까지 눈부셔 빛이 나네\\nOh 저기 언니야들 내 Fashion을 따라 하네\\n아름다운 여자의 하루는 다 아름답네\\n이 Party에 준비된 Birthday cake\\n태어나서 감사해 Every day\\nI don’t need them\\n그래 내가 봐도 난\\n퀸카 I’m hot\\nMy boob and booty is hot\\nSpotlight 날 봐\\nI’m a star star star\\n퀸카 I’m the top\\nI’m twerking on the runway\\nI am a 퀸카\\nYou wanna be the 퀸카\\nI’m a 퀸카\\nI’m a 퀸카\\nI’m a I’m a I’m a 퀸카\\nI’m a 퀸카 (Take a photo)\\nI’m a 퀸카\\nI’m a 퀸카\\nI’m a I’m a I’m a 퀸카\\nI’m a 퀸카\\nLook so cool look so sexy\\nlike Kim Kardashian\\nLook so cute look so pretty like Ariana\\nI wanna with you 뽀뽀\\nI wanna with you 포옹\\n자꾸 예뻐져 거울 속 너어~\\n이 Party에 준비된 (Blue) Champagne\\n태어난 걸 축하해 Every day\\nI don’t need them\\n그래 내가 봐도 난\\n퀸카 I’m hot\\nMy boob and booty is hot\\nSpotlight 날 봐\\nI’m a star star star\\n퀸카 I’m the top\\nI’m twerking on the runway\\nI am a 퀸카\\nYou wanna be the 퀸카\\nI’m a 퀸카\\nI’m a 퀸카\\nI’m a I’m a I’m a 퀸카\\nI’m a 퀸카 (Take a photo)\\nI’m a 퀸카\\nI’m a 퀸카\\nI’m a I’m a I’m a 퀸카\\nI’m a 퀸카\\n아무거나 걸친 Girl 퀸카카카\\n마르거나 살찐 Girl 퀸카카카\\n자신감 넘치는 Girl 퀸카카카\\nI am a 퀸카\\nYou wanna be the 퀸카',\n",
       " '땅을 보고 계속 올랐지 정상까지\\n많은 시련은 보란 듯이 I Always Win\\n강한 마음이 중요하지\\n미래는 도망가지 않아 내가 놓기 전까지\\nDARUMDARIMDA\\n구름을 타고 여기저기로 (Hey)\\nDARUMDARIMDA\\n우리들의 긍지를 높이러 (Hey)\\nDARUMDARIMDA\\n또 다른 세계 나아가자 Go\\n이 Rhythm에 맞춰\\nSay Say Say Say\\n영웅본색 Like This\\n시간과 공간에 구애받지 않는 자세\\n힘을 다하고 쓰러져도\\n포기를 모르고 날뛰는 중\\n마치 된 것 같아 손오공\\n마치 된 것 같아 손오공\\n우리는 쉬지 않아 매일,\\nMake it Make it\\n끝까지 가보자\\n마치 된 것 같아 손오공\\nI Luv My Team I Luv My Crew\\n여기까지 달리면서\\nI Luv My Team I Luv My Crew\\n계속 달릴 수 있어 더\\nI Luv My Team I Luv My Crew\\n여기까지 오르면서\\nI Luv My Team 그 덕분에 우린\\n마치 된 것 같아 손오공\\n알리지 우리는 등장 중\\n여전히 세대를 뒤바꿈\\n멈추지 않아 뜀박 중\\n발이 꼬여도 뒷박 쿵\\nWOO WOO Pull Up My 근두운\\nWOO WOO 성실히 수행 중\\nDARUMDARIMDA\\n늘어나라 하늘로 여의봉 (Hey)\\nDARUMDARIMDA\\n우리들의 매일은 Come & Go (Hey)\\nDARUMDARIMDA\\n모든 걸 위해 나아가자 Go\\n이 노래에 맞춰\\nSay Say Say Say\\n영웅본색 Like This\\n시간과 공간에 구애받지 않는 자세\\n힘을 다하고 쓰러져도\\n포기를 모르고 날뛰는 중\\n마치 된 것 같아 손오공\\n마치 된 것 같아 손오공\\n우리는 쉬지 않아 매일,\\nMake it Make it\\n끝까지 가보자\\n마치 된 것 같아 손오공\\nI Luv My Team I Luv My Crew\\n여기까지 달리면서\\nI Luv My Team I Luv My Crew\\n계속 달릴 수 있어 더\\nI Luv My Team I Luv My Crew\\n여기까지 오르면서\\nI Luv My Team 그 덕분에 우린\\n마치 된 것 같아 손오공\\n진실은 때론 잔혹해 (What’s That?)\\n거짓은 때론 달콤해 (What’s That?)\\n다정함은 때론 거짓말로 (What’s That?)\\n나쁜 것 싹 다 모아둬\\nPing 하고 불 나와\\nEner Energy 기 모아 아주 다 나와\\nEner Energy 한방에 아주 발사 파\\n지금부터 다 하늘 위로 함성 발사\\n이 노래는 이 만화의 엔딩송이다',\n",
       " 'ABC 도레미만큼 착했던 나\\n그 눈빛이 싹 변했지\\n어쩌면 이 또한 나니까\\n난 파란 나비처럼 날아가\\n잡지 못한 건 다 네 몫이니까\\n활짝 꽃피웠던 시간도 이제 모두\\n내겐 lie lie lie\\n붉게 타버려진 너와 나\\n난 괜찮아 넌 괜찮을까\\n구름 한 점 없이 예쁜 날\\n꽃향기만 남기고 갔단다\\n꽃향기만 남기고 갔단다\\nYou and me, 미칠 듯이 뜨거웠지만\\n처참하게 짓밟혀진 내 하나뿐인 라일락\\n난 하얀 꽃잎처럼 날아가\\n잡지 않은 것은 너니까\\n살랑살랑 부는 바람에 이끌려\\n봄은 오지만 우린 bye bye bye\\n붉게 타버려진 너와 나\\n난 괜찮아 넌 괜찮을까\\n구름 한 점 없이 예쁜 날\\n꽃향기만 남기고 갔단다\\n꽃향기만 남기고 갔단다\\n이젠 안녕 goodbye\\n뒤는 절대 안 봐\\n미련이란 이름의 잎새 하나\\n봄비에 너에게서 떨어져\\n꽃향기만 남아\\n꽃향기만 남기고 갔단다',\n",
       " \"Woo woo woo woo ooh\\nWoo woo woo woo\\nStay in the middle\\nLike you a little\\nDon’t want no riddle\\n말해줘 say it back\\nOh say it ditto\\n아침은 너무 멀어\\nSo say it ditto\\n훌쩍 커버렸어\\n함께한 기억처럼\\n널 보는 내 마음은\\n어느새 여름 지나 가을\\n기다렸지 all this time\\nDo you want somebody\\nLike I want somebody\\n날 보고 웃었지만\\nDo you think about me now yeah\\nAll the time yeah\\nAll the time\\nI got no time to lose\\n내 길었던 하루\\n난 보고 싶어\\nRa-ta-ta-ta 울린 심장 (Ra-ta-ta-ta)\\nI got nothing to lose\\n널 좋아한다고\\nwooah wooah wooah\\nRa-ta-ta-ta 울린 심장 (Ra-ta-ta-ta)\\nBut I don't want to\\nStay in the middle\\nLike you a little\\nDon’t want no riddle\\n말해줘 say it back\\nOh say it ditto\\n아침은 너무 멀어\\nSo say it ditto\\nI don't want to\\nWalk in this 미로\\n다 아는 건 아니어도\\n바라던 대로\\n말해줘 Say it back\\nOh say it ditto\\nI want you so, want you\\nSo say it ditto\\nNot just anybody\\n너를 상상했지\\n항상 닿아있던\\n처음 느낌 그대로 난\\n기다렸지 all this time\\nI got nothing to lose\\n널 좋아한다고\\nwooah wooah wooah\\nRa-ta-ta-ta 울린 심장 (Ra-ta-ta-ta)\\nBut I don't want to\\nStay in the middle\\nLike you a little\\nDon’t want no riddle\\n말해줘 say it back\\nOh say it ditto\\n아침은 너무 멀어\\nSo say it ditto\\nI don't want to\\nWalk in this 미로\\n다 아는 건 아니어도\\n바라던 대로\\n말해줘 Say it back\\nOh say it ditto\\nI want you so, want you\\nSo say it ditto\\nWoo woo woo woo ooh\\nWoo woo woo woo\",\n",
       " '(1,2,3,4)\\nBaby, got me looking so crazy\\n빠져버리는 daydream\\nGot me feeling you\\n너도 말해줄래\\n\\n누가 내게 뭐라든\\n남들과는 달라 넌\\nMaybe you could be the one\\n\\n날 믿어봐 한번\\nI’m not looking for just fun\\nMaybe I could be the one\\n\\nOh baby\\n예민하대 나 lately\\n너 없이는 매일 매일이 yeah\\n재미없어 어쩌지\\n\\nI just want you\\nCall my phone right now\\nI just wanna hear you’re mine\\n\\n‘Cause I know what you like boy\\nYou’re my chemical hype boy\\n내 지난날들은\\n눈 뜨면 잊는 꿈\\nHype boy 너만 원해\\nHype boy 내가 전해\\n\\nAnd we can go high\\n말해봐 yeah\\n느껴봐 mm mm\\nTake him to the sky\\nYou know I hype you boy\\n\\n눈을 감아\\n말해봐 yeah\\n느껴봐 mm mm\\nTake him to the sky\\nYou know I hype you boy\\n\\n잠에 들려고 잠에 들려 해도\\n네 생각에 또 새벽 세 시 uh-oh\\n알려줄 거야 they can’t have you no more\\n봐봐 여기 내 이름 써있다고\\n누가 내게 뭐라든\\n남들과는 달라 넌\\nMaybe you could be the one\\n\\n날 믿어봐 한번\\nI’m not looking for just fun\\nMaybe I could be the one\\n\\nOh baby\\n예민하대 나 lately\\n너 없이는 매일 매일이 yeah\\n재미없어 어쩌지\\n\\nI just want you\\nCall my phone right now\\nI just wanna hear you’re mine\\n\\n‘Cause I know what you like boy\\nYou’re my chemical hype boy\\n내 지난날들은\\n눈 뜨면 잊는 꿈\\nHype boy 너만 원해\\nHype boy 내가 전해\\n\\nAnd we can go high\\n말해봐 yeah\\n느껴봐 mm mm\\nTake him to the sky\\nYou know I hype you boy\\n\\n눈을 감아\\n말해봐 yeah\\n느껴봐 mm mm\\nTake him to the sky\\nYou know I hype you boy',\n",
       " '가진 게 그리 많진 않아\\n어쩌면 많이 부족할지 몰라\\n가끔 나와 다투기도 하겠지만\\n주위를 둘러보면 네게\\n나보다 좋은 사람 많겠지만\\n널 사랑하는 맘\\n나 그것만큼은 자신 있는 걸\\n내리는 비를 막아 줄 수는 없지만\\n비가 오면 항상 함께 맞아 줄게\\n힘든 일이 있어도 기쁜 일이 있어도\\n함께 할게\\n물론 모든 걸 다 줄 수는 없지만\\n작은 행복에 미소 짓게 해 줄게\\n무슨 일이 있어도\\n너의 편이 돼줄게 언제까지나\\n세상이 그리 쉽지 않아\\n몇 번씩 넘어지곤 할지 몰라\\n꼭 잡은 두 손만 놓치지 않고선\\n함께 가면 돼\\n내리는 비를 막아 줄 수는 없지만\\n비가 오면 항상 함께 맞아 줄게\\n힘든 일이 있어도 기쁜 일이 있어도\\n함께 할게\\n물론 모든 걸 다 줄 수는 없지만\\n작은 행복에 미소 짓게 해 줄게\\n무슨 일이 있어도\\n너의 편이 돼줄게 언제까지나',\n",
       " '헤어지자고 말하려 오늘\\n너에게 가다가 우리 추억 생각해 봤어\\n처음 본 네 얼굴\\n마주친 눈동자\\n가까스로 본 너의 그 미소들\\n손을 잡고 늘 걷던 거리에\\n첫눈을 보다가 문득 고백했던 그 순간\\n가보고 싶었던 식당\\n난생처음 준비한 선물\\n고맙다는 너의 그 눈물들이\\n바뀔까 봐 두려워\\n그대 먼저 헤어지자 말해요\\n나는 사실 그대에게 좋은 사람이 아녜요\\n그대 이제 날 떠난다 말해요\\n잠시라도 이 행복을 느껴서 고마웠다고\\n시간이 지나고 나면 나는\\n어쩔 수 없을 걸 문득 너의 사진 보겠지\\n새로 사귄 친구 함께\\n웃음 띤 네 얼굴 보면\\n말할 수 없을 묘한 감정들이\\n힘들단 걸 알지만\\n그대 먼저 헤어지자 말해요\\n나는 사실 그대에게 좋은 사람이 아녜요\\n그대 이제 날 떠난다 말해요\\n잠시라도 이 행복을 느껴서 고마웠다고\\n한 번은 널 볼 수 있을까\\n이기적인 거 나도 잘 알아\\n그땐 그럴 수밖에 없던\\n어린 내게 한 번만 더 기회를 주길\\n그댈 정말 사랑했다 말해요\\n나는 사실 그대에게\\n좋은 사람이 되고 싶었어\\n영영 다신 못 본다 해도\\n그댈 위한 이 노래가\\n당신을 영원히 사랑할 테니',\n",
       " '눈물이 난다 이 길을 걸으면\\n그 사람 손길이 자꾸 생각이 난다\\n붙잡지 못하고 가슴만 떨었지\\n내 아름답던 사람아\\n사랑이란 게 참 쓰린 거더라\\n잡으려 할수록 더 멀어지더라\\n이별이란 게 참 쉬운 거더라\\n내 잊지 못할 사람아\\n사랑아 왜 도망가\\n수줍은 아이처럼\\n행여 놓아버릴까 봐\\n꼭 움켜쥐지만\\n그리움이 쫓아 사랑은 늘 도망가\\n잠시 쉬어가면 좋을 텐데\\n바람이 분다 옷깃을 세워도\\n차가운 이별의 눈물이 차올라\\n잊지 못해서 가슴에 사무친\\n내 소중했던 사람아\\n사랑아 왜 도망가\\n수줍은 아이처럼\\n행여 놓아버릴까 봐\\n꼭 움켜쥐지만\\n그리움이 쫓아 사랑은 늘 도망가\\n잠시 쉬어가면 좋을 텐데\\n기다림도 애태움도 다 버려야 하는데\\n무얼 찾아 이 길을 서성일까\\n무얼 찾아 여기 있나\\n사랑아 왜 도망가\\n수줍은 아이처럼\\n행여 놓아버릴까 봐\\n꼭 움켜쥐지만\\n그리움이 쫓아 사랑은 늘 도망가\\n잠시 쉬어가면 좋을 텐데\\n잠시 쉬어가면 좋을 텐데',\n",
       " '파이팅 해야지\\n파이팅\\n아뿔싸 일어나야지 아침인데\\n눈 감았다 뜨니 해가 중천인데\\n아침밥은 Pass 10분 더 자야 돼 Oh\\nTake-out coffee로 (아메 아메 아메 아메)\\nStory 속에 (친구들은 다 왜)\\n잘나 보여 (왜 나 나 나만 왜)\\n또 또 또 또 왜 아등바등 또 왜\\n이리저리 치여 왜 (I9 I9 I9 I9)\\n우린 다 이어폰 꽂은 Zombie\\n필요해 모두 다 텐션 Up pumpin’\\n힘을 좀 내어보자\\n우린 여러분의 부석순\\n반복되는 하루에\\n시작이 되는 이 노래\\n네 옆에서 불러주겠어\\n힘내야지 뭐 어쩌겠어\\n파이팅 해야지 파이팅 해야지\\nDon’t give it up Never give it up yeah\\n파이팅 해야지 파이팅 해야지\\n우린 부석순\\nAh 파이팅 해야지\\nStory 속에 (친구들은 다 왜)\\n잘나 보여 (왜 나 나 나만 왜)\\n또 또 또 또 왜 아등바등 또 왜\\n이리저리 치여 왜 (I9 I9 I9 I9)\\n우린 다 이어폰 꽂은 Zombie\\n필요해 모두 다 텐션 Up pumpin’\\n힘을 좀 내어보자\\n우린 여러분의 부석순\\n반복되는 하루에\\n시작이 되는 이 노래\\n네 옆에서 불러주겠어\\n힘내야지 뭐 어쩌겠어\\n파이팅 해야지 파이팅 해야지\\nDon’t give it up Never give it up yeah\\n파이팅 해야지 파이팅 해야지\\nOkay 모닝커피는 디카페인\\n일찍 일어나니 기분 뭣 같지\\n철없이 부재중 전화 제끼고\\nDance with ma laziness\\n굽은 등, 팔, 다리 전부 다 펴니\\nOoh I feel like I’m seventeen\\n일원도 보탬 안 되는\\n불행과 같이 살기에는 내 시간이 너무 아깝지 Man\\n힘을 내 힘을 내 힘을 내 힘을 내\\n힘을 내 힘을 내 힘을 내 힘을 내\\nY’all don’t deserve it\\nUnfortune is unnecessary\\n알다시피 인생은\\n원래 거지 같아\\n그러니 조금만 힘을 내\\n구겨진 인생을\\n연주하는 우린 비운의 베토벤\\n차분히 다음 악장을 연주해\\nWe got plenty more pages left to play\\n올라갔다 내려가는 주식같이\\n알다가도 모르겠는 인생 뭣 같지\\n한 템포 쉬고 물 한 모금 마시기\\n자 여기 있어 비타민 A B C\\n반복되는 하루에\\n시작이 되는 이 노래\\n네 옆에서 불러주겠어\\n힘내야지 뭐 어쩌겠어\\n파이팅 해야지 파이팅 해야지\\nDon’t give it up Never give it up yeah\\n파이팅 해야지 파이팅 해야지\\n우린 부석순\\nAh 파이팅 해야지\\nAh 파이팅 해야지',\n",
       " '이 노래는 it’s about you baby\\nOnly you\\nYou you you\\nYou you you you\\n내가 힘들 때\\n울 것 같을 때\\n기운도 이젠\\n나지 않을 때\\nIt’s you 날 걱정하네\\nIt’s you 날 웃게하네\\n말 안 해도 돼\\nBoy what do you say\\n(They keep on asking me, \"who is he?\")\\n멀리든 언제든지 달려와\\n(They keep on asking me, \"who is he?\")\\n바쁜 척도 없이 넌 나타나\\n(They keep on asking me, \"who is he?\")\\n이게 말이 되니 난 물어봐\\n(They keep on asking me, \"who is he?\")\\n너는 말야\\nHe’s the one that’s living in my system baby\\nOh my oh my God\\n예상했어 나\\nI was really hoping\\nThat he will come through\\nOh my oh my God\\n단 너뿐이야\\nAsking all the time about what I should do\\nNo I can never let him go\\n너만 생각나 24\\n난 행운아야 정말로 I know, I know\\n널 알기 전까지는 나\\n의미 없었어 전부 다\\n내 맘이 끝이 없는 걸 I know, I know\\nI’m going crazy right?\\n어디서든\\n몇 번이든\\nThere ain’t nothing else that I would hold on to\\nI hear his voice\\nThrough all the noise\\n잠시라도 내 손 놓지 마 no, no\\n걱정 없잖아\\n‘Cause I got someone\\n혼자라도 괜찮아\\n‘Cause I love someone\\n(They keep on asking me, \"who is he?\")\\n멀리든 언제든지 달려와\\n(They keep on asking me, \"who is he?\")\\n바쁜 척도 없이 넌 나타나\\n(They keep on asking me, \"who is he?\")\\n이게 말이 되니 난 물어봐\\n(They keep on asking me, \"who is he?\")\\n너는 말야\\nHe’s the one that’s living in my system baby\\nOh my oh my God\\n예상했어 나\\nI was really hoping\\nThat he will come through\\nOh my oh my God\\n단 너뿐이야\\nAsking all the time about what I should do\\nNo I can never let him go\\n너만 생각나 24\\n난 행운아야 정말로 I know, I know\\n널 알기 전까지는 나\\n의미 없었어 전부 다\\n내 맘이 끝이 없는 걸 I know, I know\\n너와 나\\nMy heart is glowing\\nIt’s glowing up\\n너랑만 있으면 무서울 게 없어\\n가득 메워진, 다 메워진 (붉어진)\\nMy heart is glowing, it’d be glowing\\n‘Cause he\\nOh my oh my God\\n예상했어 나\\nI was really hoping\\nThat he will come through\\nOh my oh my God\\n단 너뿐이야\\nAsking all the time about what I should do\\nNo I can never let him go\\nHe’s right there for me 24\\n난 행운아야 정말로 I know, I know\\n널 알기 전까지는 나\\n의미 없었어 전부 다\\n어떡해\\nMy heart is glowing, it’s glowing\\nMy heart is glowing up\\nSo I can’t sleep at night',\n",
       " '왜 이제 왔나요 더 야윈 그대\\n나만큼 힘들었나요\\n두 번 살게 하네요 그대 내 삶을\\n난 모든 걸 버리려 했죠\\n왜 나를 떠나요 아플 거면서\\n사랑이 여기 있는데\\n다신 그러지 마요 내가 죽어요\\n그댄 나의 숨이니까요\\n나 그댈 잃는다는 건\\n내 삶이 다한 것 살아도 지옥인 거죠\\n그댄 나의 전부 그댄 나의 운명\\n헤어질 수 없어요\\n영원보다 먼 곳에 우리 사랑 가져가요\\n눈물 없는 세상 나의 사랑 하나로만\\n그대 살게 할게요\\n그대와 나 영원히 행복할 그곳\\nHeaven\\n울어도 되나요 그대 앞에서\\n고마워 눈물이 나요\\n기다렸던 날들이 너무나 아파서\\n그대 다시 미워지네요\\n사랑을 버린다는 건 모든 걸 잃는 것\\n상처만 남기잖아요\\n그댄 나의 전부 그댄 나의 운명\\n헤어질 수 없어요\\n영원보다 먼 곳에 우리 사랑 가져가요\\n눈물 없는 세상 나의 사랑 하나로만\\n그대 살게 할게요\\n그대와 나 영원히 행복할 그곳\\nHeaven\\n그댄 나의 전부 그댄 나의 운명\\n헤어질 수 없어요\\n영원보다 먼 곳에 우리 사랑 가져가요\\n눈물 없는 세상 나의 사랑 하나로만\\n그대 살게 할게요\\n그대와 나 영원히 행복할 그곳\\nHeaven',\n",
       " '잊지는 말아요 함께 했던 날들\\n눈물이 날 때면\\n그대 뒤를 돌아보면 돼요\\n아프지 말아요 쓸쓸한 마음에\\n힘든 일이 참 많았죠 그대에겐\\n내가 곁에 있을게요\\n그댈 위해 노래할게요\\n잊지 말아요\\n그댈 위해 약속할게요\\n언젠가 우리 시간 지나면\\n알게 되겠죠\\n그땐 웃을 수 있죠 나 약속할게요\\n그땐 미소 짓겠죠\\n작은 행복까지 모두\\n외롭고 지칠 때 손잡아 줄게요\\n슬픔이 짙어질 때면 위로해 줄\\n그 한 사람이 될게요\\n그대 부디 울지 말아요\\n슬퍼 말아요\\n그대에게 빛이 될게요\\n언젠가 우리 시간 지나면\\n알게 되겠죠\\n그땐 웃을 수 있죠 나 약속할게요\\n폭풍 속에 혼자 남아 헤매도 오\\n길이 되어 지킬게요 그대\\n그댈 위해 노래할게요\\n잊지 말아요\\n그댈 위해 약속할게요\\n어두운 길을 밝게 비추는\\n그대의 빛이 될게요',\n",
       " 'STAYC girls it’s going down\\nSTAYC !\\n남의 말은 짜릿해\\n앞뒤로들 Make a fool\\n내가 볼 땐 아닌데\\n자기들만 Act so cool\\n상상은 자윤데 No way\\n진짜라고 믿거든\\n왜 자꾸 돌아가려 해\\n답답해 How can I say\\n서두르지 마 No hurries\\nAnyway anyway\\n우린 다 이번 생은 처음이잖아\\n정답은 없어 One hunnit\\n그런 기대감 내려놔 실망도 크니까\\nQuiet please 비행기 모드로\\n편히 앉아 불필요한 말 속으로\\n내가 원할 때만 버튼 Ooh yeah\\nYeah yeah yeah yeah\\n바라만 봐 Just like\\nTeddy Bear ooh\\nTeddy Bear ooh\\nTeddy Bear ooh yeah\\nPump pump pump pump it up\\nTeddy Bear\\nNo no no 멋이 없어 매일매일\\n똑똑 말로만 So good\\n뻔뻔해 넌 마치 Like J J\\nBang bang\\nDon’t talk about it\\nbe about it or you will lose\\n욕심이 과해\\nAlways wake it up, it’s your 꿈\\n서두르지 마 No hurries\\nAnyway anyway\\n우린 다 이번 생은 처음이잖아\\n정답은 없어 One hunnit\\n그런 기대감 내려놔 실망도 크니까\\nQuiet please 비행기 모드로\\n편히 앉아 불필요한 말 속으로\\n내가 원할 때만 버튼 Ooh yeah\\nYeah yeah yeah yeah\\n바라만 봐 Just like\\nTeddy Bear ooh\\nTeddy Bear ooh\\nTeddy Bear ooh yeah\\nPump pump pump pump it up\\nTeddy Bear\\n모드를 확실히 해\\n걱정이 아니면 참견\\nCall it now call it now\\n질투일지도 몰라\\n잘 하고 있는 건 나\\nSo keep it down 네가 원하는 건 뭘까\\nQuiet please 비행기 모드로\\n편히 앉아 불필요한 말 속으로\\n내가 원할 때만 버튼 Ooh yeah\\nYeah yeah yeah yeah\\n바라만 봐 Just like\\nTeddy Bear ooh\\nTeddy Bear ooh\\nTeddy Bear ooh yeah\\nPump pump pump pump it up\\nTeddy Bear',\n",
       " '생각이 많은 건 말이야\\n당연히 해야 할 일이야\\n나에겐 우리가 지금 1순위야\\n안전한 유리병을 핑계로\\n바람을 가둬 둔 것 같지만\\n\\n기억나? 그날의 우리가\\n잡았던 그 손엔 말이야\\n설레임보다 커다란 믿음이 담겨서\\n난 함박웃음을 지었지만\\n울음이 날 것도 같았어\\n소중한 건 언제나 두려움이니까\\n\\n문을 열면 들리던 목소리\\n너로 인해 변해있던 따뜻한 공기\\n여전히 자신 없지만 안녕히\\n\\n저기, 사라진 별의 자리\\n아스라이 하얀 빛\\n한동안은 꺼내 볼 수 있을 거야\\n아낌없이 반짝인 시간은\\n조금씩 옅어져 가더라도\\n너와 내 맘에 살아 숨 쉴 테니\\n\\n\\n여긴, 서로의 끝이 아닌\\n새로운 길 모퉁이\\n익숙함에 진심을 속이지 말자\\n하나 둘 추억이 떠오르면\\n많이 많이 그리워할 거야\\n고마웠어요 그래도 이제는\\n사건의 지평선 너머로\\n\\n솔직히 두렵기도 하지만\\n노력은 우리에게 정답이 아니라서\\n마지막 선물은 산뜻한 안녕\\n\\n저기, 사라진 별의 자리\\n아스라이 하얀 빛\\n한동안은 꺼내 볼 수 있을 거야\\n아낌없이 반짝인 시간은\\n조금씩 옅어져 가더라도\\n너와 내 맘에 살아 숨 쉴 테니\\n\\n여긴, 서로의 끝이 아닌\\n새로운 길 모퉁이\\n익숙함에 진심을 속이지 말자\\n하나 둘 추억이 떠오르면\\n많이 많이 그리워할 거야\\n고마웠어요 그래도 이제는\\n사건의 지평선 너머로\\n\\n저기, 사라진 별의 자리\\n아스라이 하얀 빛\\n한동안은 꺼내 볼 수 있을 거야\\n아낌없이 반짝인 시간은\\n조금씩 옅어져 가더라도\\n너와 내 맘에 살아 숨 쉴 테니\\n\\n여긴, 서로의 끝이 아닌\\n새로운 길 모퉁이\\n익숙함에 진심을 속이지 말자\\n하나 둘 추억이 떠오르면\\n많이 많이 그리워할 거야\\n고마웠어요 그래도 이제는\\n사건의 지평선 너머로\\n\\n사건의 지평선 너머로',\n",
       " \"불꺼진 romantic all my life\\n내 주위는 온통 lovely day\\n내 눈 속에 비친 arrow sign\\n(oh why oh why, oh why oh why)\\nI’m feeling lonely (lonely)\\n그만 힐끗대고 말해줘요\\nhold me (hold me)\\n다시 crying in my room\\n숨기고 싶어 (say what you say\\nbut I want it more)\\nBut still I want it more, more, more\\nI gave a second chance to Cupid\\n널 믿은 내가 정말 stupid\\n보여줄게 숨겨왔던 love, is it real?\\nCupid is so dumb\\n또 꿈길을 걷는 everyday\\n눈 뜨면 다시 또 flew away\\nWaiting around is a waste (waste)\\n나 솔직히 지금이 편해\\n상상만큼 짜릿한 걸까?\\nNow I’m so lonely (lonely)\\n매일 꿈속에서 연습했죠\\nkiss me (kiss me)\\n다시 crying in my room\\n포기할까봐 (say what you say\\nbut I want it more)\\nBut still I want it more, more, more\\nI gave a second chance to Cupid\\n널 믿은 내가 정말 stupid\\n보여줄게 숨겨왔던 love, is it real?\\nCupid is so dumb\\nI'm so lonely hold me tightly\\n짜릿한 걸 원해\\nwho will really love me truly\\n내게 기다림은 없어 I can’t wait\\n더는 믿지 않아 now\\nI’m gonna make it mine\\nLove is a light I’ll show my love is right\\nIt’s not a joke\\nso give it to me right now\\nNo more chance to you\\nYou know? Hey, d-d-d-dumb boy\\n꿈속에 매일 밤 someone\\nwho will share this feeling\\nI’m a fool, a fool for love,\\na fool for love\\nI gave a second chance to Cupid\\n널 믿은 내가 정말 stupid\\n보여줄게 숨겨왔던 love, is it real?\\nCupid is so dumb\\nI gave a second chance to Cupid\\n널 믿은 내가 정말 stupid\\n다시 한번 못 들은 척 기회를 줄게\\nCupid is so dumb\",\n",
       " '너를 위해 해 줄 것이 하나 없어서\\n보낼 수밖에 없었고\\n네가 없이 사는 법을 알지 못해서\\n순간순간을 울었다\\n후회로 가득한 한숨 자락이\\n시린 바람처럼\\n가슴 치는 날 그 언젠가\\n우리 만날 수 있을까\\n다시 만날 수 있을까\\n그리 좋던 예전처럼 그때처럼\\n되돌아갈 수 있을까\\n다시 우리가 만나면\\n무엇을 해야만 할까\\n서로를 품에 안고서\\n하염없이 눈물만 흘려볼까\\n붙잡을 마음이야 없었겠냐마는\\n그때 난 부끄러웠다\\n떳떳하게 일어나 널 다시 찾아갈\\n뜨거운 꿈만 꾸었다\\n둘이 함께 했던 순간순간이\\n시린 폭포처럼\\n쏟아지는 날 그 언젠가\\n우리 만날 수 있을까\\n다시 만날 수 있을까\\n그리 좋던 예전처럼 그때처럼\\n되돌아갈 수 있을까\\n다시 우리가 만나면\\n무엇을 해야만 할까\\n서로를 품에 안고서\\n하염없이 눈물만 흘려볼까\\n그리운 마음이 서럽게 흘러넘쳐\\n너에게 닿을 때\\n우리 만날 수 있을까\\n다시 만날 수 있을까\\n그리 좋던 예전처럼 그때처럼\\n되돌아갈 수 있을까\\n다시 우리가 만나면\\n무엇을 해야만 할까\\n서로를 품에 안고서\\n하염없이 눈물만 흘려볼까',\n",
       " \"Get her name and get her number\\nFind out all of the things\\nthat we have in common\\nNever all the differences,\\noh, yeah\\nMeet her parents, meet her brother\\nThen she starts sleepin'\\nover the crib on weekends\\nLike a real relationship, oh, no\\nFor me, the stars are alignin'\\nBut for her, it's bad timin'\\nSo she just can't be mine\\nI don't think\\nthat I like her anymore\\nCause they're all the same\\nAll they wanna do is break\\nmy heart, my heart (Oh-oh)\\nI don't think\\nthat I like her anymore\\nCause they're all the same\\nThey just wanna see me\\nfall apart, apart (Oh-oh)\\nSo I hook up on a rebound\\nAnd I say that I'm gonna be\\nsingle for life\\nBut she's so pretty\\nand nice (Pretty and nice)\\nSo I made just one exception\\nBut I find out eventually\\nI'm not her type\\nBaby, that's the reason why, that\\nFor me, the stars are alignin'\\nBut for her, it's bad timin'\\nSo she just can't be mine\\nI don't think\\nthat I like her anymore (Yeah)\\nCause they're all the same\\nAll they wanna do is break\\nmy heart, my heart (Oh-oh)\\nI don't think\\nthat I like her anymore (No)\\nCause they're all the same\\nThey just wanna see me\\nfall apart, apart (Oh-oh)\\nI'm trying not to be bitter\\nBut damn it, I miss her\\n'Cause she's one of a kind\\nFor me, the stars are alignin'\\nBut for her, it's bad timin'\\nSo she just can't be mine\\nI don't think\\nthat I like her anymore\\nCause they're all the same\\nAll they wanna do is break\\nmy heart, my heart (Oh-oh)\\nI don't think\\nthat I like her anymore\\nCause they're all the same\\nThey just wanna see me\\nfall apart, apart (Oh-oh)\\nThen we fall,\\nwe fall, fall, fall apart now\\nI don't think\\nthat I like her anymore\\nCause they're all the same\\nThey just wanna see me\\nfall apart, apart (Oh-oh)\",\n",
       " '꿈에 그리던 그곳 난 여기 있어\\n저 푸른 바다 위로 널 닮은 하늘\\nI’m in London oh,\\nI’m in London, yeah\\n드넓은 공원 안에 널 담은 향기\\n가는 모든 곳마다 난 네가 보여\\nI’m in London,\\nyeah, I’m in London, oh\\n나지막한 소리가 들려와\\n수많은 별들 사이 너에게\\nBaby baby baby my baby\\n세상 누구보다 널 사랑해\\n모든 힘 다해 너를 불러\\nHold me tight baby,\\nyou’re my everything\\n널 만나고 난 변했어\\n세상 누구보다 널 사랑해\\n모든 힘 다해 너를 불러\\nI’m London, London Boy\\nOh oh no no no\\nLondon Boy yeah\\n셰익스피어, 처칠, 비틀즈, 숀 코네리\\n해리포터, 데이비드 베컴 모든 게 있어\\nBaby You are my London Girl\\n행복은 너와 함께 즐기는 거야\\n내 모든 걸 다 줘도 아깝지 않아\\n너는 내게, Oh\\n그런 사람, Oh\\n나지막한 소리가 들려와\\n수많은 별들 사이 너에게\\nBaby baby baby my baby\\n세상 누구보다 널 사랑해\\n모든 힘 다해 너를 불러\\nHold me tight baby,\\nyou’re my everything\\n널 만나고 난 변했어\\n세상 누구보다 널 사랑해\\n모든 힘 다해 너를 불러\\nI’m London, London Boy\\n널 만나고 내가 변했다\\nOh, I’m London Boy\\nBaby baby baby my baby\\n세상 누구보다 널 사랑해\\n모든 힘 다해 너를 불러\\nHold me tight baby,\\nyou’re my everything\\n널 만나고 난 변했어\\n세상 누구보다 널 사랑해\\n모든 힘 다해 너를 불러\\nI’m London, London Boy\\nLa la la la la la la la\\nLa la la la la la la la\\nLa la la la la la la la\\nI’m London, London Boy',\n",
       " '그때 널 만나지 않았더라면\\n지금의 우린 어디에 있을까\\n가장 예쁠 때의 너를 만나서\\n누가 뭐라 해도 뭐든 견딜 수가 있었어\\n빛이 나는 널 위해 많은 걸\\n놓아야만 한대도\\n괜찮아 난\\n알잖아 넌 내 전부였던 걸\\n날 잊어버릴 만큼 행복했어\\n괜찮아 내 모든 걸 잃어도\\n눈부시게 빛나는 널 볼 수만 있다면\\n봄날처럼 아름다웠어\\n너와 나는 한 폭의 그림처럼\\n돌이킬 수 없는 시간\\n새겨진 한 장면 속에\\n그림자조차 눈부셨으니까\\n빛이 났던 우리의 기억이\\n점점 사라진대도\\n괜찮아 난\\n알잖아 넌 내 전부였던 걸\\n날 잊어버릴 만큼 행복했어\\n괜찮아 내 모든 걸 잃어도\\n눈부시게 빛나는 널 볼 수만 있다면\\n깜깜했던 어둠 속\\n환하게 날 비추던 네가 보여\\n그 끝에 널 만났어\\n아무렇지 않은 듯\\n괜찮아 난\\n고마워 네가 전부였던 건\\n세상을 가진 만큼 행복했어\\n괜찮아 내 모든 걸 잃어도\\n눈부시게 빛나는 널 볼 수만 있다면',\n",
       " '별들이 짙던 밤 하늘에 약속한 고백\\n아직도 맘에\\n당연하듯 남아 있어요\\n어제 일같이 선명하네요\\n가슴 저리는 게 사랑이 아니라\\n그 누가 뭐라던가, 오\\n심장이 뛰는데 아프게 뛰는데\\n이게 사랑인 거야\\n운명 같은 밤 너를 만나\\n영원하자고 외쳤던 그 밤\\n네가 날 잊어도\\n난 널 꺼내 볼 테니까 언제나\\n내 맘속 사진첩 한 켠엔 그대가 있지\\n참 행복했지 때론 아픈 날이 있어도\\n버릴 수 없는 추억이 됐지\\n가슴 저리는 게 사랑이 아니라\\n그 누가 뭐라던가, 오\\n심장이 뛰는데 아프게 뛰는데\\n이게 사랑인 거야\\n운명 같은 밤 너를 만나\\n영원하자고 외쳤던 그 밤\\n네가 날 잊어도\\n난 널 꺼내 볼 테니까 언제나\\n우~ 예~\\n우~\\n네가 날 잊어도\\n난 널 꺼내 볼 테니까 언제나\\n한 장씩 널 기억하며 보낼게\\n우리 모든 순간 가슴 떨리던 날\\n모든 날이 따스하게 감싸준\\n널 사랑했다\\n운명 같은 밤 너를 만나\\n셀 수 없이 많은 날 함께 했지\\n사랑했어요 아주 많이\\n사진첩 속의 그대여\\n영원히 기억할게 시간이 지나도\\n언제나',\n",
       " \"또 모르지 내 마음이\\n저 날씨처럼 바뀔지\\n날 나조차 다 알 수 없으니\\n그게 뭐가 중요하니\\n지금 네게 완전히\\n푹 빠졌단 게 중요한 거지\\n아마 꿈만 같겠지만\\n분명 꿈이 아니야\\n달리 설명할 수 없는\\n이건 사랑일 거야\\n방금 내가 말한 감정\\n감히 의심하지 마\\n그냥 좋다는 게 아냐\\nWhat's after 'LIKE'?\\nYou and I\\nIt's more than 'LIKE'\\nL 다음 또 O 다음 난 yeah\\nYou and I\\nIt's more than 'LIKE'\\nWhat's after 'LIKE'?\\nWhat's after 'LIKE'?\\n조심해 두 심장에 핀\\n새파란 이 불꽃이\\n저 태양보다 뜨거울 테니\\n난 저 위로 또 아래로\\n내 그래프는 폭이 커\\nYeah that's me\\n두 번 세 번 피곤하게\\n자꾸 질문하지 마\\n내 장점이 뭔지 알아?\\n바로 솔직한 거야\\n방금 내가 말한 감정\\n감히 의심하지 마\\n그냥 좋다는 게 아냐\\nWhat's after 'LIKE'?\\nYou and I\\nIt's more than 'LIKE'\\nL 다음 또 O 다음 난 yeah\\nYou and I\\nIt's more than 'LIKE'\\nWhat's after 'LIKE'?\\nWhat's after 'LIKE'?\\nWhat after like 내 맘에 strike\\n지금 느낀 짜릿함은 마치 tike\\nLO 다음에 I 그 다음에 VE\\n여긴 너와 내 space\\n아무도 막지 못해\\n나를 보면 눈 깜빡할\\n시간 조차도 아까울 걸\\n드디어 만나 반가워\\nLOVE 사이 놓일 I\\n(What's after 'LIKE'?)\\nYou and I\\nIt's more than 'LIKE'\\nE 앞 또 V 앞 난 yeah\\nYou and I\\nIt's more than 'LIKE'\\nWhat's after 'LIKE'?\\nYou and I\\nIt's more than 'LIKE'\\nL 다음 또 O 다음 난 yeah\\nYou and I\\nIt's more than 'LIKE'\\nWhat's after 'LIKE'?\\nWhat's after 'LIKE'?\",\n",
       " '무얼 믿은 걸까 부족했던 내게서\\n나조차 못 믿던 내게 여태 머문 사람\\n무얼 봤던 걸까 가진 것도 없던 내게\\n무작정 내 손을 잡아 날 이끈 사람\\n최고였어\\n그대 눈 속에 비친 내 모습\\n이제는 내게서 그댈 비춰줄게\\n궂은 비가 오면\\n세상 가장 큰 그대 우산이 될게\\n그댄 편히 걸어가요\\n걷다가 지치면\\n내가 그대를 안고 어디든 갈게\\n이제 나만 믿어요\\n나만 두고 가던\\n나만 스쳐 간 행운이 모여\\n그대가 되어서 내게 와준 거야\\n궂은 비가 오면\\n세상 가장 큰 그대 우산이 될게\\n그댄 편히 걸어가요\\n걷다가 지치면\\n내가 그대를 안고 어디든 갈게\\n이제 나만 믿어요\\n나의 마지막 주인공이 되어\\n다신 누구 앞에서도\\n그대는 고개 숙이지 마요\\n내가 보지 못했던 홀로 고단했던 시간\\n고맙고 미안해요 사랑해요\\n이 세상은\\n우리를 두고 오랜 장난을 했고\\n우린 속지 않은 거야\\n이제 울지 마요\\n좋을 땐 밤새도록 맘껏 웃어요\\n전부 그대 꺼니까\\n그대는 걱정 말아요\\n이제 나만 믿어요',\n",
       " \"This is gonna hurt\\nbut I blame myself first\\ncause I ignored the truth\\nDrunk off that love my head up\\nthere's no forgetting you\\nYou've awoken me\\nbut you're choking me\\nI was so obsessed\\nGave you all of me\\nand now honestly\\nI've got nothing left\\nI loved you dangerously\\nMore than the air that I breathe\\nKnew we would crash at the\\nspeed that we were going\\nDidn't care if the explosion\\nruined me\\nBaby I loved you dangerously\\nI loved you dangerously\\nUsually I hold the power with\\nboth my hands tied behind my back\\nLook at how things change\\ncause now you're the train\\nand I'm tied to the track\\nYou've awoken me\\nbut you're choking me\\nI was so obsessed\\nGave you all of me and now\\nhonestly I've got nothing left\\nCause I loved you dangerously\\nMore than the air that I breathe\\nKnew we would crash at the\\nspeed that we were going\\nDidn't care if the explosion\\nruined me\\nBaby I loved you dangerously\\nYou took me down\\ndown down down\\nAnd kissed my lips with goodbye\\nI see you now now now now\\nIt was a matter of time\\nYou know I know\\nthere's only one place\\nthis could lead\\nBut you are the fire\\nI'm gasoline\\nI love you I love you I love you\\nI loved you dangerously\\nMore than the air that I breathe\\nOh now I knew we would crash at\\nthe speed that we were going\\nDidn't care if the explosion\\nruined me\\nOh oh baby I loved you\\ndangerously\\nOo I loved you dangerously\\nOo oo I loved you dangerously\",\n",
       " '요즘엔 썸이라는 단어를 난 쓰지 않아\\n친구란 완벽한 단어로 숨길 수가 있지\\n사랑이 좀처럼 내키지 않아 난 이대로\\n아슬아슬하게 선을 넘어\\n벚꽃이 피면 또 같은 곳에 서 있겠지\\n분홍빛으로 물든 계절을 함께하며\\n꽃잎이 하나 둘 셋\\n시간이 하나 둘 셋\\nCherry Blossom 내 손을 잡아 넌\\n아무렇지 않지 않게 웃어버리면\\n사랑일까 널 바라보며 난\\n고개를 들어 입 맞춰버린 거야 이제 난\\nFRIEN(D) THE END\\nFRIEN(D) THE END\\nFRIEN(D) THE END\\nTHE END\\n벚꽃이 피면 또 같은 곳에 서 있겠지\\n분홍빛으로 물든 계절을 함께하며\\n꽃잎이 하나 둘 셋\\n시간이 하나 둘 셋\\nCherry Blossom 내 손을 잡아 넌\\n아무렇지 않지 않게 웃어버리면\\n사랑일까 널 바라보며 난\\n고개를 들어 입 맞춰버린 거야 이제\\n숨길 수 없는가 봐\\n널 좋아하는 게\\n네 곁에 있을 때 자꾸 맘이 아픈 게\\n꽃잎이 떨어지네\\n우리 머리 위로\\n웃음이 터져버린 거야 This is love\\nCherry Blossom 내 손을 잡아 넌\\n아무렇지 않지 않게 웃어버리면\\n사랑일까 널 바라보며 난\\n고개를 들어 입 맞춰버린 거야 이제 난\\nFriend the end 하얀 Blossom\\nFriend the end Cherry Blossom\\nFRIEN(D) THE END\\nFRIEN(D) THE END\\nFRIEN(D) THE END\\nTHE END',\n",
       " '오늘 하루 어땠었나요\\n많이 힘들었나요\\n쉬지 않고 달려왔던 길에서\\n나와 함께 쉬어가요\\n그냥 아무런 준비도 없이\\n떠나볼까요\\n평범해도 좋으니까\\n우리 함께 가요\\nDu Du Du Du Du\\n행복 가득 담은 배낭 하나 메고서\\n답답했던 일상과 도심을 벗어나\\nDu Du Du Du\\nDu Du Du Du\\n떠나볼래요\\n힘껏 살다 보니 무뎌져\\n헝클어진 머리도\\n괜찮다며 그댈 안아줄 사람\\n바로 그대 곁에 있죠\\n까만 선글라스 하나 챙겨서\\n떠나볼까요\\n평범해도 좋으니까\\n우리 함께 가요\\nDu Du Du Du Du\\n행복 가득 담은 배낭 하나 메고서\\n답답했던 일상과 도심을 벗어나\\nDu Du Du Du\\nDu Du Du Du\\n떠나볼래요\\n우리 함께 가요\\nDu Du Du Du Du\\n행복 가득 담은 배낭 하나 메고서\\n답답했던 일상과 도심을 벗어나\\nDu Du Du Du\\nDu Du Du Du\\n떠나볼래요\\n우리 함께 가요\\nDu Du Du Du Du\\nDu Du Du Du\\nDu Du Du Du\\n떠나볼래요\\nDu Du Du Du\\nDu Du Du Du\\n떠나볼래요\\nDu Du Du Du\\nDu Du Du Du\\n지금 떠나요',\n",
       " 'So time is yet now\\nRight here to go\\nI know you know\\nAnything does know\\nSo time is yet now\\nRight here to go\\nNobody doesn’t know anymore\\n사랑이라는 말\\n어쩌면 순간의 감정의 나열\\n조건이 붙지 나는 무얼 사랑하는가\\n충분히 사랑받지 못한 아이\\n그래서 무엇보다 신중한 타입\\n나는 말야 원해 진중한 사이\\n알잖아 영원은 모래성\\n잔잔한 파도에도 힘없이 쉽게 무너져\\n상실은 무엇 때문에 슬픈 걸까\\n사실은 두려운 게 슬픈 거야\\nSo far away, you’re gone\\nGetting far away\\nToo far away, you’re gone\\nI know I have to know\\nSo time is yet now\\nRight here to go\\nI know you know\\nAnything does know\\nSo time is yet now\\nRight here to go\\nNobody doesn’t know anymore\\n당신은 무엇 땜에 슬픈 걸까\\n사실은 두려움이 큰 거잖아\\n함께 미래를 그리던 우리는 없고\\n쌓은 모래성들을\\n부숴 버린 것은 우린 거야\\n승패가 없는 게임이라지만\\n난 언제나 game loser\\n모든 걸 주겠다던 우린 모든 것을 부셔\\n그리고 떠나지 사랑이든 사람이든\\n모두가 이기적이기 때문이야\\nSo far away, you’re gone\\nGetting far away\\nToo far away, you’re gone\\nI know I have to know\\nSo time is yet now\\nRight here to go\\nI know you know\\nAnything does know\\nSo time is yet now\\nRight here to go\\nNobody doesn’t know anymore\\n떠가는 사람 떠가는 사랑\\n사랑의 끝은 과연 무엇일까\\n수많은 사람 스쳐간 사랑\\n사랑은 사랑으로 완벽할까\\n그래 말야 이타적인 게 어쩌면\\n되려 이기적이네\\n널 위해 한다는 말은 곧 내 욕심이기에\\n욕심을 버리면 행복해질 건가\\n채우지 못한 반쪽짜리 허상\\n삶은 저항과 복종 사이의 싸움이라는데\\n내가 보기에는 외로움들과의 싸움이네\\n눈물이 터져 나오면 그대 울어도 돼\\n(울어도 돼)\\n당신은 사랑받기에도 이미 충분한데\\nSo time is yet now\\nRight here to go\\nI know you know\\nAnything does know\\nSo time is yet now\\nRight here to go\\nNobody doesn’t know anymore',\n",
       " '한땐 너를 사랑했지만\\n네 곁에 있는 사랑이\\n너무 아름다워 보기 좋았었기에\\n잘 되길 바래왔는데\\n많은 축복에 둘러싸인\\n행복한 그 사람 곁에\\n이젠 네가 아닌 다른 그의 사랑이\\n또다시 날 아프게 해\\n미안해 너를 위해 기대어줄\\n가슴 밖에 빌려줄 수 없는 나인걸\\n슬퍼하는 너를 위해서\\n해줄게 남아 있다면\\n무엇이든 다 얘길 해주길 바래\\n나 기다리고 있을게\\n야윈 그대 안에 눈물이\\n마르는 그날이 오면\\n웃으며 다시 그댈 보내줄게요\\n사랑하니까\\n슬퍼하는 너를 위해서\\n해줄게 남아 있다면\\n무엇이든 다 얘길 해주길 바래\\n나 기다리고 있을게\\n야윈 그대 안에 눈물이\\n마르는 그날이 오면\\n웃으며 다시 그댈 보내줄게요\\n사랑하니까',\n",
       " '하얀 머리 뽑아 달라며\\n한 개 백 원이라던\\n그 시절 다 지나가고\\n이젠 흰 눈만 남았네\\n그렇게도 힘이 드냐며\\n나를 위로하시다\\n어느새 잠들어버린\\n주름만 남은 내 아버지\\n세상이 아무리 힘들어도\\n당신 있으면 견딜 것 같아\\n오래오래 날 지키며\\n그냥 곁에만 있어 주세요\\n활짝 웃는 모습이 어린애 같아 보여도\\n아프다 말도 못 하는 사람\\n이제는 내가 지켜줄게\\n어린아이로 돌아가 버린\\n사랑하는 내 아버지\\n오래오래 날 지키며\\n그냥 곁에만 있어 주세요\\n활짝 웃는 모습이\\n어린애 같아 보여도\\n아프다 말도 못 하는 사람\\n이제는 내가 지켜줄게\\n어린아이로 돌아가 버린\\n사랑하는 내 아버지\\n사랑해요 내 아버지',\n",
       " \"Anti ti ti ti fragile fragile\\nAnti ti ti ti fragile\\nAnti ti ti ti fragile fragile\\nAntifragile antifragile\\n가시밭길 위로 riding\\nyou made me boost up\\n거짓으로 가득 찬 party\\n가렵지도 않아\\n내 뒤에 말들이 많아\\n나도 첨 듣는 내 rival\\n모두 기도해 내 falling\\n그 손 위로 I’mma jump in\\nYes gimme that\\n걸어봐 위엄 like a lion\\n눈빛엔 거대한 desire\\n더 부어 gasoline on fire\\n불길 속에 다시 날아 rising\\n잊지 마 내가 두고 온 toe shoes\\n무슨 말이 더 필요해\\n무시 마 내가 걸어온 커리어\\nI go to ride till I die die\\n더 높이 가줄게\\n내가 바랐던 세계 젤 위에\\n떨어져도 돼\\nI’m antifragile antifragile\\n난 지금 on my way 갖다버려 줘\\n너의 fairy tale\\nNow you know my name\\nI’m antifragile antifragile\\nAnti ti ti ti fragile fragile\\nAnti ti ti ti fragile\\nAnti ti ti ti fragile fragile\\nAntifragile antifragile\\n“Lovey lovey lovey\\ndovey dovey dovey”\\n멋대로 정하네 나란 애에 대해\\nI don't know what to say\\nI can't feel it\\n뜨거운 관심은 환영\\n귀여운 질투는 go ahead\\n줄 달린 인형은 no thanks\\n내 미랠 쓸 나의 노래\\nYes gimme that\\n걸어봐 위엄 like a lion\\n눈빛엔 거대한 desire\\n더 부어 gasoline on fire\\n불길 속에 다시 날아 rising\\n잊지 마 내가 두고 온 toe shoes\\n무슨 말이 더 필요해\\n무시 마 내가 걸어온 커리어\\nI go to ride till I die die\\n더 높이 가줄게\\n내가 바랐던 세계 젤 위에\\n떨어져도 돼\\nI’m antifragile antifragile\\n난 지금 on my way 갖다버려 줘\\n너의 fairy tale\\nNow you know my name\\nI’m antifragile antifragile\\nAnti ti ti ti fragile fragile\\nAnti ti ti ti fragile\\nAnti ti ti ti fragile fragile\\nAntifragile antifragile\\nWe can break it baby\\nRock it twist it lock it baby\\nAll I know is you can’t chain me\\n‘Cause I’m gonna break out\\ngonna gonna break out out\\nWe can break it baby\\nRock it twist it lock it baby\\nAll I know is you can’t chain me\\n'Cause I’m gonna break out\\ngonna gonna break out out\\n더 높이 가줄게\\n내가 바랐던 세계 젤 위에\\n떨어져도 돼\\nI’m antifragile antifragile\\n난 지금 on my way 갖다버려 줘\\n너의 fairy tale\\nNow you know my name\\nI’m antifragile antifragile\\nAnti ti ti ti fragile fragile\\nAnti ti ti ti fragile\\nAnti ti ti ti fragile fragile\\nAntifragile antifragile\",\n",
       " '이런 빌어먹을 세상\\n이런 빌어먹을 세상 나만 혼자 바보 됐어\\n갈 길을 잃은 채 갈 곳을 잃은 채\\n나만 바보 됐어\\n잊어버리자 이렇게 웃어 버리자 이렇게\\n되도 않는 위로를 해봐도\\n집에 돌아가는 길에 울컥\\n울고 싶어 계속 Wuh Uh Uh\\n사라져 가는 내 모습을\\n다시 찾고만 싶을 뿐\\n어릴 때 만화영화에 나오는 주인공은 왜\\n내가 될 수 없는지 내 맘은 아주 검은색\\n나와 하루만 심장 바꿔 줄 사람 어디도 없나\\n이런 빌어먹을 세상 나만 혼자 바보 됐어\\n갈 길을 잃은 채 갈 곳을 잃은 채\\n나만 바보 됐어\\n지금부터 Fight For My Life\\n나를 위해 Fight For My Life\\n무뎌짐이 익숙한 세상에서\\n이제 나는 나를 찾고 싶어\\n점점 난 지쳐가 혼자서 꾸는 꿈\\n이젠 너무나 지겨워 그만두고 싶어\\n난 나에게 어제 나에게\\n부끄러운 내일이 되고 싶지 않아\\n되도 않는 다짐을 해봐도\\n바보 같은 내 모습이 우스워\\n울고 싶어 계속 Wuh Uh Uh\\n세상에 맘이 무뎌져서 내가 작아지는 기분\\n말할 수 없는 비밀이 또다시 눈물이 되지\\n난 부끄러워서 누구에게도 말을 못 했지\\n나와 하루만 심장 바꿔 줄 사람 어디도 없나\\n이런 빌어먹을 세상 나만 혼자 바보 됐어\\n갈 길을 잃은 채 갈 곳을 잃은 채\\n나만 바보 됐어\\n지금부터 Fight For My Life\\n나를 위해 Fight For My Life\\n무뎌짐이 익숙한 세상에서\\n이제 나는 나를 찾고 싶어\\n무뎌짐이 익숙한 세상에서\\n이제 나는 나를 찾고 싶어',\n",
       " '떨리는 너의 입술을 난 난 처음 보았지\\n무슨 말 하려고 말 하려고 뜸만 들이는지\\n슬픈 예감은 다 맞는단 노래 가사처럼\\n설마 아니겠지 아닐거야 아니어야만 돼\\n벌써 넌 나를 떠나 니 마음마저 떠나\\n또 몸마저도 떠나는데\\n난 몰라 널 잡을 방법을\\n좀 누가 내게 말해줘요\\n오늘밤 그 말만은 말아요\\n왜 날 버리고 갔나요\\n나 마음이 아파 가슴이 아파\\n눈물 차올라요\\n아직은 안녕 우린 안돼요\\n넌 그 입을 더 열지마\\n안녕이라고 내게 말하지마\\n차가운 너의 한마디가 날 주저앉혔지\\n세상 무너질 듯 무너진 듯\\n오 눈물만 눈물만\\n지금 순간이 가면 이 순간이 지나면\\n영영 우린 이별인데\\n사랑해 죽도록 사랑한 날\\n날 버리지 말아줘요\\n오늘밤 그 말만은 말아요\\n왜 날 버리고 갔나요\\n나 마음이 아파 가슴이 아파\\n눈물 차올라요\\n아직은 안녕 우린 안돼요\\n넌 그 입을 더 열지마\\n안녕이라고 내게 말하지마\\n이별이 뭔지 나는 몰라요\\n그냥 서럽고 서러워\\n나 사연이 많아\\n추억이 많아 가슴 찢어져요\\n아직은 안녕 우린 안돼요\\n넌 그 입을 더 열지마\\n안녕이라고 내게 말하지마\\n안녕이라고 내게 말하지마\\n안녕이라고 내게 말하지마',\n",
       " '네가 참 궁금해 그건 너도 마찬가지\\n이거면 충분해 쫓고 쫓는 이런 놀이\\n참을 수 없는 이끌림과 호기심\\n묘한 너와 나 두고 보면 알겠지\\n\\nWoo 눈동자 아래로\\nWoo 감추고 있는 거\\nWoo yeah It’s so bad It’s good\\n난 그 맘을 좀 봐야겠어\\n\\nNarcissistic, my god I love it\\n서로를 비춘 밤\\n아름다운 까만 눈빛 더 빠져 깊이\\n(넌 내게로 난 네게로)\\n숨 참고 love dive\\n\\nWoo lalalalalalala\\nWoo 어서 와서 love dive\\nWoo oh perfect sacrifice yeah\\n숨 참고 love dive\\n\\n마음은 이렇게 알다가도 모르지\\n사랑이라는 건 한순간에 필 테니\\n직접 들어와 두 눈으로 확인해\\n내 맘 가장 깊은 데로 오면 돼\\n\\nWoo 망설일 시간은\\nWoo 3초면 되는 걸\\nWoo yeah It’s so bad It’s good\\n원하면 감히 뛰어들어\\n\\nNarcissistic, my god I love it\\n서로를 비춘 밤\\n아름다운 까만 눈빛 더 빠져 깊이\\n(넌 내게로 난 네게로)\\n숨 참고 love dive\\n\\nWoo lalalalalalala\\nWoo 어서 와서 love dive\\nWoo oh perfect sacrifice yeah\\n숨 참고 love dive\\n\\n숨 참고 love dive\\n숨 참고 love dive\\n숨 참고 love dive\\n숨 참고 love dive\\n\\nWoo lalalalalalala\\nWoo 어서 와서 love dive\\nWoo oh perfect sacrifice yeah\\n숨 참고 love dive',\n",
       " '얼굴 없는 Feed\\n파리 날리는 Followers\\nI’m a hater of Instagram\\nHater of TikTok\\nLock 걸린 갤러리\\n볼품없는 Fit\\n뭔데 운동도 안 하고\\n메이크업 하나도 못하고\\n그래 난 내가 봐도 별로인걸\\n매일 밤 In 탐색 Tab\\n나만 없는 샤넬\\n왠지 나보다 성숙한 요즘 10대\\nMZ 해시태그 What the Y2K\\n세상은 나 빼고 잘 돌아가\\nPlease give me the Hate button\\n난 내가 너무 싫거든\\n빌어먹을 My name\\nWhy ain’t I pretty\\nWhy ain’t I lovely\\nWhy ain’t I sexy\\nWhy am I me\\nLove me love me love me\\nlove me love me, want\\nLove me love me love me\\nlove me love me, want\\nShe so pretty\\nYea so lovely\\nShe got everything\\nWhy am I not her\\nLove me love me love me\\nlove me love me but\\n빌어먹을 Huh 내 거울 알러지\\n나도 Want to dance Hype Boy\\nBut 화면 속엔 Like TOMBOY\\n비웃을 거야 그래 그 Boy\\nOh god it’s so funny\\n말투는 왜 Too much dope\\n내가 뭔데 성격까지 좋지 않아\\n그래 맞아 나는 평생 혼자일지도\\nPlease give me your Like button\\n나도 사랑받고 싶거든\\n빌어먹을 My name\\nWhy ain’t I pretty\\nWhy ain’t I lovely\\nWhy ain’t I sexy\\nWhy am I me\\nLove me love me love me\\nlove me love me, want\\nLove me love me love me\\nlove me love me, want\\nShe so pretty\\nYea so lovely\\nShe got everything\\nWhy am I not her\\nLove me love me love me\\nlove me love me but\\n빌어먹을 Huh 내 거울 알러지\\n라라라라라 라라라 라라라\\n라라라라라 라라라 라\\n라라라라라 라라라 라라라\\n라라라라라 라라라 라\\n빌어먹을 Huh 내 거울 알러지',\n",
       " 'Woo Ah Woah 내 맘을 전해줘\\n저 멀리 그대에게 닿도록\\nWoo Ah Woah 내 바람이 스칠 때\\n행복을 느낄 수 있게\\n긴 하루의 끝에 또 너를 생각해\\n오늘 넌 어떻게 하루를 보냈을까\\n시간은 빠르게 도는데\\n여전히 내 맘은 똑같아\\n넌 별일 없기를 오늘도 바라\\n행복하고 잘 지내길 바라\\n진심이야 I’m not lying\\n맘을 담아 너를 응원해\\nTo your future endeavors yeah\\n우리 Happily ever after\\n바람과 사라졌지만\\nI still wish you the best\\nCuz I love whenever you smile\\nWoo Ah Woah 내 맘을 전해줘\\n저 멀리 그대에게 닿도록\\nWoo Ah Woah 내 바람이 스칠 때\\n행복을 느낄 수 있게\\nEverybody say WAW\\nYayayaya\\n나의 바람 갈 수 있게 WAW\\nYayayaya\\n날 느낄 수 있게\\n가끔은 허전해 어딘가 모르게\\n그래도 행복해 괜찮아 모든 게\\n아름답던 우리 추억이\\n꽤 힘이 되곤 해 Yeah\\n너도 그러길 오늘도 바라\\n네가 그리울 땐 눈을 감아\\n살랑살랑 두 뺨을 간지럽히는 바람\\n어느새 귀에 걸린 입꼬리\\n산뜻하게 흥얼거림 허밍 Errbody say\\n(Um-um-um-um) Say\\n(Um-um-um-um) For a better day\\n너의 숨결을 느낄 때\\n다시 나아갈 수가 있기에\\n넌 계속 행복해 줘\\n늘 그렇게 빛나줘\\n너의 바람 느껴질 때\\n그때 웃을 수 있게\\nWoo Ah Woah 내 맘을 전해줘\\n저 멀리 그대에게 닿도록\\nWoo Ah Woah 내 바람이 스칠 때\\n사랑을 느낄 수 있게\\nEverybody say WAW\\nYayayaya\\n나의 바람 갈 수 있게 WAW\\nYayayaya\\n날 느낄 수 있게\\nSay WAW',\n",
       " 'You and me\\n내 맘이 보이지\\n한참을 쳐다봐\\n가까이 다가가\\nYou see\\nYou see, ey ey ey ey\\n\\nOne, two, three\\n용기가 생겼지\\n이미 아는 네 눈치\\n고개를 돌려 천천히\\n여기\\nYou see\\n여기 보이니\\n\\nLooking for attention 너야겠어\\n확실하게 나로 만들겠어\\nStop, eyyy\\nDrop the question\\nDrop the, drop the question\\nWant attention\\nWanna want attention\\n\\nYou give me butterflies you know\\n내 맘은 온통 paradise\\n꿈에서 깨워주지 마\\n\\nYou got me looking for attention\\nYou got me looking for attention\\n가끔은 정말\\n헷갈리지만\\n분명한 건\\nGot me looking for attention\\n\\n널 우연히 마주친 척할래\\n못 본 척 지나갈래\\nYou’re so fine\\nGotta gotta get to know ya\\n나와 나와 걸어가 줘\\n\\n지금 돌아서면\\nI need ya, need ya, need ya\\nTo look at me back\\nHey 다 들켰었나\\n널 보면 하트가 튀어나와\\n\\n난 사탕을 찾는 baby (baby)\\n내 맘은 설레이지\\nEyyy, drop the question\\nDrop the, drop the question\\nWant attention\\nWanna want attention\\n\\nYou give me butterflies you know\\n내 맘은 온통 paradise\\n꿈에서 깨워주지 마\\n\\nYou got me looking for attention\\nYou got me looking for attention\\n가끔은 정말\\n헷갈리지만\\n분명한 건\\nGot me looking for attention\\n\\nYou got me looking for attention\\nYou got me looking for attention\\n가끔은 정말\\n헷갈리지만\\n분명한 건\\nGot me looking for attention\\n\\nA T T E N T I on\\nAttention is what I want\\nA T T E N T I on\\nAttention is what I want\\nA T T E N T I on\\nAttention is what I want\\nA T T E N T I on\\nYou got me looking for attention',\n",
       " 'A bientot\\nA bientot\\n이 밤이 지나면 괜찮아질 수 있을까\\n쓰린 내 맘이 회복될 수가 있을까\\n네가 떠난 빈자리가 너무 크니까\\n그 공허함에 깔려 겨우 살고 있잖아\\n기억은 잔인하고 후유증은 지독해\\n겨우 잠을 이뤄도 꿈자리는 뒤숭숭해\\n마음의 반을 도려내 버리고 난 후에\\n너라는 감옥에서 풀려날 수 있었네\\n38도 탕 안처럼 포근한\\n그날의 온도는 아직도 나의 가슴에\\n깊게 뿌리내려 뻗어 미련이란 놈은\\n공기처럼 내 마음을 드나드네\\n넌 빌런이자 하나님이야\\n셀 수 없는 많은 노래를\\n잉태하고 부숴버렸네\\n널 향해 나는 기도해\\n널 향해 나는 기도해\\nA bientot\\nA bientot\\n인생은 너무 외로워\\n너에게 전화를 거네요\\nA bientot\\nA bientot\\n인생은 너무 외로워\\n너에게 전화를 거네요\\n이럼 안되지만\\n그때 우린 뜨거운 용암처럼 사랑했네\\n너의 영은 열이 되어 내 몸에 있네\\n가열된 너의 온기가 아직도 식질 않네\\n늦은 새벽 눈물로 가득 찬 내 베개\\n사진에 찍혀 있던 우리들의 손가락\\n추억이 되어 흘러내리는 그 손가락\\n우리의 추억들이 나는 너무 좋았지\\n라디오에서 소개된 사연들처럼\\n난 요새\\nYoung Thug Pick Up The Phone\\n꽂혀있어\\n너는 어떤 노래를 듣는지 궁금해\\n아직도 힙합을 듣고 있어\\n힙합을 듣고 있다면 언젠가\\n이 노래도 들을 수 있을까\\n넌 나에게 음악 그 이상의 존재였어\\n서로를 이해하는 법 몰랐었던 우리들\\n서툶 때문에 상처를 주고받곤 했잖아\\n함께 나눈 감정들 너무 달달했기에\\n다시 예전으로 발걸음을 돌려보려 해도\\nA bientot\\nA bientot\\n인생은 너무 외로워\\n너에게 전화를 거네요\\nA bientot\\nA bientot\\n인생은 너무 외로워\\n너에게 전화를 거네요\\n이럼 안되지만\\n인생이 너무 외로워\\n허공에 말을 걸지만\\n그건 단조로운 리듬이 돼\\n그건 단조로운 리듬이 돼\\n마음이 너무 외로워\\n허공에 말을 걸지만\\n그건 단조로운 리듬이 돼\\n그건 단조로운 리듬이 돼\\n그건 단조로운 리듬이\\n그건 단조로운 리듬이 되고 있네\\nA bientot\\nA bientot\\n이제는 너를 잊을게 잊을게\\nA bientot',\n",
       " '꿈처럼 지나간 시간\\n나는 무얼 찾고 싶었나\\n지도도 없이 걸어온 삶을\\n후회하진 않으리\\n떠난 어제는 떠날 오늘로\\n남겨지기도 하지\\n나의 친구여 나의 형제여\\n내 이름 불러주오\\n미안하다 나의 인생아\\n앞만 보며 살아왔구나\\n찬란한 순간이여 영원하라\\n내일은 처음 가는 길\\n언제나처럼 또 두려워\\n버들강아지 활짝 웃는 날\\n후회하지 않으리\\n비가 내리면 노래하리\\n눈이 내려도 좋아\\n나의 친구여 나의 형제여\\n내 이름 불러 주오\\n미안하다 나의 인생아\\n앞만 보며 살아왔구나\\n찬란한 순간이여 영원하라\\n영원한 순간이여 찬란하라',\n",
       " '손이 참 곱던 그대 어느새 이렇게\\n내 맘 깊숙이 스며들었나요\\n나 그대의 그 미소에\\n맘이 떨려 한순간\\n그대 때문에 음흠 그대여 음흠\\n날 받아 주세요\\n나 그대에게 안길게요\\n한순간에 일초만에\\n당장 너에게 달려갈게\\n저 붉은 태양보다 그대만\\n저 푸른 하늘보다 그대만\\n사랑해 너무 사랑해\\n세상 그 무엇보다\\n밝게 날 비추네 음흠\\n그대여 음흠\\n날 받아 준다면\\n다 그대에게 바칠게요\\n내 하루의 일분일초까지\\n당신만 생각할게\\n저 붉은 태양보다 그대만\\n저 푸른 하늘보다 그대만\\n사랑해 너무 사랑해\\n세상 그 무엇보다\\n밝게 날 비추네 음흠 그대여 유후\\n저 지는 노을보다 그대만\\n저 우주 별빛보다 그대만\\n사랑해 너를 사랑해\\n세상 그 무엇보다\\n밝게 날 비추네 음흠 그대여 음흠\\n손이 참 곱던 그대\\n내 맘 깊숙이\\n나 그대의 그 미소에 음흠',\n",
       " \"Money makes me feel better\\nYou told me it was a ticket to hell,\\nok how come?\\nDo you think that I’m a devil?\\nSex makes me feel better,\\nhow could you judge me?\\nI know you don't deserve to\\nNow You act like a Pharisee\\nWhen I was poor,\\nmy mom was stressed out\\nNow look, money made me\\na good boy to my mom\\nWhen I was poor,\\nI was like a hungry fox\\nNow look, I saved a lotta\\nbuddies from the basement\\nI just bought a Christian,\\nit’s blinging on my body\\nI’m toasting with celebrities\\nat the same bar\\nHey pretty,\\ndo you wanna f*** with me?\\nThat’s no problem\\nBut Sunday morning is coming,\\nI gotta go to church\\nI’m still f***ing christian\\nThough I’m wearing new “Christian”\\nYou should check my algorithm\\nIt’s not much different\\nfrom the old me\\nI’m still f***ing christian\\nThough I’m wearing new “Christian”\\nYou should check my algorithm\\nIt’s not much different\\nfrom the old me\\nI’m still f***ing christian\\nI’m still f***ing christian\\nI’m still f***ing\\nStinky smell’s stuck in my room\\nEven after I took a shower\\nHow can I erase it\\nWhere’s the origin ?\\nHey Mr. I’m talking about you\\nWhat’s funny? Seriously?\\nYou feel this disgusting smell\\nI think it’s from your stinky breath\\nStreet people, you think you’re smart\\nYou think you got no god\\nBut I know you worship yourself\\nWhat a stupid god !\\nIs your god a liar?\\nYour god is so outrageous,\\nyou would better die\\nI just bought a Christian\\nit’s blinging on my body\\nI’m toasting with celebrities\\nat the same bar\\nHey pretty, do you wanna\\nf*** with me? That’s no problem\\nBut Sunday morning is coming,\\nI gotta go to church\\nI’m still f***ing christian\\nThough I’m wearing new “Christian”\\nYou should check my algorithm\\nIt’s not much different from the old me\\nI’m still f***ing christian\\nThough I’m wearing new “Christian”\\nYou should check my algorithm\\nIt’s not much different from the old me\\nI’m still f***ing christian\\nI’m still f***ing christian\\nI’m still f***ing\\nOh lord forgive my people\\nI didn’t know what I’ve done\\nOh lord Look at my finger,\\ndirt is stuck in my nails\\nOh lord please clean my tongue\\nit’s covered by pukes and phlegms\\nOh mom now I get it why you told me\\nthat you wanna go back\\nwhen I was a child\\nI’m still f***ing christian\",\n",
       " '숱한 날들 모두 내게 남아있는 추억들\\n빛바랜 기억들 사이\\n그대 모습만이 아련하게 빛나네\\n지나간 세월이 야속하진 않아\\n그댈 만났으므로\\n피어날 내일을 기대해 오\\n그대 내게 와줬으니\\n나 진짜 진짜 당신만을 사랑하고 사랑해\\n내 삶의 반쪽 그대만을\\n아 나는 그대만 보고 있어\\n아 나는 그대를 사랑합니다\\n오색빛의 색이 물든 미완성의 그림 하나\\n그래 내 마음 같겠지\\n어느 날 그대가 내게 오기 전까지\\n지나간 시간이 야속하진 않아\\n그댈 만났으므로\\n피어날 내일을 기대해\\n그대 내게 와줬으니\\n나 진짜 진짜 당신만을 사랑하고 사랑해\\n내 삶의 반쪽 그대만을\\n아 나는 그대만 보고 있어\\n아 나는 그대를 사랑합니다\\n내게 와준 그대여 고맙고 또 고마워\\n하늘이 무너져도 그댈 찾을 수 있어\\n나 진짜 진짜 당신만을 사랑하고 사랑해\\n내 삶의 반쪽 그대만을\\n아 나는 그대만 보고 있어\\n아 나는 그대를 사랑합니다\\n그대를 사랑합니다',\n",
       " '무슨 뜻인 건가요 지금 한 그 말\\n잊으라는 지우라는 차가운 한 마디\\n믿어지지 않아요 거짓말 같아\\n왜 우리가 왜 우리가 헤어져야 해\\n제발 말해줘요 잘못 들은 거라고\\n이러다 내 가슴이 터지기 전에\\n대체 니가 뭔데 날 울려 날 울려\\n어떻게 니가 날 떠나가\\n이렇게 버릴 걸 왜 나를 가졌니\\n사랑 그게 뭔데\\n이토록 가슴에 힘겨운 상처만 남겨놔\\n너 아닌 누구도 이제 다신 품을 수 없게\\n나를 알잖아요 여린 사람이란 걸\\n왜 기어코 자꾸 날 독해지게 해\\n대체 니가 뭔데 날 울려 날 울려\\n어떻게 니가 날 떠나가\\n이렇게 버릴걸 왜 나를 가졌니\\n사랑 그게 뭔데\\n이토록 가슴에 힘겨운 상처만 남겨놔\\n너 아닌 누구도 이제 다신 품을 수 없게\\n도대체 어쩌라고 날 더러 날 더러\\n왜 나를 미치게 만들어\\n니까짓 게 뭔데 날 아프게 해\\n그런 너를 위해 지금껏\\n모든 걸 다 줬던 내가 난 더 미워\\n그런 널 아직도 사랑하는 내가 더 미워\\n사랑해 사랑해 사랑해\\n사랑해 아직도 너를\\n사랑해 사랑해 사랑해 영원히\\n돌아와 돌아와\\n나의 곁으로 제발',\n",
       " '노을에 물든 저녁 하늘이\\n오랜만에 참 좋은 저녁입니다\\n문득 떠오른 그대 생각에\\n나지막이 이름을 불러봅니다\\n나도 몰래 꺼내 본 낡은 수첩엔\\n그대가 너무도 많아\\n차마 그립단 말 대신\\n꽃잎을 넣어 보내며\\n하얀 종이에 하지 못한 말\\n아직 그댄 내 고운 사랑입니다\\n외로이 스쳐 창을 흔드는\\n바람 소리 쓸쓸한 시간입니다\\n어둠 만들고 초를 태우며\\n나지막이 그대를 불러봅니다\\n나도 몰래 꺼내 본 낡은 사진엔\\n그대가 너무도 많아\\n차마 그립단 말 대신\\n바라본 밤하늘에는\\n아스라이 먼 작은 별 하나\\n외로이 홀로 남아 깜박입니다\\n그대를 닮은 작은 별 하나\\n외로이 홀로 남아 깜박입니다\\n그대 고운 이름은 사랑입니다',\n",
       " 'She’s saying\\nBaby, 생각하지 마\\nThere’s not a bad thing here tonight\\nBaby, 떠나도 좋아\\n있어 줘 오늘까지만\\nWatch me go\\n날 적셔 밤새도록 (away)\\n아침도\\n취해서 오지 않게\\n시끄러운 음악 속에\\n희미해진 나\\n드라마 같은 뻔한 story\\n익숙해져 가\\n네가 알던 나를 찾기엔 멀리 온 걸까?\\nYeah I know\\nYou know\\nI know\\nI’d rather be\\nLost in the lights\\nLost in the lights\\nI’m outta my mind\\n이 밤의 끝을 잡아줘\\n매일 밤\\nYou spin me up high\\n너를 품은 달\\nLet me have a taste\\nGive me a good ride\\n(Oh I’m fallin’)\\nIt’s gon’ be a good night\\n(Oh I’m fallin’)\\nForever you and I\\n거울 속에 비친 나\\n하염없이 미쳐가\\nI’m feelin’ so alive, wasting time\\nI’d rather be\\nLost in the lights\\nLost in the lights\\nI’m outta my mind\\n이 밤의 끝을 잡아줘\\n매일 밤\\nYou spin me up high\\n너를 품은 달\\nLet me have a taste\\nGive me a good ride\\n(Oh I’m fallin’)\\nIt’s gon’ be a good night\\n(Oh I’m fallin’)\\nForever you and I\\nThis will break me\\nThis is gonna break me\\nNo don’t you wake me\\nI wanna stay in this dream, don’t save me\\nDon’t you try to save me\\nI need a way we\\nI need a way we can dream on',\n",
       " 'どうでもいいような 夜だけど\\n도오데모 이이요오나 요루다케도\\n아무래도 좋을 것 같은 밤이지만\\n\\n響めき 煌めきと君も\\n도효메 키키라메키토 키미모\\n울리는 소리와 반짝임과 당신도\\n\\nまだ止まった 刻む針も\\n마다 토맛타 키자무하리모\\n아직 멈추어 있는 시계의 바늘도\\n\\n入り浸った 散らかる部屋も\\n이리비탓타 치라카루 헤야모\\n어지러져 있는 방도\\n\\n変わらないね 思い出しては\\n카와라나이네 오모이다시테와\\n변하지 않을거야 생각서는\\n\\n二人 歳を重ねてた ah\\n후타리 토시오 카사네테타 ah\\n둘이서 나이를 먹었지 ah\\n\\nまた止まった 落とす針を\\n마타 토맛타 오토스하리오\\n다시 멈춘 LP플레이어의 바늘을\\n\\nよく流した 聞き飽きるほど\\n요쿠 나가시타 키키아키루호도\\n듣기 지칠 정도로 흘려 들었지\\n\\n変わらないね 変わらないで\\n카와라나이네 카와라나이데\\n변하지 않는구나, 변하지 말아줘\\n\\nいられたのは 君だけか ah\\n이라레타노와 키미다케카 ah\\n같이 있을 수 있었던 것은 너뿐이야 ah\\n\\n無駄話で はぐらかして\\n무다바나시데 하구라카시테\\n잡담으로 흘리며\\n\\n触れた先を ためらうように\\n후레타 사키오 타메라우요오니\\n말하기를 머물거리며\\n\\n足踏みして ズレた針を余所に\\n아시부미시테 즈레타 하리오 요소니\\n발을 동동 구르며 삐뚤러진 시계 바늘을 다른 곳으로\\n\\n揃い始めてた 息が\\n소로이하지메테타 이키가\\n멎기 시작했어 숨이\\n\\nどうでもいいような 夜だけど\\n도오데모 이이요오나 요루다케도\\n아무래도 좋을 것 같은 밤이지만\\n\\n響めき 煌めきと君も \"踊ろう\"\\n도효메 키키라메키토 키미모 오도로오\\n울리는 소리와 반짝임과 당신도 함께 \"춤춰\"\\n\\nどうでもいいような 夜だけど\\n도오데모 이이요오나 요루다케도\\n아무래도 좋을 것 같은 밤이지만\\n\\nAh 二人刻もう\\nah 후타리 키자모오\\nah 둘이서 새기자\\n\\nTu-tu-lu-tu-lu\\n\\n透き通った 白い肌も\\n스키토옷타 시로이 하다모\\n맑은 하얀 피부도\\n\\nその笑った 無邪気な顔も\\n소노 와랏타 무자키나 카오모\\n그 웃는 무고한 얼굴도\\n\\n変わらないね 変わらないで\\n카와라나이네 카와라나이데\\n변하지 않는구나, 변하지말아줘\\n\\nいられるのは 今だけか ah ah ah\\n이라레루노와 이마다케카 ah ah ah\\n이대로 있을 수 있는건 지금뿐이야 ah ah ah\\n\\n見つめるほどに\\n미츠메루호도니\\n보면 볼수록\\n\\n溢れる メモリー\\n아후레루 메모리이\\n흘러오는 추억\\n\\n浮つく心に コーヒーを\\n우와츠쿠 코코로니 코오히이오\\n떠있는 마음에 커피를\\n\\n乱れたヘアに 掠れたメロディー\\n미다레타 헤아니 카스레타 메로디이\\n난장판인 방에서 나오는 낡은 멜로디\\n\\n混ざりあってよう もう一度\\n마자리앗테 요오 모오이치도\\n다시 엉켜 보자\\n\\nどうでもいいような 夜だけど\\n도오데모 이이요오나 요루다케도\\n아무래도 좋을 것 같은 밤이지만\\n\\nときめき 色めきと君も \"踊ろう\"\\n토키메키 이로메키토 키미모 오도로오\\n설렘이 가득한 너도 \"춤춰\"\\n\\nどうでもいいような 夜だけど\\n도오데모 이이요오나 요루다케도\\n아무래도 좋을 것 같은 밤이지만\\n\\nAh 二人刻もう\\nah 후타리 키자모오\\nah 둘이서 새기자\\n\\nTu-tu-lu-tu-lu\\n\\n夜は長い おぼつかない\\n요루와 나가이 오보츠카나이\\n밤을 길고 안정되지 않아\\n\\n今にも止まりそうな ミュージック\\n이마니모 토마리소오나 뮤우짓쿠\\n지금이라도 멈출 것만 같은 음악\\n\\n君といたい 溺れてたい\\n키미토 이타이 오보레테타이\\n너와 함께 있고 싶어, 빠지고 싶어\\n\\n明日がこなくたって もういいの\\n아시타가 코나쿠탓테 모오 이이노\\n내일이 오지 않는다고 해도 괜찮아\\n\\nどうでもいいような 夜だけど\\n도오데모 이이요오나 요루다케도\\n아무래도 좋을 것 같은 밤이지만\\n\\n響めき 煌めきと君も \"踊ろう\"\\n도요메 키키라메키토 키미모 오도로오\\n울리는 소리와 반짝임과 당신도 함께 \"춤춰\"\\n\\nどうでもいいような 夜だけど ah\\n도오데모 이이요오나 요루다케도 ah\\n아무래도 좋을 것 같은 밤이지만 ah\\n\\nAh 愛して\\nah 아이시테\\nah 사랑해줘\\n\\nどうでもいいから 僕だけを\\n도오데모 이이카라 보쿠다케오\\n아무래도 좋으니까 나만을\\n\\nふらつき よろめきながらも \"踊ろう\"\\n후라츠키 요로메키나가라모 오도로오\\n비틀거리며 비틀거리면서도 \"춤추자\"\\n\\nどうでもいいような 夜だけど\\n도오데모 이이요오나 요루다케도\\n아무래도 좋을 것 같은 밤이지만\\n\\nAh 二人刻もう\\nah 후타리 키자모오\\nah 둘이서 새기자',\n",
       " '그대 사랑이 나였음 좋겠다\\n아무것도 필요 없어요\\n든든한 품에 안겨 잠들고 싶어라\\n내 사랑의 보금자리\\n아무것도 바라지 않아요\\n당신만 있으면 돼\\n한 눈 팔지 않고 사랑할래요\\n돈도 필요 없어 백도 필요 없어\\n당신만 있으면 돼\\n그대 사랑이 나였음 좋겠다\\n아무것도 필요 없어요\\n든든한 품에 안겨 잠들고 싶어라\\n내 사랑의 보금자리\\n아무것도 바라지 않아요\\n당신만 있으면 돼\\n한 눈 팔지 않고 사랑할래요\\n돈도 필요 없어 백도 필요 없어\\n당신만 있으면 돼\\n아무것도 바라지 않아요\\n당신만 있으면 돼\\n한 눈 팔지 않고 사랑할래요\\n돈도 필요 없어 백도 필요 없어\\n당신만 있으면 돼\\n당신만 있으면 돼',\n",
       " '너와 함께 하고 싶은 일들을\\n상상하는 게\\n요즘 내 일상이 되고\\n너의 즐거워하는 모습을 보고 있으면\\n자연스레 따라 웃고 있는 걸\\n너의 행동에 설레어하고 뒤척이다가\\n지새운 밤이 많아지는데\\n이건 누가 봐도 사랑일 텐데\\n종일 함께면 질릴 텐데\\n나 돌아서도 온통 너인 건\\n아무래도 사랑인가 봐\\n점점 너와 하고 싶은 일들 생각하면서\\n하룰 보낸 날이 많아지는데\\n이건 누가 봐도 사랑일 텐데\\n종일 함께면 질릴 텐데\\n나 돌아서도 온통 너인 건\\n아무래도 사랑인가 봐\\n너의 행복해하는 모습을 보고 있으면\\n나도 모르게 따라 웃는데\\n이 정도면 알아줄 만하잖아\\n너도 용기 낼만 하잖아\\n나만 이런 게 아니라면\\n우리 만나볼 만하잖아\\n아무래도 사랑인가 봐',\n",
       " \"Cos ah ah\\nI’m in the stars tonight\\nSo watch me bring the fire\\nand set the night alight\\nShoes on get up in the morn\\nCup of milk let’s rock and roll\\nKing Kong kick the drum\\nrolling on like a rolling stone\\nSing song when I’m walking home\\nJump up to the top LeBron\\nDing dong call me on my phone\\nIce tea and a game of ping pong\\nThis is getting heavy\\nCan you hear the bass boom\\nI’m ready\\nLife is sweet as honey\\nYeah this beat cha ching\\nlike money\\nDisco overload I’m into\\nthat I’m good to go\\nI'm diamond you know I glow up\\nHey so let’s go\\nCos ah ah\\nI’m in the stars tonight\\nSo watch me bring the fire\\nand set the night alight\\nShining through the city\\nwith a little funk and soul\\nSo I’mma light it up\\nlike dynamite woah\\nBring a friend join the crowd\\nWhoever wanna come along\\nWord up talk the talk\\njust move like we off the wall\\nDay or night the sky’s alight\\nSo we dance to the break of dawn\\nLadies and gentlemen\\nI got the medicine\\nso you should keep ya\\neyes on the ball huh\\nThis is getting heavy\\nCan you hear the bass boom\\nI’m ready\\nLife is sweet as honey\\nYeah this beat cha ching\\nlike money\\nDisco overload\\nI’m into that I’m good to go\\nI'm diamond you know I glow up\\nLet’s go\\nCos ah ah\\nI’m in the stars tonight\\nSo watch me bring the fire\\nand set the night alight\\nShining through the city\\nwith a little funk and soul\\nSo I’mma light it up\\nlike dynamite woah\\nDynnnnnanana life is dynamite\\nDynnnnnanana life is dynamite\\nShining through the city\\nwith a little funk and soul\\nSo I’mma light it up\\nlike dynamite woah\\nDynnnnnanana eh\\nDynnnnnanana eh\\nDynnnnnanana eh\\nLight it up like dynamite\\nDynnnnnanana eh\\nDynnnnnanana eh\\nDynnnnnanana eh\\nLight it up like dynamite\\nCos ah ah\\nI’m in the stars tonight\\nSo watch me bring the fire\\nand set the night alight\\nShining through the city\\nwith a little funk and soul\\nSo I’mma light it up\\nlike dynamite\\nCos ah ah\\nI’m in the stars tonight\\nSo watch me bring the fire\\nand set the night alight\\nShining through the city\\nwith a little funk and soul\\nSo I’mma light it up\\nlike dynamite woah\\nDynnnnnanana life is dynamite\\nDynnnnnanana life is dynamite\\nShining through the city\\nwith a little funk and soul\\nSo I’mma light it up\\nlike dynamite woah\",\n",
       " 'Knock Knock Knock Knock Knock Knock\\nKnock Knock Knock Knock\\nKnock Knock Knock\\nKnocking on your heart\\nKnock Knock Knock Knock Knock Knock\\nKnock Knock Knock Knock\\nKnock Knock Knock\\nKnocking on your heart\\n가만가만히 들여다보는 건\\n마음에 안 들어 (nope)\\n까만 밤하늘 수놓은 별처럼\\n콕 콕 마음에 박혀\\n세상에 눈을 뜬 후로\\nHard for me to control\\n끌리는 마음이 So I feel special\\n눈이 마주치면\\nCome a little closer\\nCome closer come closer\\n이제 깨어나\\nKnock Knock Knock Knock Knock Knock\\nKnock Knock Knock Knock\\nKnock Knock Knock\\nKnocking on your heart\\nKnock Knock Knock Knock Knock Knock\\nKnock Knock Knock Knock\\nKnock Knock Knock\\nKnocking on your heart\\n날 위로 더 위로 올려 이 순간\\nCome over the moonlight\\nStarry-eyed, Get me high 바로 오늘 밤\\nKnock Knock Knocking on your heart\\n매일 주시하며 살지 마 굳이 어때\\n많고 적고 별 차이 알아도 No 상관없지\\n솔직히 살아도 돼 그래 자연스럽게\\n똑똑하면 잘해봐\\n세상에 눈을 뜬 후로\\nHard for me to control\\n끌리는 마음이 So I feel special\\n눈이 마주치면\\nCome a little closer\\nCome closer come closer\\n이제 깨어나\\nKnock Knock Knock Knock Knock Knock\\nKnock Knock Knock Knock\\nKnock Knock Knock\\nKnocking on your heart\\nKnock Knock Knock Knock Knock Knock\\nKnock Knock Knock Knock\\nKnock Knock Knock\\nKnocking on your heart\\n날 위로 더 위로 올려 이 순간\\nCome over the moonlight\\nStarry-eyed, Get me high 바로 오늘 밤\\nKnock Knock Knocking on your heart\\n더 이상 기다리게는 하지 마\\n두드리면 깨질 걸 널 아니까\\n이 밤이 더디게 더디게 가\\nCome a little closer\\nLa la la la la la\\nLa la la la la la la la la\\nAll I wanna do\\nKnock Knock Knock Knock Knock Knock\\nKnock Knock Knock Knock\\nKnock Knock Knock\\nKnocking on your heart\\n날 위로 더 위로 올려 이 순간\\nCome over the moonlight\\nStarry-eyed, Get me high 바로 오늘 밤\\nKnock Knock Knocking on your heart\\nKnock Knock Knock Knock Knock Knock\\nKnock Knock',\n",
       " 'Love me like this Love me like that\\nLove me like this and\\nI love you right back\\n뛰는 심장 소릴 따라가\\n커지는 울림 Oh my oh my god\\nOh yeah\\nLet me hear you say yeah (Uh uh)\\n숨겨놨던 맘속 deep blue sea\\n꺼내 펼쳐봐 느껴지는 feels\\nOh yeah\\nDon’t run away yeah (Now, now)\\n철로 만든 heart 예쁜 꽃을 피워봐\\n사막 속에 비를 내려봐 (Uh uh)\\nIf you wanna be my lover\\n닫힌 맘을 다 깨뜨려\\nIf you wanna wanna\\nwanna wanna wanna\\nShow me your way\\n어느 틈에 자라난 이끌림\\n점을 이어 Oh baby\\n맘속 fireworks 외쳐 higher hopes\\n눈을 맞춰 It’s so easy you just gotta\\nLove me like this Love me like that\\nLove me like this Love me like that\\nLove me like this Love me like that\\nLove me like this and\\nI love you right back\\nLove me like this Love me like that\\nLove me like this Love me like that\\nLove me like this Love me like that\\nLove me like this and\\nI love you right back\\nOh 큰 파도가 시작될 걸 (Ride now)\\nBuckle up, ready, set, go (Let’s go)\\n이 감정의 폭을 explore\\n조금 더 거침없이 빠져 이 fever\\n그 순간 가슴속에 넘쳐난 flower\\n이미 움트고 있던 숨\\n고장 난 네 맘속의 bloom\\nShow me your way\\n어느 틈에 연결된 piece of love\\n선을 따라가 baby\\n번진 fireworks 펼친 higher hopes\\n손을 뻗어 It’s so easy you just gotta\\nLove me like this Love me like that\\nLove me like this Love me like that\\nLove me like this Love me like that\\nLove me like this and\\nI love you right back\\nLove me like this Love me like that\\nLove me like this Love me like that\\nLove me like this Love me like that\\nLove me like this and\\nI love you right back\\nCan you see the paradise?\\n감각들을 깨워봐\\n끝내 찾은 missing piece\\n심장 속을 밝힌 peace\\n나를 향해 켜진 love\\n결국 너를 향할 love\\n너와 내 꿈이 이어져 커져갈 time\\nLove me like this Love me like that\\nLove me like this Love me like that\\nLove me like this Love me like that\\nLove me like this Love me like that\\nLove me like this and\\nI love you right back\\nLove me like this Love me like that\\nLove me like this Love me like that\\nLove me like this Love me like that\\nLove me like this and\\nI love you right back\\nLove me like this Love me like that\\nLove me like this Love me like that\\nLove me like this Love me like that\\nLove me like this and\\nI love you right back',\n",
       " '이윽고 내가 한눈에\\n너를 알아봤을 때\\n모든 건 분명 달라지고 있었어\\n내 세상은 널 알기 전과 후로 나뉘어\\n니가 숨 쉬면 따스한 바람이 불어와\\n니가 웃으면 눈부신 햇살이 비춰\\n거기 있어줘서 그게 너라서\\n가끔 내 어깨에 가만히 기대주어서\\n나는 있잖아 정말 빈틈없이 행복해\\n너를 따라서 시간은 흐르고 멈춰\\n물끄러미 너를 들여다 보곤 해\\n그것 말고는 아무것도 할 수 없어서\\n너의 모든 순간 그게\\n나였으면 좋겠다\\n생각만 해도 가슴이 차올라\\n나는 온통 너로\\n보고 있으면 왠지 꿈처럼 아득한 것\\n몇 광년 동안 날 향해 날아온 별빛\\n또 지금의 너\\n거기 있어줘서 그게 너라서\\n가끔 나에게 조용하게 안겨주어서\\n나는 있잖아 정말 남김없이 고마워\\n너를 따라서 시간은 흐르고 멈춰\\n물끄러미 너를 들여다보곤 해\\n너를 보는 게 나에게는 사랑이니까\\n너의 모든 순간 그게\\n나였으면 좋겠다\\n생각만 해도 가슴이 차올라\\n나는 온통 너로\\n니 모든 순간 나였으면',\n",
       " \"Yeah Yeah\\n난 또 너를 두드리고 있어\\n반짝이는 수면 위를 매일\\n잔잔하게 일렁이는 Sign\\n날 (봐)\\n알 수 없는 너를 가만 보면\\n깊은 그 눈빛이 궁금해지면\\n괜히 거친 바람처럼 난\\n너를 헤집어\\n알아 하루 종일\\n넌 비춰 빠짐없이\\n내 어떤 날씨까지 Oh\\n맑게 개다 흐려도 Ah-Ah\\n웃는 너는 Ah-Ah\\nSo tell me,\\nWhat you wanna wanna do boy?\\n너는 닿을수록 Thirsty\\n분명 가득한데 Thirsty\\nYeah, I got you boy\\nSip sip sipping all night\\n더 Deep deep deep in all night\\n얕은 수면보다 훨씬\\n짙은 너의 맘 끝까지\\n알고 싶어져\\nSip sip sipping all night\\n더 Deep deep deep in all night\\n맘이 커질수록 Thirsty\\nTell me, Tell me\\n느껴 너의 눈빛 향기\\nFeel so good\\nCan't nobody ever stop me\\n순간 세상이 멈춘 것 같이\\n머리에 Ding\\n물결처럼 어질어질\\n넌 어때 웃지 말고\\nUh 가만 보지 말고\\n인정해 봐 Real\\n지금 Boom boom trigger\\nI 자꾸 심술 나 왠지 I\\n부푼 맘이 난 가끔 Ah-Ah\\n미울 만큼 Ah-Ah\\nSo tell me,\\nWhat you wanna wanna do boy?\\n너는 닿을수록 Thirsty\\n분명 가득한데 Thirsty\\nYeah, I got you boy\\nSip sip sipping all night\\n더 Deep deep deep in all night\\n얕은 수면보다 훨씬\\n짙은 너의 맘 끝까지\\n알고 싶어져\\nSip sip sipping all night\\n더 Deep deep deep in all night\\n맘이 커질수록 Thirsty\\n조급한 생각은 No No\\n이건 또 너를 위한 감정인 거야\\nSip sip sip sip\\n그래서 난\\nSip sip sip\\nSo thirsty thirsty thirsty\\nTalking ‘bout it, Talking ‘bout it\\n솔직하게 전부\\n수면 깊이 감춰 놓은\\n네 맘으로 적셔 날\\n네 눈 속에 내가 좋아\\n그래 계속 욕심이 나\\n당연한 걸 너도 아마\\nDon’t cha Don’t cha Don’t cha\\nDon't you baby\\n괜한 투정처럼 Thirsty\\n아니 사실인 걸 Thirsty\\nYeah, I got you boy\\nSip sip sipping all night\\n더 Deep deep deep in all night\\n여린 물결보다 고이\\n너의 맘을 어루만질\\n준비돼 있어\\nSip sip sipping all night\\n더 Deep deep deep in all night\\n그래 너만 보면 Thirsty\\nWoah (I'll make you)\\nWoah (I'll make you)\\nWoah\\nWoah Baby\\n그래 너에게만 Thirsty\",\n",
       " '숨을 내쉴 때마다\\n눈을 감을 때마다\\n니 생각이 나 먹먹해진다\\n하루 열두 시간이라면\\n스물네 시간의 반이면\\n외로움마저 반으로 줄 텐데\\n거지 같은 미련이 남아\\n추억을 주워 담아\\n사랑하고 싶어 하다가\\n주고 싶어 주다가\\n텅 빈 이내 맘\\n이별하기 싫어 울다가\\n받기 싫어 버텨보다가\\n결국 이렇게 나 혼자\\n거지 같은 미련이 남아\\n추억을 주워 담아\\n사랑하고 싶어 하다가\\n주고 싶어 주다가\\n텅 빈 이내 맘\\n이별하기 싫어 울다가\\n받기 싫어 버텨보다가\\n결국 이렇게 나 혼자\\n기나긴 시간이 지난 지금까지\\n못 잊어 그리워해\\n눈물 내일이면 그칠까\\n사랑하고 싶어 하다가\\n주고 싶어 주다가\\n텅 빈 이내 맘\\n이별하기 싫어 울다가\\n받기 싫어 버텨보다가\\n셀 수 없게 난 보기 싫게 난\\n결국 이렇게 나 혼자',\n",
       " \"Why you think that ’bout nude\\n’Cause your view’s so rude\\nThink outside the box\\nThen you’ll like it\\nHello my name is 예삐 예삐요\\n말투는 멍청한 듯 몸매는 섹시 섹시요\\n그럼 다이아 박힌 티아라 하나에\\n내가 퍽이나 웃게 퍽이나 웃게\\n뒤틀려버린 로렐라이\\nDon’t need no man\\n철학에 미친 독서광\\nSelf-made woman\\n싸가지없는\\n이 Story에 무지 황당한\\n야유하는 관객들\\nYou tricked me you’re a liar\\n아 발가벗겨져 버린 Movie star\\n아 별빛이 깨져버린 밤\\n꼴이 볼품없대도 망가진다 해도\\n다신 사랑받지 못한대도\\nYes I’m a nude\\nNude 따따랏따라\\nYes I’m a nude\\nNude I don’t give a love\\nBaby how do I look, how do I look\\n아리따운 날 입고 따따랏따라\\nBaby how do I look, how do I look\\n아리따운 날 입고 따따랏따라\\n(Ouch!)\\n실례합니다 여기 계신 모두\\n야한 작품을 기대하셨다면\\nOh I’m sorry 그딴 건 없어요\\n환불은 저쪽 대중은 흥미 없는 정보\\n그 팝콘을 던져도 덤덤\\n행복과 반비례 평점\\nBut my 정점 멋대로 낸\\n편견은 토할 거 같지\\n아 발가벗겨져 버린 Movie star\\n아 더 부끄러울 게 없는 밤\\n꼴이 볼품없대도 어쩌면 네게도\\n다신 사랑받지 못한대도\\nYes I’m a nude\\nNude 따따랏따라\\nYes I’m a nude\\nNude I don’t give a love\\nBaby how do I look, how do I look\\n아리따운 날 입고 따따랏따라\\nBaby how do I look, how do I look\\n아리따운 날 입고 따따랏따라\\nUm ha um ha um ha um\\nYes I'm a nude\\nYes I'm a nude\\nNow I draw a luxury nude\\nWhy you think that ’bout nude\\n’Cause your view’s so rude\\nThink outside the box\\n까고 말해\\n아리따운 나의 누드\\n아름다운 나의 누드\\nI’m born nude\\n변태는 너야\\nRude\\nNude\",\n",
       " '사랑하지 않기로 했어\\n나만 생각하기로 했어\\n니 눈물을 못 본 척 좀 해야겠어\\n나쁜 사람 되기 싫어서\\n구차해지는 변명들로\\n괜한 기대하게 만들기 싫었어\\n마지막까지 상처 주긴 싫은데\\n난 여전히 너를 배려해 줄\\n자신이 없는걸\\n사랑하지 않았어 미안해\\n참 많이 고마웠어\\n미련 갖는 일 그런 일 없을 거야 정말\\n매번 져주려 했던 너에게\\n기어코 이겨보려 애썼던 순간도\\n너를 필요 없어 했던 밤도\\n사랑하지 않아서 그랬어\\n마지막으로 안아주면 안 될까\\n말하는 니 얼굴\\n떳떳하게 볼 수가 없는걸\\n사랑하지 않았어 미안해\\n참 많이 고마웠어\\n미련 갖는 일 그런 일 없을 거야 정말\\n매번 져주려 했던 너에게\\n기어코 이겨보려 애썼던 순간도\\n너를 필요 없어 했던 밤도\\n사랑하지 않아서 그랬어\\n넌 모르지 내 맘이 어떤지\\n계속 사랑해보려 애를 썼어\\n내가 다 미안해\\n도망치는 내가 밉겠지만\\n나는 후련한 거 같아 여기까지만 해\\n기다리면은 안 돼 잘 들어\\n날 미워해야만 해\\n계속 울어도 난 멀리 떠날 거야 제발\\n니가 괴롭든 말든 꺼놨던 전화도\\n아픈 니가 귀찮았던 밤도\\n하다못해 지금 내 말투도\\n사랑하지 않아서 그랬어',\n",
       " \"보고 싶다\\n이렇게 말하니까 더 보고 싶다\\n너희 사진을 보고 있어도\\n보고 싶다\\n너무 야속한 시간\\n나는 우리가 밉다\\n이젠 얼굴 한번 보는 것 조차\\n힘들어진 우리가\\n여긴 온통 겨울 뿐이야\\n8월에도 겨울이 와\\n마음은 시간을 달려가네\\n홀로 남은 설국열차\\n니 손 잡고 지구 반대편까지 가\\n겨울을 끝내고파\\n그리움들이 얼마나\\n눈처럼 내려야 그 봄날이 올까\\nFriend\\n허공을 떠도는\\n작은 먼지처럼 작은 먼지처럼\\n날리는 눈이 나라면\\n조금 더 빨리\\n네게 닿을 수 있을 텐데\\n눈꽃이 떨어져요\\n또 조금씩 멀어져요\\n보고 싶다 보고 싶다\\n보고 싶다 보고 싶다\\n얼마나 기다려야\\n또 몇 밤을 더 새워야\\n널 보게 될까 널 보게 될까\\n만나게 될까 만나게 될까\\n추운 겨울 끝을 지나\\n다시 봄날이 올 때까지\\n꽃 피울 때까지\\n그곳에 좀 더 머물러줘\\n머물러줘\\n니가 변한 건지\\n니가 변한 건지\\n아니면 내가 변한 건지\\n내가 변한 건지\\n이 순간 흐르는 시간조차 미워\\n우리가 변한 거지 뭐\\n모두가 그런 거지 뭐\\n그래 밉다 니가 넌 떠났지만\\n단 하루도 너를\\n잊은 적이 없었지 난\\n솔직히 보고 싶은데\\n이만 너를 지울게\\n그게 널 원망하기보단\\n덜 아프니까\\n시린 널 불어내 본다\\n연기처럼 하얀 연기처럼\\n말로는 지운다 해도\\n사실 난 아직 널 보내지 못하는데\\n눈꽃이 떨어져요\\n또 조금씩 멀어져요\\n보고 싶다 보고 싶다\\n보고 싶다 보고 싶다\\n얼마나 기다려야\\n또 몇 밤을 더 새워야\\n널 보게 될까 널 보게 될까\\n만나게 될까 만나게 될까\\nYou know it all\\nYou're my best friend\\n아침은 다시 올 거야\\n어떤 어둠도 어떤 계절도\\n영원할 순 없으니까\\n벚꽃이 피나봐요\\n이 겨울도 끝이 나요\\n보고 싶다 보고 싶다\\n보고 싶다 보고 싶다\\n조금만 기다리면\\n며칠 밤만 더 새우면\\n만나러 갈게 만나러 갈게\\n데리러 갈게 데리러 갈게\\n추운 겨울 끝을 지나\\n다시 봄날이 올 때까지\\n꽃 피울 때까지\\n그곳에 좀 더 머물러줘\\n머물러줘\",\n",
       " \"Smooth like butter\\nLike a criminal undercover\\nGon’ pop like trouble\\nBreakin’ into your heart like that\\n\\nCool shade stunner\\nYeah I owe it all to my mother\\nHot like summer\\nYeah I’m makin’ you sweat like that\\n\\nBreak it down\\n\\nOh when I look in the mirror\\nI’ll melt your heart into 2\\nI got that superstar glow so\\nDo the boogie like\\n\\nSide step right left to my beat (heartbeat)\\nHigh like the moon rock with me baby\\nKnow that I got that heat\\nLet me show you ‘cause talk is cheap\\nSide step right left to my beat (heartbeat)\\nGet it, let it roll\\n\\nSmooth like butter\\nPull you in like no other\\nDon’t need no Usher\\nTo remind me you got it bad\\n\\nAin’t no other\\nThat can sweep you up like a robber\\nStraight up, I got ya\\nMakin’ you fall like that\\n\\nBreak it down\\n\\nOh when I look in the mirror\\nI’ll melt your heart into 2\\nI got that superstar glow so\\nDo the boogie like\\n\\nSide step right left to my beat (heartbeat)\\nHigh like the moon rock with me baby\\nKnow that I got that heat\\nLet me show you ‘cause talk is cheap\\nSide step right left to my beat (heartbeat)\\nGet it, let it roll\\n\\nGet it, let it roll\\nGet it, let it roll\\n\\nNo ice on my wrist\\nI'm that n-ice guy\\nGot that right body and that right mind\\nRollin' up to party got the right vibe\\nSmooth like butter\\nHate us love us\\n\\nFresh boy pull up and we lay low\\nAll the playas get movin’ when the bass low\\nGot ARMY right behind us when we say so\\nLet's go\\n\\nSide step right left to my beat (heartbeat)\\nHigh like the moon rock with me baby\\nKnow that I got that heat\\nLet me show you ‘cause talk is cheap\\nSide step right left to my beat (heartbeat)\\nGet it, let it roll\\n\\nSmooth like (butter)\\nCool shade (stunner)\\nAnd you know we don't stop\\n\\nHot like (summer)\\nAin’t no (bummer)\\nYou be like oh my god\\n\\nWe gon’ make you rock and you say (yeah)\\nWe gon’ make you bounce and you say (yeah)\\n\\nHotter?\\nSweeter!\\nCooler?\\nButter!\\n\\nGet it, let it roll\",\n",
       " 'Look at you 넌 못 감당해 날\\nYa took off hook\\n기분은 Coke like brrr\\nLook at my toe 나의 Ex 이름 Tattoo\\nI got to drink up now 네가 싫다 해도 좋아\\n\\nWhy are you cranky, boy?\\n뭘 그리 찡그려 너\\nDo you want a blond barbie doll?\\nIt’s not here, I’m not a doll\\n\\n미친 연이라 말해 What’s the loss to me ya\\n사정없이 까보라고 You’ll lose to me ya\\n사랑 그깟 거 따위 내 몸에 상처 하나도 어림없지\\n너의 썩은 내 나는 향수나 뿌릴 바엔\\n\\nYe I’m a Tomboy (Umm ah umm)\\nYe I’ll be the Tomboy (Umm ah)\\nThis is my attitude\\nYe I’ll be the Tomboy\\n\\nI don’t wanna play this ping pong\\nI would rather film a Tik Tok\\nYour mom raised you as a prince\\nBut this is queendom, right?\\nI like dancing, I love ma friends\\nSometimes we swear without cigarettes\\nI like to eh on drinking whiskey\\nI won’t change it, what the hell?\\n\\n미친 척이라 말해 What’s the loss to me ya\\n사정없이 씹으라고 You’re lost to me ya\\n사랑 그깟 거 따위 내 눈에 눈물 한 방울 어림없지\\n너의 하찮은 말에 미소나 지을 바엔\\n\\nYe I’m a Tomboy (Umm ah umm)\\nYe I’ll be the Tomboy (Umm ah)\\nThis is my attitude\\nYe I’ll be the Tomboy\\n\\nSaid you get it?\\nYou get the song right, you’ll get what I mean “Tomboy”\\n\\nLa la la la la la la la la\\nLa la la la la la la la la\\n\\nLa la la la la la la la la\\nLa la la la la la la la la\\n(Three, two, one)\\n\\nIt’s neither man nor woman\\nMan nor woman\\nIt’s neither man nor woman\\n(Just me I-DLE)\\n\\nIt’s neither man nor woman\\nMan nor woman\\nIt’s neither man nor woman\\n(Just me loving Tomboy)',\n",
       " 'It’s the thought of being young\\nWhen your heart’s just like a drum\\nBeating louder with no way to guard it\\nWhen it all seems like it’s wrong\\nJust sing along to Elton John\\nAnd to that feeling, we’re just getting started\\n\\nWhen the nights get colder\\nAnd the rhythms got you falling behind\\nJust dream about that moment\\nWhen you look yourself right in the eye, eye, eye\\nThen you say\\n\\nI wanna dance\\nThe music’s got me going\\nAin’t nothing that can stop how we move yeah\\nLet’s break our plans\\nAnd live just like we’re golden\\nAnd roll in like we’re dancing fools\\n\\nWe don’t need to worry\\n‘Cause when we fall we know how to land\\nDon’t need to talk the talk, just walk the walk tonight\\n‘Cause we don’t need permission to dance\\n\\nThere’s always something that’s standing in the way\\nBut if you don’t let it faze ya\\nYou’ll know just how to break\\nJust keep the right vibe yeah\\n‘Cause there’s no looking back\\nThere ain’t no one to prove\\nWe don’t got this on lock yeah\\n\\nThe wait is over\\nThe time is now so let’s do it right\\nYeah we’ll keep going\\nAnd stay up until we see the sunrise\\nAnd we’ll say\\n\\nI wanna dance\\nThe music’s got me going\\nAin’t nothing that can stop how we move yeah\\nLet’s break our plans\\nAnd live just like we’re golden\\nAnd roll in like we’re dancing fools\\n\\nWe don’t need to worry\\n‘Cause when we fall we know how to land\\nDon’t need to talk the talk, just walk the walk tonight\\n‘Cause we don’t need permission to dance\\n\\nDa na na na na na na\\nDa na na na na na na\\nDa na na na na na na\\nNo, we don’t need permission to dance\\n\\nDa na na na na na na\\nDa na na na na na na\\nDa na na na na na na\\n\\nWell let me show ya\\nThat we can keep the fire alive\\n‘Cause it’s not over\\nTill it’s over say it one more time\\nSay\\n\\nI wanna dance\\nThe music’s got me going\\nAin’t nothing that can stop how we move yeah\\nLet’s break our plans\\nAnd live just like we’re golden\\nAnd roll in like we’re dancing fools\\n\\nWe don’t need to worry\\n‘Cause when we fall we know how to land\\nDon’t need to talk the talk, just walk the walk tonight\\n‘Cause we don’t need permission to dance',\n",
       " \"건물 사이에 피어난 장미\\n제발 살아남아 줬으면\\n꺾이지 마 잘 자라줘\\n온몸을 덮고 있는 가시\\n얼마나 힘이 들었으면\\n견뎌내줘서 고마워\\n예쁘지 않은 꽃은 다들\\n골라내고 잘라내\\n예쁘면 또 예쁜 대로\\n꺾어 언젠가는 시들고\\n왜 내버려 두지를 못해\\n그냥 가던 길 좀 가\\n어렵게 나왔잖아\\n악착같이 살잖아 hey\\n나는 건물 사이에 피어난 장미\\n삭막한 이 도시가\\n아름답게 물들 때까지\\n고갤 들고 버틸게 끝까지\\n모두가 내 향길 맡고 취해\\n웃을 때까지\\nOh oh oh oh\\nNo I'm not goin' down\\nI'll be alright\\nYeh I'm only goin' up\\nand Imma be alright\\nHey\\n내가 원해서 여기서 나왔냐고\\n원망해 봐도 안 달라져 하나도\\n지나고 돌아보면\\n앞만 보던 내가 보여\\n그때그때 잘 견뎌냈다고\\n생각 안 해 그냥 날 믿었다고\\n거센 바람이 불어와\\n내 살을 베려 해도\\n자꾸 벌레들이 나를\\n괴롭히고 파고들어도\\nNo 언제나 굴하지 않고\\n쓰러지지 않아 난\\n어렵게 나왔잖아\\n악착같이 살잖아\\n나는 건물 사이에 피어난 장미\\n삭막한 이 도시가\\n아름답게 물들 때까지\\n고갤 들고 버틸게 끝까지\\n모두가 내 향길 맡고\\n취해 웃을 때까지\\nKeep it up\\nOh oh oh oh\\nIt's a song for you and I\\nSay that we're alive\\nCelebrate it now\\n나는 건물 사이에 피어난 장미\\n삭막한 이 도시가\\n아름답게 물들 때까지\\n고갤 들고 버틸게 끝까지\\n모두가 내 향길 맡고\\n취해 웃을 때까지\\nKeep it up\\nOh oh oh oh\\nNo I'm not goin' down\\nI'll be alright\\nYeh I'm only goin' up\\nand Imma be alright\\nHey\\nKeep it up\\nOh oh oh oh\\nNo I'm not goin' down\\nI'll be alright\\nYeh I'm growin' up\\nand Imma be alright\\nHey\",\n",
       " '그녀와 나는요 그땐 참 어렸어요\\n많이 사랑했고 때론 많이 다퉜었죠\\n지금 생각하면 모두 내 잘못이죠\\n마지막 그날도 그녀는 울었어\\n나는 그녈 잡지 못했죠\\n지금까지도 너무 후회가 돼요\\n그 후로 누굴 사랑한 적 없어 아직은\\n그녀와 나는요\\n언젠가 만날 거죠\\n변해버린 모습 변해버린 시간 속에\\n하지만 괜찮아 내 눈엔 아름답던\\n예전 모습 그대로 일 거예요\\n그녀도 날 못 잊을 거야 나는 믿어요\\n그만큼 사랑했죠\\n그래서 우린 한 번은 만나야만 해요\\n그녀의 친구라도 이 노랠 듣는다면\\n그녀에게 전해줘요\\n내가 아직 사랑한다고\\n우리가 처음 만난 그 시간 그 자리에\\n내가 매일 기다린다고\\n언제라도\\n그녀도 날 못 잊을 거야 나는 믿어요\\n그만큼 사랑했죠\\n그래서 우린 한 번은 만나야만 해요\\n그녀의 친구라도 이 노랠 듣는다면\\n그녀에게 전해줘요\\n내가 아직 사랑한다고\\n우리가 처음 만난 그 시간 그 자리에\\n내가 매일 기다린다고\\n그녀의 친구라도 이 노랠 듣는다면\\n그녀에게 전해줘요\\n내가 아직 사랑한다고\\n우리가 처음 만난 그 시간 그 자리에\\n내가 매일 기다린다고\\n내가 매일 기다린다고',\n",
       " \"I do the same thing I told you\\nthat I never would\\nI told you I'd change\\neven when I knew I never could\\nI know that I can't find\\nnobody else\\nas good as you\\nI need you to stay\\nneed you to stay hey Oh\\nI get drunk wake up\\nI'm wasted still\\nI realize the time\\nthat I wasted here\\nI feel like you can't\\nfeel the way I feel\\nOh I'll be fucked up\\nif you can't be right here\\nOh ooh-woah\\nOh ooh-woah ooh-woah\\nOh ooh-woah\\nOh ooh-woah ooh-woah\\nOh ooh-woah\\nOh ooh-woah ooh-woah\\nOh I'll be fucked up\\nif you can't be right here\\nI do the same thing I told you\\nthat I never would\\nI told you I'd change\\neven when I knew I never could\\nI know that I can't find\\nnobody else\\nas good as you\\nI need you to stay\\nneed you to stay hey\\nI do the same thing I told you\\nthat I never would\\nI told you I'd change\\neven when I knew I never could\\nI know that I can't find\\nnobody else\\nas good as you\\nI need you to stay\\nneed you to stay hey\\nWhen I'm away from you\\nI miss your touch Ooh\\nYou're the reason\\nI believe in love Ooh\\nIt's been difficult\\nfor me to trust Ooh\\nAnd I'm afraid\\nthat I'ma fuck it up Ooh\\nAin't no way\\nthat I can leave you stranded\\n'Cause you ain't ever left me\\nempty-handed\\nAnd you know that I know\\nthat I can't live without you\\nSo baby stay\\nOh ooh-woah\\nOh ooh-woah ooh-woah\\nOh ooh-woah\\nOh ooh-woah ooh-woah\\nOh ooh-woah\\nOh ooh-woah ooh-woah\\nI'll be fucked up\\nif you can't be right here\\nI do the same thing I told you\\nthat I never would\\nI told you I'd change\\neven when I knew I never could\\nI know that I can't find\\nnobody else\\nas good as you\\nI need you to stay\\nneed you to stay hey\\nI do the same thing\\nI told you that I never would\\nI told you I'd change\\neven when I knew I never could\\nI know that I can't find\\nnobody else\\nas good as you\\nI need you to stay\\nneed you to stay hey\\nWoah-oh\\nI need you to stay\\nneed you to stay hey\",\n",
       " \"Look how all the tables\\nLook how all the tables have turned\\nGuess you're finally realizing\\nhow bad you messed it up\\nGirl you're only makin'\\nGirl you're only makin' it worse\\nWhen you called\\nlike you always do\\nwhen you want someone\\nYou took away a year of my fuckin' life\\nAnd I can't get it back no more\\nSo when I see those tears\\nComin' out your eyes\\nI hope it’s me they're for\\nYou didn't love when you had me\\nBut now you need me so badly\\nYou can't be serious Ha ha ha\\nThat's hilarious Ha ha ha ha ha\\nThinkin' I would still want you\\nAfter the things you put me through\\nYeah you're delirious Ha ha ha\\nThat's hilarious Ha ha ha ha ha\\nNow you put the blame in\\nNow you put the blame in reverse\\nTryna make me feel guilty\\nfor everything you've done\\nYou're another lesson\\nYou're another lesson\\nYou're just another lesson I learned\\nDon't give your heart to a girl\\nwho's still got a broken one\\nYou took away a year of my fuckin' life\\nAnd I can't get it back no more\\nSo when I see those tears\\nWhen I see those tears\\nComin' out your eyes\\nI hope it’s me they're for\\nYou didn't love when you had me\\nBut now you need me so badly\\nYou can't be serious Ha ha ha\\nThat's hilarious Ha ha ha ha ha\\nThinkin' I would still want you\\nAfter the things you put me through\\nYeah you're delirious\\nHa ha ha you're delirious\\nThat's hilarious\\nHa ha ha ha ha that's hilarious\\nYou didn't love when you had me\\nBut now you need me so badly\\nYou can't be serious\\nYou can't be serious Ha ha ha\\nThat's hilarious That's hilarious\\nHa ha ha ha ha\\nThinkin' I would still want you\\nOh no oh oh\\nAfter the things you put me through\\nYeah you're delirious\\nYou're delirious Ha ha ha\\nThat's hilarious That's hilarious\\nHa ha ha ha ha\\nHa ha ha\\nHa ha ha ha ha\",\n",
       " \"I need your love\\n너는 듣고 있을까\\nI'm in love\\n아직 이곳에서\\n우릴 기억해 널 그리워해\\n그 추억 속에 푹 잠겨버린\\n난 마치\\n밤거리의 갈 곳을 잃은 아이\\n버릇처럼 널 불러\\nsuch a lonely night\\n너에게로 가는 맘\\n빈 거리에 남은 채로\\n이 노래를 불러\\n온 세상이 너의 memory\\n향기만 번져 멀리\\nI call you louder louder\\n향기만 번져 멀리\\nI call you louder louder\\n향기만 번져 멀리\\nI need your love\\nwhere are you now?\\n여전히 난 널 기다려\\n너만이 오직 날 완성해\\nwhere am I?\\n푹 잠겨버린 난 마치\\n밤거리의 갈 곳을 잃은 아이\\n버릇처럼 널 불러\\nsuch a lonely night\\n너에게로 가는 맘\\n빈 거리에 남은 채로\\n이 노래를 불러\\n온 세상이 너의 memory\\n향기만 번져 멀리\\nI call you louder louder\\n향기만 번져 멀리\\nI call you louder louder\\n향기만 번져 멀리\\n널 지워내 또 그려내\\n혼자 하는 이별조차\\n난 할 수 없나 봐\\n기억들 너머\\n흐린 추억을 건너\\n지나치는 나를 뒤로\\n넌 사라져\\n밤거리의 갈 곳을 잃은 아이\\n버릇처럼 널 불러\\nsuch a lonely night\\n너에게로 가는 맘\\n빈 거리에 남은 채로\\n이 노래를 불러\\n온 세상이 너의 memory\\n향기만 번져 멀리\\nI call you louder louder\\n향기만 번져 멀리\\nI call you louder louder\\n향기만 번져 멀리\",\n",
       " '밤은 다시 길고 깊어졌네\\n나는 점점 너로 잠 못 들게 돼\\n글로 적어내긴 어려운 이 기분을\\n너도 느꼈으면 좋겠는데\\n너는 아무 생각 없이 몇 번\\n나를 지나가며 웃은 거라지만\\n나의 하얀 옷에 너의 잉크가 묻어\\n닦아낼 수 없을 만큼 번졌네\\n달콤한 색감이 물들어 조금씩\\n정신을 차렸을 땐 알아볼 수도 없지\\n가득 찬 마음이 여물다 못해\\n터지고 있어\\n내일은 말을 걸어봐야지\\n요즘 노랜 뭔가 맘에 안 들어\\n네게 불러 주기엔 좀 어려워서\\n나름 며칠 밤을 새워 연습했지만\\n네게 들려주기엔 무리인 것 같아\\n너는 번질수록 진해져 가고\\n나의 밤은 좀 더 길고 외롭지만\\n하루종일 떠오르는 너의 얼굴은\\n방을 가득 채워 무지개같이\\n달콤한 색감이 물들어 조금씩\\n정신을 차렸을 땐 알아볼 수도 없지\\n가득 찬 마음이 여물다 못해\\n터지고 있어\\n내일은 말을 걸어봐야지\\n바람을 맞고 빗물에 젖어\\n나의 색감도 흐려지겠지만\\n너는 항상 빛에 반짝일 테니까\\n멋진 말들을 전하지 못하고\\n아무도 관심 없는 그림이 되겠지만\\n달콤한 색감은 감추지 못해\\n터지고 있어\\n내일은 말을 걸어봐야지\\n그냥 이 노래가 어떨까 싶어',\n",
       " 'We’ll get it done\\nWe’ll work as one\\nWe’ll get it done nah nah\\nWe’ll get it done\\nWe’ll work as one\\nWe’ll get it done nah nah\\n(Oh listen up)\\nWe’ll get it done\\nWe’ll work as one\\n(Come on everyone)\\nWe’ll get it done nah nah\\nWe’ll get it done\\n(We can do it yeah)\\nWe’ll work as one\\nWe’ll get it done\\nYou and I got the power\\n너와 나의 작은 별\\n지금 아파하고 있어\\n하늘은 자꾸 어두워져\\nBut you and I got the power\\n시곗바늘을 힘껏\\n잡아 너의 손에 꼭\\n자 돌아가 보자고\\nOh oh yeah\\n하늘까지 걸어가\\n까만 구름 위로 점프\\n(Don’t make it stop)\\n우리 함께 해볼까\\n‘Cause wherever you go, I’m goin’\\nAnd you know it\\n(Here we go)\\n잿빛 도시 멀리\\n여행을 떠나자\\n널 비추는 달빛을 따라\\nYou’re one in a million\\nSo let all your colors shine\\n(Colors shine)\\n밤하늘 깊이 춤을 추는\\n별들 따라 one two three\\n함께 떠나 저기 아득한 우주 멀리\\nYou’re one in a million\\nSo let all your colors shine\\n(Dance right, dance dance right)\\nWe’ll get it done\\nWe’ll work as one\\nWe’ll get it done nah nah\\nWe’ll get it done\\nWe’ll work as one\\nWe’ll get it done\\n저 파란 energy\\n이끌어내 더 높이\\n이 세곌 되돌릴 seven keys\\nWe singin’, we dancin’\\nYou could feel the air (listen up)\\n뭐든 할 수 있어 (work it up)\\n이미 알고 있어 (all the love)\\nLet’s rock the world\\n(if we want it we can have it)\\nWe’ll save this planet\\nWe love this planet\\n소중한 모든 걸\\n지키고 싶은 걸\\n꽃들 사이 날아가\\n초록 들판 위에 누워\\n(Don’t make it stop)\\n어떤 꿈을 꿔볼까\\n‘Cause wherever you go, I’m goin’\\nAnd you know it\\n(Here we go)\\n잿빛 도시 멀리\\n여행을 떠나자\\n널 비추는 달빛을 따라\\nYou’re one in a million\\nSo let all your colors shine\\n(Colors shine)\\n밤하늘 깊이 춤을 추는\\n별들 따라 one two three\\n함께 떠나 저기 아득한 우주 멀리\\nYou’re one in a million\\nSo let all your colors shine\\n(Dance right, dance dance right)\\nWe’ll get it done\\nWe’ll work as one\\nWe’ll get it done nah nah\\nWe’ll get it done\\nWe’ll work as one\\nWe’ll get it done nah nah\\nWe’ll get it done\\nWe’ll work as one\\nWe’ll get it done nah nah\\nWe’ll get it done\\nWe’ll work as one\\nWe’ll get it done',\n",
       " 'Candy\\n사실은 오늘 너와의\\n만남을 정리하고 싶어\\n널 만날 거야 이런 날 이해해\\n어렵게 맘 정한 거라\\n네게 말할 거지만\\n사실 오늘 아침에\\n그냥 나 생각한 거야\\n햇살에 일어나 보니\\n너무나 눈부셔\\n모든 게 다 변한 거야\\n널 향한 마음도\\n그렇지만 널 사랑 않는 게 아냐\\n이제는 나를 변화시킬 테니까\\n너 몰래 몰래 몰래\\n다른 여자들과 비교 비교했지\\n자꾸만 깨어지는 환상 속에\\n혼자서 울고 있는\\n초라하게 갇혀버린 나를 보았어\\n널 떠날 거야 uh\\n널 떠날 거야 uh\\n하지만 아직까지 사랑하는 걸\\n그래 그렇지만 내 맘속에\\n너를 잊어갈 거야\\n머리 위로 비친\\n내 하늘 바라다보며\\n널 향한 마음을 이제는 굳혔지만\\n웬일인지 네게 더 다가갈수록\\n우린 같은 하늘 아래 서 있었지\\n단지 널 사랑해 이렇게 말했지\\n이제껏 준비했던\\n많은 말을 뒤로한 채\\n언제나 니 옆에 있을게\\n이렇게 약속을 하겠어\\n저 하늘을 바라다보며\\n내게 하늘이 열려있어\\n그래그래 너는 내 앞에 서 있고\\n그래 다른 연인들은 키스를 해\\n하지만 항상 나는\\n너의 뒤에 있어야만 해\\n이제 그만해 나도 남잔데\\n내 마음 너도 알고 있는 걸 알아\\n그래 이제 나도 지쳐서\\n하늘만 바라볼 수밖에\\n내게 하늘이 열려있어\\n그래그래 너는 내 앞에 서 있고\\n그래 다른 연인들은 키스를 해\\n왜 난 너의 뒤에 있어야 할까\\n햇살에 일어나 보니\\n너무나 눈부셔\\n모든 게 다 변한 거야\\n널 향한 마음도\\n그렇지만 널 사랑 않는 게 아냐\\n이제는 나를 변화시킬 테니까\\n머리 위로 비친\\n내 하늘 바라다보며\\n널 향한 마음을 이제는 굳혔지만\\n웬일인지 네게 더 다가갈수록\\n우린 같은 하늘 아래 서 있었지\\n단지 널 사랑해 이렇게 말했지\\n이제껏 준비했던\\n많은 말을 뒤로한 채\\n언제나 니 옆에 있을게\\n이렇게 약속을 하겠어\\n저 하늘을 바라보며\\n한 번 더 한 번 더 말했지\\n이제껏 준비했던\\n많은 말을 뒤로한 채\\n(준비했던 많은 말을 뒤로한 채\\n다시 널 사랑한다고 했지)\\n언제나 니 옆에 있을게\\n다신 너 혼자 아냐\\n너의 곁엔 내가 있잖아',\n",
       " \"Bam ba ba ba ba bam ba ba ba ba bam\\nBa ba ba ba bam\\nBam ba ba ba ba bam ba ba ba ba bam\\nBa ba ba ba bam\\n\\n제일 높은 곳에 난 닿길 원해 느꼈어 내 answer\\n내 혈관 속에 날뛰는 new wave 내 거대한 passion\\n관심 없어 과거에 모두가 알고 있는 그 트러블에 huh\\nI'm fearless a new b**ch new crazy 올라가 next one\\n\\n밟아줘 highway highway\\n멋진 결말에 닿게\\n내 흉짐도 나의 일부라면\\n겁이 난 없지 없지\\n\\nWhat you lookin’ at\\nWhat you what you lookin’ at\\nWhat you lookin’ at\\nWhat you what you lookin’ at\\nWhat you lookin’ at\\nWhat you what you lookin’ at\\nMmmm I’m fearless huh\\n\\nYou should get away\\nGet a get a get away\\n다치지 않게 다치 다치지 않게\\nYou should get away\\nGet a get a get away\\nMmmm I’m fearless huh\\n\\nBam ba ba ba ba bam ba ba ba ba bam\\nBa ba ba ba bam\\nBam ba ba ba ba bam ba ba ba ba bam\\nBa ba ba ba bam\\n\\n욕심을 숨기라는 네 말들은 이상해\\n겸손한 연기 같은 건 더 이상 안 해\\n가져와 forever win 내게 ay\\n가슴팍에 숫자 1 내게 ay\\n내 밑으로 조아린 세계 ay\\nTake the world break it down break you down down\\n\\n밟아줘 highway highway\\n멋진 결말에 닿게\\n내 흉짐도 나의 일부라면\\n겁이 난 없지 없지\\n\\nWhat you lookin’ at\\nWhat you what you lookin’ at\\nWhat you lookin’ at\\nWhat you what you lookin’ at\\nWhat you lookin’ at\\nWhat you what you lookin’ at\\nMmmm I’m fearless huh\\n\\nYou should get away\\nGet a get a get away\\n다치지 않게 다치 다치지 않게\\nYou should get away\\nGet a get a get away\\nMmmm I’m fearless huh\\n\\nBam ba ba ba ba bam ba ba ba ba bam\\nBa ba ba ba bam\\nBam ba ba ba ba bam ba ba ba ba\\nMmmm I’m fearless huh\\n\\n더는 없어 패배\\n준비된 내 payback\\nBring it 당장 내게\\nMmmm I’m fearless huh\\n\\nWhat you lookin’ at\\nWhat you what you lookin’ at\\nWhat you lookin’ at\\nWhat you what you lookin’ at\\nWhat you lookin’ at\\nWhat you what you lookin’ at\\nMmmm I’m fearless huh\\n\\nYou should get away\\nGet a get a get away\\n다치지 않게 다치 다치지 않게\\nYou should get away\\nGet a get a get away\\nMmmm I’m fearless huh\",\n",
       " '다 잊었다는 거짓말\\n또 해 버렸죠\\n내 마음에 그대란 사람\\n없다고 했죠\\n너무나 쉽게 잊혀졌다고\\n이젠 남이라고\\n서툰 내 사랑에 지쳐 떠난 그대\\n너무 많이 울려서\\n잡을 용기조차 낼 수 없었죠\\n미안해요 내 사랑아\\n다신 나 같은 사람 만나지 마요\\n혹시 찾아가도 두 번 다시\\n나를 허락해 주지 마요\\n그댄 여리고 너무 착해서\\n싫단 말도 잘 못하는데\\n많이 부족한 나를 사랑한 그대\\n이거면 됐어요 더 이상은\\n그대 불행하지 않도록\\n나 이쯤에서 없어지는 게\\n그댈 위한 나의 사랑인 걸요\\n너무 투명해서 때론 불안했죠\\n제멋대로 살아온 나를\\n감당할 수 없을 것 같죠\\n미안해요 내 사랑아\\n다신 나 같은 사람 만나지 마요\\n혹시 찾아가도 두 번 다시\\n나를 허락해 주지 마요\\n그댄 여리고 너무 착해서\\n싫단 말도 잘 못하는데\\n고마웠어요 나를 사랑해 줘서\\n나 같은 사람이 두 번 다시\\n감히 받을 수 없는 사랑\\n그대 때문에 행복했어요\\n울지 마요 그대\\n잘 생각해 봐요\\n나쁜 일들만 가득했던 우리\\n다 잊어야 해요\\n다신 나 같은 사람 만나지 마요\\n혹시 찾아가도 두 번 다시\\n나를 허락해 주지 마요\\n그댄 여리고 너무 착해서\\n싫단 말도 잘 못하는데\\n많이 부족한 나를 사랑한 그대\\n이거면 됐어요\\n더 이상은 그대 불행하지 않도록\\n나 이쯤에서 없어지는 게\\n그댈 위한 나의 사랑인 걸요',\n",
       " \"Blackpink in your area\\nBlackpink in your area\\n\\n컴백이 아냐 떠난 적 없으니까\\n고개들이 돌아 진정해 목 꺾일라\\n분홍빛의 얼음 drip drip drip\\nfreeze ‘em on sight\\nShut it down what what what what\\n\\n게임이 아냐 진 적이 없으니까\\n짖어봐 네 목에 목줄은 내 거니까\\n땅바닥에 닿은 pedal we go two zero five\\nShut it down uh uh uh uh\\n\\n초록 비를 내려 머리 위로 Don’t trip, baby\\n겸손하게 그냥 앉아있어 Just sit, baby\\n\\nPraying for my downfall,\\nmany have tried, baby\\nCatch me when you hear my Lamborghini go vroom, vroom, vroom,\\nvroom\\n\\nWhen we pull up you know\\nit’s a shutdown\\n간판 내리고 문 잠가 shut down\\nWhip it whip it whip it whip it\\nWhip it whip it whip it whip it\\nIt’s black and it’s pink once the sun\\ndown\\n\\nWhen we pull up you know\\nit’s a shutdown\\n간판 내리고 문 잠가 shut down\\nWhip it whip it whip it whip it\\nWhip it whip it whip it whip it\\nKeep watching me shut it down\\n\\nNah\\nYou don’t wanna be on my bad side\\nthat’s right I’m slidin’ through\\nBunch of wannabes that wanna be me,\\nme three if I was you\\nBeen around the world, pearls on ya\\ngirl, VVS's we invested uh\\nNeed a lesson see the necklace,\\nsee these dresses\\nWe don’t buy it we request it uh\\n\\nA rockstar, a popstar but rowdier\\nSay bye to the paparazzi, get my\\ngood side, I'll smile for ya\\nKnow it ain’t fair to ya, it’s scarin’ ya\\nlike what now\\nBlackpink in your area, the area been\\nshut down. It’s a shutdown\\n\\n네 다음 답안지야 똑바로 봐\\ndon’t sleep baby\\n뒤집어봐 이건 가격표야 ain’t cheap baby\\n\\nStay in your own lane ‘cause\\nI’m ‘bout to swerve\\nCatch me when you hear my Lamborghini go vroom, vroom, vroom,\\nvroom\\n\\nWhen we pull up you know\\nit’s a shutdown\\n간판 내리고 문 잠가 shut down\\n\\n\\nWhip it whip it whip it whip it\\nWhip it whip it whip it whip it\\n\\nIt’s black and it’s pink once the sun\\ndown\\n\\nWhen we pull up you know\\nit’s a shutdown\\n간판 내리고 문 잠가 shut down\\n\\nWhip it whip it whip it whip it\\nWhip it whip it whip it whip it\\n\\nKeep watching me shut it down\\n\\nShut it down Blackpink in your area\\nShut it down woah woah woah woah\\nShut it down Blackpink in your area\\nKeep talking we shut you down\",\n",
       " '뭐하고 있었니 늦었지만\\n잠시 나올래\\n너의 집 골목에 있는\\n놀이터에 앉아 있어\\n친구들 만나서 오랜만에\\n술을 좀 했는데\\n자꾸만 니 얼굴 떠올라\\n무작정 달려왔어\\n이 맘 모르겠니\\n요즘 난 미친 사람처럼\\n너만 생각해\\n대책없이 네가 점점 좋아져\\n아냐 안 취했어 진짜야\\n널 정말 사랑해\\n눈물이 날만큼 원하고 있어\\n정말로 몰랐니\\n가끔 전화해 장난치듯\\n주말엔 뭐할거냐며\\n너의 관심 끌던 나를\\n그리고 한번씩 누나 주려 샀는데\\n너 그냥 준다고\\n생색 낸 선물도 너 때문에 산거야\\n이 맘 모르겠니\\n요즘 난 미친 사람처럼\\n너만 생각해\\n대책없이 네가 점점 좋아져\\n아냐 안 취했어 진짜야\\n널 정말 사랑해\\n진심이야 믿어줘\\n갑자기 이런 말 놀랐다면 미안해\\n부담이 되는게 당연해\\n이해해 널\\n하지만 내 고백도 이해해 주겠니 oh\\n지금 당장 대답하진마\\n나와 일주일만 사귀어줄래\\n후회없이 잘 해주고 싶은데\\n그 후에도 니가 싫다면\\n나 그때 포기할게\\n귀찮게 안할게 혼자 아플게\\n진심이야 너를 사랑하고 있어',\n",
       " \"따분한 나의 눈빛이\\n무표정했던 얼굴이\\n널 보며 빛나고 있어\\n널 담은 눈동자는 odd\\n\\n내 안에 빼곡하게 피어나는 blue\\n내가 지금 느끼는 이 감정들은 true\\n내 입술을 간지럽힌 낯선 그 이름\\n난 몰랐어 내 맘이 이리 다채로운지\\n\\n긴 꿈을 꾸게 해 이 방은 작은 heaven\\n춤을 추곤 해 실컷 어지러울 만큼\\nOh my, oh my god\\n한 칸 더 채우고 있어\\n잘 봐 1, 2, 3, 4, 5, 6, 7\\nYou make me feel like eleven\\n\\n투명한 너와 나의 사이\\n가만히 들여다보다\\n일렁인 물결 속으로\\n더 빠져드는 걸\\n\\n그날 향기로운 보랏빛의 mood\\n셀 수 없이 반복해도 기분 좋은 꿈\\n감히 누가 이렇게 날 설레게 할 줄\\n난 몰랐어 내 맘이 이리 다채로운지\\n\\n긴 꿈을 꾸게 해 이 방은 작은 heaven\\n춤을 추곤 해 실컷 어지러울 만큼\\nOh my, oh my god\\n한 칸 더 채우고 있어\\n잘 봐 1, 2, 3, 4, 5, 6, 7\\nYou make me feel like eleven\\n\\n내 앞에 있는 너를\\n그 눈에 비친 나를 (그 눈에 비친 나를)\\nAya, aya, aya (가만히 바라봐)\\n내 앞에 있는 너를\\n그 눈에 비친 나를\\n가만히 바라봐\\n\\nDon't say now\\n서둘러 오진 마\\n이 순간이 좋아 난\\n미처 몰랐어 내 맘이 이리 다채로운지\\n\\n긴 꿈을 꾸게 해 이 방은 작은 heaven\\n춤을 추곤 해 실컷 어지러울 만큼\\nOh my, oh my god\\n한 칸 더 채우고 있어\\n잘 봐 1, 2, 3, 4, 5, 6, 7\\nYou make me feel like eleven\\n\\n내 앞에 있는 너를\\n그 눈에 비친 나를\\nAya, aya, aya\\n내 앞에 있는 너를\\n그 눈에 비친 나를\\n사랑하게 됐거든\",\n",
       " '‘싫어’ 하면 싫어지면 좋겠어\\n좋아하는 마음을 멈추고 싶어\\n아주 잘 지내고 있단\\n소식은 잘 듣고 있어\\n친구 녀석들 놀리듯 내게 전하고 있어\\n무심코 집은 옷걸이 위에\\n걸려있던 너의 계절 재킷\\n그 위로 쌓인 마음이 뭔지\\n너의 향기 묻어있는\\n쓰리디쓰린 그리움의 먼지\\n흩날리는 일이 없어\\n마음 가득히 쌓여만 가요\\n엉켜서 굴러다니죠\\n살피꽃밭 길의 기억을 버리고 버려도\\n먼지처럼 다시 돌아와\\n마음 가득 쌓이네요\\n짙은 추억은 유치해 뻔한 거짓말을 해\\n알면서도 속고 싶어\\n시간은 약이란 말은 날마다 가짜\\n무슨 말을 믿어야 내 마음이 편할까요\\n나의 지갑 깊은 모퉁이\\n남아있는 너의 증명사진\\n그 위로 쌓인 마음이 뭔지\\n너의 추억 묻어있는\\n쓰리디쓰린 그리움의 먼지\\n흩날리는 일이 없어\\n마음 가득히 쌓여만 가요\\n엉켜서 굴러다니죠\\n살피꽃밭 길의 기억을 버리고 버려도\\n먼지처럼 다시 돌아와\\n아직 사랑한다고요\\n사랑한다고요',\n",
       " \"(Salty, Sweet)\\n(Salty, Sweet)\\n넘칠 만큼 Pour\\n휘저어 짙어지도록\\n특별한 맛을 더 Mix it up\\n비밀 재료를 Plus\\nRun Run Run\\nKitty Kitty Run Run\\n이미 넌 이미 넌\\n빠져들어 점점 Like\\n향기는 퍼져가 더 Uh huh\\n붉어지는\\nYour lips 사이사이\\n묘약을 가득 머금어\\n스며드는\\nOne drop, You’re gone\\nYou’re done\\nDon't regret regret\\n'Cause I am Salty & Sweet\\n거부 못해 색다른 Treat\\n잊지 못해\\n첫맛에 느끼는 Real\\n기묘한 Feels\\n널 위해 준비된 Meal\\nSalty & Sweet\\nHa ha ha ha ha ha\\n탐스러운 사과의 독처럼\\n유혹하며 빛나는\\nDiamonds and pearls\\n은밀하게 (쉿)\\n번뜩이는 Trick\\n너의 맘을 Steal\\nBetter quick quick quick\\n소름 끼치도록 (Yeah, Uh)\\n반전 있는 Recipe (Woo Nana)\\n먹어 치워 맘껏 (Yeah, Eat)\\n그 대가는 Not free\\n스며드는\\nOne drop, You’re gone\\nYou’re done\\nDon't regret regret\\n'Cause I am Salty & Sweet\\n거부 못해 색다른 Treat\\n잊지 못해\\n첫맛에 느끼는 Real\\n기묘한 Feels\\n널 위해 준비된 Meal\\nSalty & Sweet\\nHa ha ha ha ha ha\\n투명했던\\n그 눈빛은 이미\\n이 밤처럼\\n새까맣게 번져가\\n계속해서 삼켜내\\n뒷맛은 곧 알게 돼\\n모든 것이 나로 물든 순간\\nNa na na na na-\\n(Salty, Sweet)\\nNa na na na na-\\n(Salty & Sweet)\\n'Cause I am Salty & Sweet\\n거부 못해 색다른 Treat\\n잊지 못해\\n맛보는 모든 건 Real\\n섬뜩한 Feels\\n널 위해 준비된 Meal\\nSalty & Sweet\\nHa ha ha ha ha ha\\n(Salty, Sweet)\\nNa na na na na-\\nSo Salty, So Sweet Yeah\\n(Salty, Sweet)\\nNa na na na na-\\n(Salty, Sweet)\\nNa na na na na-\\nSo Salty\\n(Salty, Sweet)\\nNa na na na na-\",\n",
       " '해 질 무렵 날 끌고 간 발걸음\\n눈 떠보니 잊은 줄 알았던 곳에\\n아직도 너에 대한 미움이 남아 있는지\\n이젠 자유롭고 싶어\\n시간이 해결해 주리라\\n난 믿었지 그것조차 어리석었을까\\n이젠 흘러가는 대로 날 맡길래\\n너와는 상관없잖니\\n처음부터 너란 존재는 내겐 없었어\\n네가 내게 했듯이\\n기억해 내가 아파했던 만큼\\n언젠간 너도 나 아닌 누구에게\\n이런 아픔 겪을 테니\\n미안해 이렇게 밖에 할 수 없잖니\\n정말 이럴 수밖에\\n너처럼 다시 시작할 수 있는 그날이 오길\\n너를 사랑할 수 없고\\n너를 미워해야 하는 날 위해\\n시간이 해결해 주리라\\n난 믿었지 그것조차 어리석었을까\\n이젠 흘러가는 대로 날 맡길래\\n너와는 상관없잖니\\n처음부터 너란 존재는 내겐 없었어\\n네가 내게 했듯이\\n기억해 내가 아파했던 만큼\\n언젠간 너도 나 아닌 누구에게\\n이런 아픔 겪을 테니\\n미안해 이렇게 밖에 할 수 없잖니\\n정말 이럴 수 밖에\\n너처럼 다시 시작할 수 있는 그날이 오길\\n너를 사랑할 수 없고\\n너를 미워해야 하는 날 위해\\n너를 사랑할 수 없고\\n너를 미워해야 하는 날 위해',\n",
       " 'Every time I walk\\nEvery time I run\\nEvery time I move\\nAs always, for us\\nEvery time I look\\nEvery time I love\\nEvery time I hope\\nAs always, for us\\n(On the street, I’m still)\\n내 두 발은 선뜻 걸어, anywhere\\nJ in the air\\n가는 길이 희망이 되고자 하여,\\n나 구태여\\nEven my walk was made of\\nyour love and your faith\\n보답을 해, 저 멀리서라도 나비가 되어\\nNow just walk lightly,\\nwhenever you want\\nGo on hopefully, wherever you walk\\n누군가의 숨이 깃들어 있는 거리\\n내 영혼과 영원을 담을게\\nEverywhere (I’ll be)\\nEvery time I walk\\nEvery time I run\\nEvery time I move\\nAs always, for us\\nEvery time I look\\nEvery time I love\\nEvery time I hope\\nAs always, for us\\n(On the street, I’m still)\\nAll hail the mighty survivor of hell,\\nPlopped down from heaven to sell\\nHoly water that I scooped\\nfrom the well\\nFought tooth and a nail,\\nJust to prevail mongst it’s ruthless\\nAs I move through the field\\nFeelin worried\\nIn a hurry like a 2 minute drill\\nTo make a couple mil\\nOff a lucrative deal\\nSelling train of thought,\\nName a artist who could derail\\nYou’ll never see it\\nlike a n**** hula hoopin in jail\\nI got a friend smart as f***,\\nbut he stupid as hell\\nHe swear that God ain’t real\\nSince it ain’t no way to prove it his self\\nAs if the universe ain’t enough,\\nas if the volcanoes ain’t erupt\\nAs if the birds don’t chirp,\\nas if a trillion nerves don’t work\\nin the human body\\nWho would I be?\\nWithout the creator of this theater\\nBeside me to gently guide me?\\nSomedays I wonder\\nif I need to pick a different hobby\\nI’m deep in with this rappin\\nIt’s all a n**** know\\nI never didn’t nothin better,\\nit’s hard to let it go\\nBut like a father,\\nwatching his daughter,\\nwalk down the altar,\\nWith tears in his eyes,\\nyou gotta let her grow\\nAnd so I shall,\\nbut first I been honing my style\\nColdest around,\\nwith more quotables than\\nwhat the quota allows\\nYou see a top 10 list\\nI see a Golden Corral, n****\\nAs the moon jumps over the cow\\nI contemplate if I should\\nwait to hand over the crown\\nAnd stick around for a bit longer\\nI got a strange type of hunger\\nThe more I eat the more\\nit gets stronger,\\nThe more it gets stronger\\nI said the more it gets stronger\\nj-hope\\nCole World\\nEvery time I walk\\nEvery time I run\\nEvery time I move\\nAs always, for us\\nEvery time I look\\nEvery time I love\\nEvery time I hope\\nAs always, for us\\n(On the street, I’m still)\\nEvery time I walk\\nEvery time I run\\nEvery time I move\\nAs always, for us\\nEvery time I look\\nEvery time I love\\nEvery time I hope\\nAs always, for us\\n(On the street, I’m still)',\n",
       " '입을 맞춰도 불안하고\\n품에 안아도 초조하고\\n잠이 들 때도 꿈처럼 사라질까\\n밤새 뒤척이고\\n보면 볼수록 겁이 나고\\n겁이 날수록 더 보고 싶고\\n사랑할수록 네가 날 떠날까 봐\\n두려워지나 봐\\n사랑을 다 줘도 불안한 건 남자야\\n넌 너무 모르지 남자의 사랑을\\n사랑할수록 더 보고 싶고\\n보면 볼수록 더 안달 나고\\n평생 내 여자로 만들고픈\\n조급한 마음인걸\\n평생 내 여자로 살아줄래\\n나 말곤 없다고 말해줄래\\n조금도 불안해하지 않게\\n한 번 더 말해줄래\\nSay I love you\\nSay I love you\\nSay I love you\\nSay I love you\\n사랑할수록 닮아가고\\n날이 갈수록 더 좋아져\\n함께 할수록 난 너 없인 못 살아\\n너 책임져\\n사랑을 다 줘도 불안한 건 남자야\\n넌 너무 모르지 남자의 사랑을\\n사랑할수록 더 보고 싶고\\n보면 볼수록 더 안달 나고\\n평생 내 여자로 만들고픈\\n조급한 마음인걸\\n평생 내 여자로 살아줄래\\n나 말곤 없다고 말해줄래\\n조금도 불안해하지 않게\\n한 번 더 말해줄래 Say I love you\\nSay I love you Say I love you\\n약속해줘 You are the only my love\\n한 여자만을 사랑하니까\\n내겐 그 여자는 너 하나니까\\n자꾸만 네 사랑을 보채도\\n날 미워하지는 마\\n평생 내 여자로 살아줄래\\n나 말곤 없다고 말해줄래\\n조금도 불안해하지 않게\\n한 번 더 말해줄래\\nSay I love you\\nSay I love you Say I love you\\nSay I love you Say I love you',\n",
       " '끝없이 별빛이 내리던 밤\\n기분 좋은 바람이\\n두 빰을 스치고\\n새벽 바다 한곳을 보는\\n아름다운 너와 나\\n그림을 그려갔어\\n모래 위 떨린 손끝으로\\n날 향해 웃어주는 입술\\n끝 모양과 저 달보다\\n사랑스러운 두 눈을 가진 네가\\n다정히 내 이름을\\n부르면 내 마음이\\n녹아내려 언제나\\n나 하날 위해 준비된\\n선물 같아 널 안으면\\n잠들지 않는 바다 위를\\n너와 함께 걷는 거 같아\\n하늘 아래 너와 나\\n남은 내 모든 날을 너에게\\n다 줘도 안 아까워\\n이제서야 내가\\n사랑에 눈을 뜬 건 가봐\\n경험하지 못했고\\n믿기지 않는 일만\\n일어나고 있는 거 아니\\n5월에 피는 봄꽃 처럼\\n내 사랑도 피어나\\n부는 바람에 살며시 실어 보내\\n다정히 내 이름을\\n부르면 내 마음이\\n녹아내려 언제나\\n나 하날 위해 준비된\\n선물 같아 널 안으면\\n잠들지 않는 바다 위를\\n너와 함께 걷는 거 같아\\n하늘 아래 너와 나\\n설레는 지금이\\n꿈이 아닌 걸 알잖아\\n난 더 바랄 게 없어\\n먼 훗날 내 생애\\n아주 작은 소리로\\n귓가에 말할 거야\\n내 곁에 머물러줘서\\n마음 다해 고맙다고\\n어떤 말로도 표현 못 할\\n내 인생의 전부였다고\\n이 순간 너를 꼭 안고\\n고백할게 언제나\\n우리 모든 날들과\\n별빛 아래 우리 그림자\\n제일로 특별하다고\\n길고 긴 겨울 끝을 지나\\n너의 앞에 서있는 지금\\n선명한 목소리로\\n널 사랑한다고\\n말할게',\n",
       " '사랑이었다 별거 없던 내 하루에\\n빛이 돼준 단한 사람\\n나보다 나를 더 아껴 주던 너를\\n그땐 왜 몰랐을까\\n행복이었다 다시는 없을 것 같던\\n잠시나마 행복했었다\\n다른 사람 곁에 있는 널\\n생각해 본 적 없지만\\n이젠 너를 보내줘야 할 것 같아\\n내가 아니라도\\n눈부시게 사랑받았을 너라서\\n그 소중한 시간을 나와 함께해 줘서\\n고마웠어\\n예쁘고 아름다웠던 너의 그날에\\n함께했던 그 모든 순간이 행복했어\\n내 전부였다 무엇도 바꿀 수 없던\\n우리라서 행복했었다\\n다른 누구라도\\n나보다 더 좋은 사람 만나서\\n이젠 나를 잊고 행복하게 살아\\n내가 아니라도\\n눈부시게 사랑받았을 너라서\\n그 소중한 시간을 나와 함께해 줘서\\n고마웠어\\n예쁘고 아름다웠던 너의 그날에\\n함께했던 그 모든 순간이 행복했어\\n어두웠던 내 하루에\\n빛이 되어주던 그날들을\\n어떻게 잊고 살아\\n과분했던 너라는 사람을 만나\\n누구보다 사랑했었다\\n내가 아니었다면\\n눈부시게 사랑받았을 너란 걸\\n이 세상에 누구보다 더 잘 알아서\\n미안했어 너와 함께한 날들이\\n더 말할 게 있을까\\n행복한 기억만 가져갈게',\n",
       " 'Back to the day\\n갓 10대가 됐을 때\\n그때 내가 널 보지 못했다면\\n어땠을까 해\\n왜인지 외로워지는 밤에 You say\\n흐린 추억 속에 네게 안겨 잠드네\\nYeah 친구들과의 술자리\\n나는 또 네 얘기를 꺼내\\n보고 싶다는 넋두리에\\n친구들 답은 뻔해\\n10년도 더 된 애를 사랑할 수 있냬\\n이제 그만 잊으래\\n근데 그게 잘 안돼\\n그래 걔 말마따나\\n넌 아담의 사과일 수도\\nBut 난 신을 안 믿으니까\\n네 전화 바로 픽업\\n지금 주소 찍어\\n어디든 상관없어 다 갈 테니까\\n그건 사랑이 아냐\\n그건 미련이 아냐\\n그냥 정이라고 하자\\n임마 네가 뭘 알아\\n이건 사랑이 맞아\\n분명 약속했단 말이야\\nI know I’m wrong\\n그 자리에 그대로\\n두고 온 기억들을\\n더듬고 있을 때면\\nYou say\\n그건 사랑이 아냐\\n그건 미련이 아냐\\n그냥 정리하고 가자\\n아메리카노보단 라떼를\\n맛있게 내리던 네 집 앞 카페를\\n매일 같이 갔었었던 그때를\\n내려줄게 쓰지 않아 이제는\\n넌 매일 밤 예뻐 예뻐\\n해주며 날 재워 재워\\n식어버린 널 데워 태워\\n꿈에서 날 깨워 줘\\n버려진 기억들 속에서\\n쓸만한 컷들을 찾고 있어\\n이미 내 곁에 더는 없는 너지만\\n난 너를 느낄 수 있어\\n닿을 듯 안 닿을 듯\\n떠나는 뒷모습이\\n왜인지 행복해 보여\\n너라도 행복해줘\\n그건 사랑이 아냐\\n그건 미련이 아냐\\n그냥 정이라고 하자\\n임마 네가 뭘 알아\\n이건 사랑이 맞아\\n분명 약속했단 말이야\\nI know I’m wrong\\n그 자리에 그대로\\n두고 온 기억들을\\n더듬고 있을 때면\\nYou say\\n그건 사랑이 아냐\\n그건 미련이 아냐\\n그냥 정리하고 가자\\n그건 사랑이 아냐\\n그건 미련이 아냐\\n그냥 정이라고 하자\\n임마 네 말이 맞아\\n이건 사랑이 아냐\\n그냥 정리하고 가자',\n",
       " 'Kick in the door Waving the coco\\n팝콘이나 챙겨 껴들 생각 말고\\nI talk that talk Runways I walk walk\\n눈 감고 pop pop 안 봐도 척\\n\\nOne by one then Two by two\\n내 손끝 툭 하나에 다 무너지는 중\\n가짜 쇼 치곤 화려했지\\nMakes no sense You couldn’t\\nget a dollar outta me\\n\\n자 오늘 밤이야 난 독을 품은 꽃\\n네 혼을 빼앗은 다음\\nLook what you made us do\\n\\n천천히 널 잠재울 FIRE 잔인할 만큼 아름다워\\n\\nI bring the pain like\\n\\nThis that pink venom\\nThis that pink venom\\nThis that pink venom\\nGet ‘em, get ‘em, get ‘em\\nStraight to ya dome like\\nwhoa whoa whoa\\nStraight to ya dome like ah ah ah\\n\\nTaste that pink venom\\nTaste that pink venom\\nTaste that pink venom\\nGet ‘em, get ‘em, get ‘em\\nStraight to ya dome like\\nwhoa whoa whoa\\nStraight to ya dome like ah ah ah\\n\\nBlack paint and ammo,\\ngot bodies like Rambo\\nRest in peace, please light up a candle\\nThis da life of a vandal,\\nmasked up and I’m still in Celine\\nDesigner crimes or it wouldn’t be me\\n\\nDiamonds shinin’ drive in silence\\nI don’t mind it I’m ridin’\\nFlyin’ private side by side with da\\npilot Up in the sky\\nAnd I’m wildin’, stylin’ on them and\\nthere’s no chance\\nCuz we got bodies on bodies like this a\\nslow dance\\n\\n자 오늘 밤이야 난 독을 품은 꽃\\n네 혼을 빼앗은 다음\\nLook what you made us do\\n\\n천천히 널 잠재울 FIRE 잔인할 만큼 아름다워\\n\\nI bring the pain like\\n\\nThis that pink venom\\nThis that pink venom\\nThis that pink venom\\nGet ‘em, get ‘em, get ‘em\\nStraight to ya dome like\\nwhoa whoa whoa\\nStraight to ya dome like ah ah ah\\n\\nTaste that pink venom\\nTaste that pink venom\\nTaste that pink venom\\nGet ‘em, get ‘em, get ‘em\\nStraight to ya dome like\\nwhoa whoa whoa\\nStraight to ya dome like ah ah ah\\n\\n원한다면 provoke us\\n감당 못해 and you know this\\n\\n이미 퍼져버린 shot that potion\\n네 눈앞은 핑크빛 ocean\\n\\nCome and give me all the smoke\\n도 아니면 모 like I’m so rock and roll\\n\\nCome and give me all the smoke\\n다 줄 세워 봐 자 STOP DROP\\n\\nI bring the pain like\\n\\nLa tatata La tatata La tatata La tatata\\nLa tatata La tatata\\n\\nStraight to ya\\nStraight to ya\\nStraight to ya dome like\\n\\nLa tatata La tatata La tatata La tatata\\nLa tatata La tatata\\n\\nI bring the pain like',\n",
       " '말론 표현할 수 없지만\\nGirl, You gotta know\\nyou got that vibe\\n네 미소는 Fine Art\\n내 영혼을 깨워\\nYou got me feelin’ so right yeah\\nIt’s a vibe\\nYeah eh\\nThis gon’ be the one\\nand only theme song\\n너에게만 고정된 내 시선\\n내겐 너란 하나뿐인 Mission\\n불가능은 없어\\nBaby lights camera action\\n나란 음악 위에 너는 Topline\\n너란 도시 위에 나는 Skyline\\n넌 내 영화 속에 Highlight\\n어두운 밤하늘 끝에 Twilight\\nJust gets better\\n너를 처음부터 정주행하고 싶은 매력\\nYou don’t know I want your love\\n(know I want your love)\\n이 밤이 끝나기 전에 Baby\\nYou know we got that vibe baby\\n(해 뜰 때까지)\\nLook at me, look at me,\\n느낌이 나지\\nLook at me, look at me,\\n느낌이 나지\\nYou know we got that vibe baby\\n(해 질 때까지)\\nLook at you, look at you,\\n느낌이 나지\\n느낌이 와 It’s a vibe\\nThis gon’ be the one\\nand only Anthem\\n감각적이야 Sixth sense 반전\\n짜릿해 손만 잡아도 감전\\n너를 만나기 전까지 내 세상은 암전\\n나란 무대 위에 너는 Spotlight\\n너란 한강 위에 나는 남산\\n더 완벽할 순 없잖아\\n어두운 밤하늘 끝에 Twilight\\nI could feel it\\n너란 공간에 갇혀버렸어\\nYou’re my Matrix\\nYou don’t know I want your love\\n(know I want your love)\\n이 밤이 끝나기 전에 Baby\\nYou know we got that vibe baby\\n(해 뜰 때까지)\\nLook at me, look at me,\\n느낌이 나지\\nLook at me, look at me,\\n느낌이 나지\\nYou know we got that vibe baby\\n(해 질 때까지)\\nLook at you, look at you,\\n느낌이 나지\\n느낌이 와 It’s a vibe\\nLook at the stars\\n밝게 빛나는 달\\nAll through the night\\n우릴 비춰주고 있잖아\\n날 보는 너의 눈빛과\\n진동을 계속 느끼고 싶어\\n(You gotta know you got that vibe)\\nYou know we got that vibe baby\\n(해 뜰 때까지)\\nLook at me, look at me,\\n느낌이 나지\\nYou know we got that vibe baby\\n(해 질 때까지)\\nLook at you, look at you,\\n느낌이 나지\\n느낌이 와 It’s a vibe',\n",
       " \"기분이 째져\\nAyy who's the best dresser\\n반경 100m 누가 젤 튀어\\n잘 되면 셀럽\\n못 되면 평생 리셀러\\n내 개성은 시대를 안 타 huh\\n안 타 cause\\n나는 새삥\\n모든 게 다 새삥\\n보세 옷을 걸쳐도\\n브랜드 묻는 DM이 와\\nI’m too sexy\\n헌 집 주고 새집\\n프리미엄이 붙어\\n두 배, 세 배, 네 배 yeah\\n나는 새삥\\n11년째 freshman\\n유명세를 걷어\\n현찰 대신 스펙을 stackin’\\nOoh! You’re not savage\\n남의 멋만 쌔비지\\n난 취향을 감춰 그래\\n내 세컨 카는 수수께끼\\nShow and prove의 심볼\\n넘볼 수 없는 임금\\nThe king is back 뽷!\\n다시 ’코’시국\\n암만 영끌해도 근본은 절대 못 사\\n눈팅으로 배운 너의 street fashion\\n뚜까 패고파\\n기분이 째져\\nAyy who's the best dresser\\n반경 100m 누가 젤 튀어\\n잘 되면 셀럽\\n못 되면 평생 리셀러\\n내 개성은 시대를 안 타 huh\\n안 타 cause\\n나는 새삥\\n모든 게 다 새삥\\n보세 옷을 걸쳐도\\n브랜드 묻는 DM이 와\\nI’m too sexy\\n헌 집 주고 새집\\n프리미엄이 붙어\\n두 배, 세 배, 네 배 yeah\\n아마 나는 오늘도\\n미치게 하겠지 workin’\\n이유는 뻔하지 새로운 옷이\\n알어 니 위치는 겉만 하지 마\\n건방 빌린 게 티 나서 bro\\n이제 여름이 오니까 준비해\\n내 목에다 채워질 아이스체인\\n1234 옷을 세는 것도 지겨워 man\\nNew thang\\nI love my hates\\n원해 new chain\\n우리 엄만 생일마다\\n새 가방이 생기지\\n신기록 갱신\\n우린 없어 배신\\n나는 매일 새신\\nYessir I really came from zero\\n그래서 2배로 work\\n책임을 가진 삶은 생각보다 괴로워\\n언제나 let's go hard\\n내 옷은 새로워\\n난 운전할 때마다 맨 앞이라 외로워\\n안 무셔 drip check\\n내 옷들은 늘 새삥\\n아무도 못 말려 나란 바닥노무 쉐낀\\n멈출 수 없어 난 쌓아야 해 stack\\n안전모를 썼던\\n나는 절대 못해 cap\\n기분이 째져\\nAyy who's the best dresser\\n반경 100m 누가 젤 튀어\\n잘 되면 셀럽\\n못 되면 평생 리셀러\\n내 개성은 시대를 안 타 huh\\n안 타 cause\\n나는 새삥\\n모든 게 다 새삥\\n보세 옷을 걸쳐도\\n브랜드 묻는 DM이 와\\nI’m too sexy\\n헌 집 주고 새집\\n프리미엄이 붙어\\n두 배, 세 배, 네 배 yeah\\n나는 새삥 모든 게 다 새삥\",\n",
       " '잠깐 시간 될까\\n만날 수 있을까\\n별일은 아니고 그냥 보고 싶어 그래\\n웃지 말고 대답해줄래\\n그럼 나 괜히 설레\\n장난치지 말고 내게 답 해줄래\\n어떻게 생각해\\n만나서 반가워\\n아마 첫 인사부터\\n이런 맘이었었는지도 몰라\\n나 이제 네게 다가서려 해\\n거릴 좁혀보려 해\\n나 망설이지 않기를\\n우리가 만약 시작한다면\\n그 누구보다\\n예쁘디 예쁠 거라 생각해\\n혹시 넌 어때\\n할 얘기가 많은데\\n마침 너희 집 근처야\\n혹시나 괜찮다면\\n잠깐 시간 될까\\n만날 수 있을까\\n별일은 아니고 그냥 보고 싶어 그래\\n웃지 말고 대답해줄래\\n그럼 나 괜히 설레\\n장난치지 말고 내게 답 해줄래\\n혹시 근데 말이야\\n내 고백 말이야\\n답 안 해줬잖아 너는 나 어떤 것 같애\\n부담 안 가져도 돼\\n진짜야 나는 괜찮아\\n마음이 정리될 때까지 기다릴게\\n내가 그리 갈게\\n흠 아마도 내가\\n이런 맘을 보내다 보면\\n너에게 닿겠지만\\n혹시 그렇게 되진 못하더라도\\n이 순간만큼은\\n설렜던 기억으로 남기를\\n이대로 너와 내 시간이\\n멈춰버렸음 해\\n아직 우린 아무 사이도 아닌데\\n난 괜히 그래\\n할 얘기가 많은데\\n마침 너희 집 근처야\\n혹시나 괜찮다면\\n잠깐 시간 될까\\n만날 수 있을까\\n별일은 아니고 그냥 보고 싶어 그래\\n웃지 말고 대답해줄래\\n그럼 나 괜히 설레\\n장난치지 말고 내게 답 해줄래\\n내가 그리 갈게\\n잠깐 시간 될까\\n그 한마디보다\\n사실 지금 당장 널 보러 가고 싶은데\\n이게 맘처럼 안 돼\\n그냥 보고 싶어 나 너 좋아해\\n말로 다 못할 정도야 널 좋아해\\n널 보고 싶단 말\\n날 안아달란 말\\n너에게 했던 모든 말 전부 다 진심이야\\n단 한 순간도 가볍거나 쉽게 생각했던 적 없어\\n이젠 너도 답 해줄래\\n내가 그리 갈게',\n",
       " \"الأ هو لا دان\\nالأ هو لا دان\\n(Oh RedOne)\\nالأ هو لا دان\\nالأ هو لا دان\\nLook who we are we are the dreamers\\nWe make it happen 'cause we believe it\\nLook who we are we are the dreamers\\nWe make it happen 'cause we can see it\\nHere's to the ones that keep the passion\\nRespect oh yeah\\nHere's to the ones that can imagine\\nRespect oh yeah\\nالأ هو لا دان\\nالأ هو لا دان\\nالأ هو لا دان\\nالأ هو لا دان\\nGather 'round now look at me (هاييا هاييا)\\nRespect the love the only way (هاييا هاييا)\\nIf you wanna come come with me (هاييا هاييا)\\nThe door is open now every day (هاييا هاييا)\\nThis one plus two rendezvous all invited\\nThis what we do how we do\\nLook who we are we are the dreamers\\nWe make it happen 'cause we believe it\\nLook who we are we are the dreamers\\nWe make it happen 'cause we can see it\\nHere's to the ones that keep the passion\\nRespect oh yeah\\nHere's to the ones that can imagine\\nRespect oh yeah\\nالأ هو لا دان\\nالأ هو لا دان\\nالأ هو لا دان\\nالأ هو لا دان\\nLook who we are we are the dreamers\\nWe make it happen 'cause we believe it\\nLook who we are we are the dreamers\\nWe make it happen 'cause we can see it\\nHere's to the ones that keep the passion\\nRespect oh yeah\\nHere's to the ones that can imagine\\nRespect oh yeah\\nالأ هو لا دان\\nالأ هو لا دان\\nالأ هو لا دان\\nالأ هو لا دان\",\n",
       " '잘 지냈지? 조금은 어색해 요즘 좋아 보여 인사 나누며\\n사실 궁금한 게 너무 많았는데 반가움에 멍해졌죠\\n\\n생각보다 오래 된 것 같은 우리 수다스럽던 그때가 생각나\\n뭐가 그렇게도 할 말이 많아서 밤을 지새우곤 했죠\\n\\n그리운 목소리 그리던 얼굴 참 많이도 기다렸어\\n\\n다시 만나자는 너의 한마디에 울컥 눈물이 나\\n결국 너였단 걸\\n\\n알아\\n기다림의 끝은 기적이 되고 기적 같은 우린 운명처럼\\n\\n서로를 알아보고 그렇게 눈앞에 서있죠\\n\\n우리 사랑했던 우리 다시 만나 그때 그 순간 그대로\\n사랑했고 사랑할 거니까\\n\\n같이 듣던 노래 그때 그 거리를 이제 혼자 아닌 너와 둘이 걸어\\n\\n다시 오른쪽에 나란히 발맞춰 같은 노래를 부르죠\\n\\n그리운 만남을 그리던 날들 참 많이도 기다렸어\\n\\n다시 너를 만나 더욱 더 소중해 같은 마음이란 걸\\n\\n알아\\n기다림의 끝은 기적이 되고 기적 같은 우린 운명처럼\\n\\n서로를 알아보고 그렇게 눈앞에 서있죠\\n\\n우리 사랑했던 우리 다시 만나 그때 그 순간 그대로\\n\\n사랑했고 사랑할 거니까\\n\\n처음 느낌 그대로 설렘이 가득한 날\\n\\n고마워 다시 돌아와줘서\\n\\n그때 그 순간처럼 날\\n\\n안아줘\\n\\n결국 기다림의 끝은 기적이 되고 기적 같은 우린 운명처럼\\n\\n서로를 알아보고 그렇게 눈앞에 서있죠\\n\\n우리 사랑했던 우리 다시 만나 그때 그 순간 그대로\\n\\n사랑했고 사랑할 거니까',\n",
       " '지워도 외우고 있는 번호와\\n눈 감아도 선명한 그 얼굴을\\n잊을 수 있게 없어질 수 있게 해줘\\n나쁜 사람이 되고 싶었는데\\n생각보다 난 독하지 못해\\n오늘도 이래 어젯밤처럼 이래\\n내 맘이 맘이 맘이 맘이 맘대로\\n약속을 어기고 자꾸 그댈 찾아\\n고장 난 인형처럼 왜 멈추질 못해\\n이 밤이 밤이 밤이 밤이 무서워\\n기어코 추억을 다시 그리는 나\\n내일 후회할 텐데, 부어있을 텐데\\n나 같은 애는 나도 이해 안 돼\\n생각보다 난 그댈 못 잊어\\n내가 질리게 내가 미워하게\\n그대가 완전히 나쁜 사람이 되어 줘요\\n내 맘이 맘이 맘이 맘이 맘대로\\n약속을 어기고 자꾸 그댈 찾아\\n고장 난 인형처럼 왜 멈추질 못해\\n이 밤이 밤이 밤이 밤이 무서워\\n기어코 추억을 다시 그리는 나\\n내일 후회할 텐데, 부어있을 텐데\\n어려운 말은 그만 해요\\n내가 기대할 수 없게 해요\\n그대 앞에선 난 단순해져\\n배려하지마\\n밤이 밤이 이 밤이 밤이 (무서워)\\n맘이 맘이 이 맘이 맘이 (맘대로)\\n밤이 밤이 이 밤이 밤이 (무서워)\\n맘이 맘이 이 맘이 맘이\\n이 밤이 밤이 밤이 밤이 무서워\\n누군가 내 마음에 불을 켜줘요\\n그대가 아니라면 더욱 좋을 것 같아',\n",
       " '이 노래는 해금\\n올라타 봐 지금\\n복작대는 리듬 어쩌면\\n이 또한 또 다른 해금\\n이 노래는 해금\\n올라타 봐 지금\\n복작대는 리듬 어쩌면\\n이 또한 또 다른 해금\\n이 노래는 해금\\n올라타 봐 지금\\n복작대는 리듬 어쩌면\\n이 또한 또 다른 해금\\n해석들은 자유\\n개소리는 아웃\\n표현들의 자유\\n어쩌면 누군가의 죽음 사유\\n그것 또한 자유일런지\\n당신의 판단과 추측엔\\n확실한 신념들이 있는지\\n당신의 자유와 타인의 자유가\\n동일하다 믿는지\\n그렇다면 주저 말고 올라타 봐\\n금지된 것들로부터의 해방\\n각자의 취향조차 이해들을 못 하는 불행한\\n이 시대를 살아가는 이들을\\n위한 이 노랜 금지된 것을 푸는 것뿐이지\\n허나 자유와 방종의\\n차이쯤은 부디 구분하길\\n이 노래는 해금\\n올라타 봐 지금\\n복작대는 리듬\\n또 다른 해금\\n이 노래는 해금\\n올라타 봐 지금\\n복작대는 리듬 어쩌면\\n이 또한 또 다른 해금\\n이 노래는 해금\\n올라타 봐 지금\\n복작대는 리듬 어쩌면\\n이 또한 또 다른 해금\\n쏟아지는 정보들은 상상의 자유들을\\n금지시킴과 동시에\\n사상의 통일성을 원해\\n꽤나 머리 아픈 각종 노이즈는 눈을 가리고\\n이제는 생각의 자유조차 범해\\n각종 논란들은 판단들의 혼란들을\\n야기시키고 또 쉴 틈 없이 생산되네 uh\\n과연 우릴 금지시킨 건 무엇일까\\n어쩌면은 우리 자신 아닐까\\n자본의 노예 돈들의 노예\\n증오심과 편견 혐오의 노예\\n유튜브의 노예 플렉스의 노예\\n이기심과 탐욕이 미쳐 날뛰네\\n눈 감으면 편해 모든 게 뻔해\\n이득에 따라서 뻔히 갈리는 견해\\n시기와 질투에 다들 말야 눈들이 머네\\n서로가 서로에게 족쇄를 거는 것도 모른 채\\n정보의 쓰나미에서 쓸려 내려가지 말길\\n우린 자유와 방종의 차이쯤은 모두 구분하니\\n이 노래는 해금\\n올라타 봐 지금\\n복작대는 리듬\\n또 다른 해금\\n이 노래는 해금\\n올라타 봐 지금\\n복작대는 리듬 어쩌면\\n이 또한 또 다른 해금\\n이 노래는 해금\\n올라타 봐 지금\\n복작대는 리듬 어쩌면\\n이 또한 또 다른 해금\\n이 노래는 해금\\n올라타 봐 지금\\n복작대는 리듬 어쩌면\\n이 또한 또 다른 해금\\n이 노래는 해금\\n올라타 봐 지금\\n복작대는 리듬 어쩌면\\n이 또한 또 다른 해금',\n",
       " '4월쯤의 소나기는\\n언제나 어김없이 내 옆에 내리죠\\n땅에 끌린 바지 끝에\\n살며시 젖어 올라 마음을 채우죠\\n이 비에 내가 걸음이 조금 느려도\\n신호등의 불 바뀜이 제멋대로 바뀌어도\\n모든 게 연출 같잖아\\n날 위한 무대 같잖아\\n마치 뮤지컬, 연극처럼 막이 올라가\\nJust Like This\\n늦봄에 April Shower 내리면\\n우산을 접어 빗속을 걸어\\n우리는 5월에 필 꽃처럼\\n기다림에서 아름다움으로\\n피어날 거야 더더더\\nRain Drops On Me On Me\\nRain Drops On Me On Me\\nRain Drops On Me On Me\\n주르륵 내려줘 흠뻑 더\\n주르륵 내려서 꽃이 펴\\n주르륵 내려줘 지금 더\\nRain Drops On Me On Me\\n주르륵 내려줘 흠뻑 더\\n주르륵 내려서 꽃이 펴\\n주르륵 내려줘 지금 더\\nRain Drops On Me On Me\\n이 비에 I Wanna Rock With You\\n한 방울 우리 위로 Fallin’\\n난 너에게로 Fallin’\\n첨벙대는 리듬에 맞춰\\n마음껏 더 더 기분 좋게 Dance With Me\\n늦봄에 April Shower 내리면\\n우산을 접어 빗속을 걸어\\n우리는 5월에 필 꽃처럼\\n기다림에서 아름다움으로\\n피어날 거야 더더더\\nRain Drops On Me On Me\\nRain Drops On Me On Me\\nRain Drops On Me On Me\\n주르륵 내려줘 흠뻑 더\\n주르륵 내려서 꽃이 펴\\n주르륵 내려줘 지금 더\\nRain Drops On Me On Me\\n주르륵 내려줘 흠뻑 더\\n주르륵 내려서 꽃이 펴\\n주르륵 내려줘 지금 더\\nRain Drops On Me On Me\\n4월쯤의 소나기는\\n언제나 어김없이 내 옆에 내리죠\\n땅에 끌린 바지 끝에\\n살며시 젖어 올라 마음을 채우죠\\nRain Drops On Me On Me\\nRain Drops On Me On Me',\n",
       " '어젯밤 꿈속에서\\n지울 수 없이 깊게 밴 그대 향기\\n내 곁에 영원히 있어 줘\\n보고 있어도\\n그리운 그대\\n절대 채울 수 없다는 걸 잘 알면서도\\n나는 뭘 그리 더 가지려 했나\\n부서지는 모래성처럼\\n변해가는 사람들\\n날 위한 너의 기도 잊지 않을게\\n그대여 나의 마음에 꽃잎이 되어\\n흩날리는 나의 삶에 길이 돼 주오\\n캄캄한 나의 밤에 불빛이 되어\\n그대여 나의 마음에 비춰 주오\\n끝내 닿을 수 없다는 걸 잘 알면서도\\n나는 왜 그렇게 잡으려 했나\\n부서지는 모래성처럼\\n변해가는 사람들\\n날 위한 너의 기도 잊지 않을게\\n그대여 나의 마음에 꽃잎이 되어\\n흩날리는 나의 삶에 길이 돼 주오\\n캄캄한 나의 밤에 불빛이 되어\\n그대여 나의 마음에\\n그대여 나의 마음에\\n한 편의 영화 같던 내 흔적들을 다시\\n되돌릴 순 없겠지만\\n날 가리던 어둠 속에 핀 너라는 꽃\\n이제 내 맘속에 너로 가득 해줘\\n그대여 나의 마음에 꽃잎이 되어\\n흩날리는 나의 삶에 길이 돼 주오\\n캄캄한 나의 밤에 불빛이 되어\\n그대여 나의 마음에\\n그대여 나의 마음에\\n그대여 나의 마음에\\n비춰 주오',\n",
       " '그렇게 대단한 운명까진\\n바란적 없다 생각했는데\\n그대 하나 떠나간 내 하룬 이제\\n운명이 아님 채울 수 없소\\n별처럼 수 많은 사람들\\n그 중에 그대를 만나\\n꿈을 꾸듯 서롤 알아보고\\n주는 것 만으로 벅찼던\\n내가 또 사랑을 받고\\n그 모든건 기적이었음을\\n그렇게 어른이 되었다고\\n자신한 내가 어제같은데\\n그대라는 인연을 놓지 못하는\\n내 모습 어린아이가 됐소\\n별처럼 수 많은 사람들\\n그 중에 그대를 만나\\n꿈을 꾸듯 서롤 알아보고\\n주는 것 만으로 벅찼던\\n내가 또 사랑을 받고\\n그 모든건 기적이었음을\\n나를 꽃처럼 불러주던\\n그대 입술에 핀 내 이름\\n이제 수많은 이름들\\n그 중에 하나되고\\n오 그대의 이유였던\\n나의 모든 것도 그저 그렇게\\n별처럼 수 많은 사람들\\n그 중에 서로를 만나\\n사랑하고 다시 멀어지고\\n억겁의 시간이 지나도\\n어쩌면 또다시 만나\\n우리 사랑 운명이었다면\\n내가 너의 기적이었다면',\n",
       " '어둠만이 나의 전부였던 동안\\n숨이 벅차도록 달려왔잖아\\nNever say “time’s up”\\n경계의 끝자락\\n내 끝은 아니니까\\n\\n울타리 밖에 일렁이는 무언가\\n그 아무도 모르는 별일지 몰라\\nI wanna wanna be there\\nI’m gonna gonna be there\\n벅찬 맘으로 이 궤도를 벗어나\\n\\nLet’s go!\\n새로운 길의 탐험가\\nBeyond the road\\n껍질을 깨뜨려버리자\\n두려움은 이제 거둬\\n오로지 나를 믿어\\n지금이 바로 time to fly\\n\\n두 눈 앞의 끝, 사뿐 넘어가\\n한계 밖의 trip, 짜릿하잖아\\n녹이 슨 심장에 쉼 없이 피는 꿈\\n무모하대도 믿어 난\\n\\n\\n누구도 본 적 없는 낯선 우주 속에\\n겁 없이 뛰어들어 fall (fall) fall (fall)\\n답답한 가슴 안에\\n불꽃을 피워낼래\\nshine and bright\\n\\n곧 잡힐 듯이 반짝이던 무언가\\n꼭 달릴수록 멀어져도 난 좋아\\nI never never give up\\nI’m getting getting better\\n여정은 이미 시작된 지 오래야\\n\\nLet’s go!\\n끝이라 생각한 순간\\nBeyond the road\\n넓은 세상이 날 감싸 안아\\n때로는 느릿해도\\n가끔은 지친대도\\n멈추지 않고 let me fly\\n\\n두 눈 앞의 끝, 사뿐 넘어가\\n한계 밖의 trip, 짜릿하잖아\\n녹이 슨 심장에 쉼 없이 피는 꿈\\n무모하대도 믿어 난\\n\\n누가 뭐래도 믿어 난\\n\\nGo, 다치고 망가져 버거워진 항해\\nGo, 숨 한 번 고르고 이어가면 OK\\n구름 너머 세상을 내 품에 안을래\\n\\n두 눈 앞의 끝, 사뿐 넘어가\\n한계 밖의 trip, 짜릿하잖아\\n녹이 슨 심장에 쉼 없이 피는 꿈\\n무모하대도 믿어 난\\n\\n나의 여정을 믿어 난',\n",
       " '주인공은 아니었지\\n누구의 시점에서도\\n그냥 스쳐 지나가거나\\n친구3이라거나\\n이름 없는 역할 뿐\\n너에게는 알 수 없는\\n멋진 향기가 났었지\\n지나칠 수 없는 마음을\\n대사 한 줄 없지만\\n말하고 싶었는데\\n창가에 비친 너의 얼굴은\\n나만을 위한 등장이었는지\\n단 한 번의 명장면이\\n빠르게 지나가고 있었지\\n소리쳐 이름을 불러 볼까\\n한 시간쯤은 기억해 줄까\\n뒤를 돌아봐 주었지만\\n너의 미소는 내게 와주지 않았지\\n다음 편이 기대되지 않는\\n예상 가능한 엔딩만 남은\\n로맨스도 뭣도 아닌\\n나의 부동의 첫사랑\\n좋아하는 마음이란\\n왜 감출 수가 없는지\\n나는 바보 같은 말투로\\n대본에도 없었던\\n고백을 해버렸지\\n대답이 없는 너의 표정은\\n누구를 위한 연출이었는지\\n웃기라도 해준다면\\n이상한 애가 돼도 좋은데\\n소리쳐 이름을 불러 볼까\\n30분쯤은 기억해 줄까\\n뒤를 돌아봐 주었지만\\n너의 미소는 내게 와주지 않았지\\n다음 편이 기대되지 않는\\n예상 가능한 엔딩만 남은\\n로맨스도 뭣도 아닌\\n나의 부동의 첫사랑\\n굳이 응원해 준 사람도 없었지만\\n너를 향한 노래가 생겼어\\n이젠 웃으며 부를 수 있어\\n그저 흐릿한 조명처럼\\n너의 미소를 빛내줄 수만 있다면\\n예고편이 공개되지 않고\\n뻔한 엔딩도 맺지 못했지만\\n나의 마음속 언제나\\n항상 빛나고 있는\\n부동의 첫사랑',\n",
       " 'When I Saw you 멈춰버린 공간\\n예민해진 감각\\n오직 너 하나 보일 때\\n내 마음은 내 눈마저 Jealousy\\nOh Baby Cause I\\nU-O-O-W-O-O-W-O-O\\n깊은 숲속의 파도\\n너는 내게 유일무이\\n기타의 선율\\n간절히 원함을 다시 피어나게 해줄\\n짙은 향 속에 날 Zoom (Hoo)\\n어지러운 단어 사이 지워질까 더 겁나\\nU-O-O-W-O-O-W-O-O\\n다른 언어와 다른 시간도\\n이해하지 않아도 다 알 수 있어\\n둘만이 비밀로 공유한 Password\\n우리 둘을 열어줘\\n세상에 존재하는 모든 말 Yeh\\n우리 둘만 아는 모습으로 충분해\\n내 모든 욕심으로\\n커져가는 감정의 파형으로 Yeh\\n알잖아 우리 사이엔 말보다\\n더 중요한 게 있잖아\\nI Don’t Understand But I Luv But I Luv U\\nI Don’t Understand But I Luv But I Luv U\\nI Don’t Understand But I Luv But I Luv U\\nI Don’t Understand But I Luv But I Luv U\\n두 눈을 감고서 바라봐\\n느껴져 보란 듯이 너와 나\\n시간의 구애는 받지 않아 Any Day\\n둘이 있는 Anywhere\\nWoo Wuh\\nLove Missile 파동 위로 원\\nSmoke Smoke 피어올라라 S2\\n이해하지 않아도 알 수 있어 너\\n언어의 장벽은 그저 거품\\n알잖아 넌 나도 날 Don’t Believe Me\\nBut 넌 날 믿어 줬지\\n난 너의 안에서 오직\\n피어오른 꽃 지펴라 불꽃\\n다른 언어와 다른 시간도\\n이해하지 않아도 다 알 수 있어\\n둘만이 비밀로 공유한 Password\\n우리 둘을 열어줘\\n세상에 존재하는 모든 말 Yeh\\n우리 둘만 아는 모습으로 충분해\\n내 모든 욕심으로\\n커져가는 감정의 파형으로 Yeh\\n알잖아 우리 사이엔 말보다\\n더 중요한 게 있잖아\\nI Don’t Understand But I Luv But I Luv U\\nI Don’t Understand But I Luv But I Luv U\\nI Don’t Understand But I Luv But I Luv U\\nI Don’t Understand But I Luv But I Luv U',\n",
       " '모두 우릴 쳐다봐 (봐)\\n태양 위를 달리는 마차 (계속 달려 Uh)\\nJuicy Juicy Juicy Juicy\\n\\n총성이 울려 퍼진 다음 (Spicy한 Feelin’)\\n태양을 마음에다 쏴 (I just wanna do this)\\nJuicy Juicy\\n\\n음악 소리 크게 Turn up\\n세상을 사정없이 달려\\n태양을 뒤에 달고 밟아 경적 울려 우리답게 Fire (우리답게)\\n\\n뭘 따라가려 해 (뭘 따라가려 해)\\n우리 방식대로 더 더 (우리 방식대로 더 더)\\nSay ah 뜨거워 뜨거워 뜨거워\\n\\n밤이 없는 낮 하늘은 붉은색\\n모든 세상에 빛은 하나인 듯해 (하나 된 듯이)\\n벅찬 심호흡과 리듬 과열 Vibe\\n운명의 태양에 내일을 걸어봐\\n따라오라 Go\\n\\n우리는 Drop it like HOT HOT HOT (Oh 지금 Feelin’ so HOT)\\n이 노래 Burnin’ like HOT HOT HOT HOT (Boom Brr Boom Boom)\\n우리는 Drop it like HOT HOT HOT (Oh 지금 Feelin’ so HOT)\\nYeah I’m runnin’ too HOT HOT HOT HOT (Boom Brr Boom Boom)\\n\\n태양을 향해 불붙여라\\n아주 뜨겁게 (Boom Brr Boom Boom)\\n태양을 향해 불붙여라\\n뜨거워 이 노래 Everybody 떼창\\n\\nAy 나팔을 불어라 사막의 파도 사이로 Drive away\\nI don’t want uh one more chance\\n이 순간에 모든 걸 걸을래\\n\\n태양을 향해 등지고 있던 내 그림자는 다시 빛이 돼\\nYeh 가슴을 뜨겁게 거짓말 없어 우린 확실해\\n\\n터질 것만 같아 I can’t breathe 뜨거운 심장이 (말을 안 들어)\\n벅찬 심호흡과 리듬 과열 Vibe\\nYou know what to do, hey you know what to do\\n\\n우리는 Drop it like HOT HOT HOT (Oh 지금 Feelin’ so HOT)\\n이 노래 Burnin’ like HOT HOT HOT HOT (Boom Brr Boom Boom)\\n우리는 Drop it like HOT HOT HOT (Oh 지금 Feelin’ so HOT)\\nYeah I’m runnin’ too HOT HOT HOT HOT (Boom Brr Boom Boom)\\n\\n깊은 숲을 헤치고서 달려\\n깊은 바다 위에 태양이여\\n우린 Through the fire 한계를 다시 넘어\\n어느새 우린 높이 올라가서 태양이 되어버릴 거야 Aw!\\n\\n우리는 Drop it like HOT HOT HOT (Oh 지금 Feelin’ so HOT)\\n이 노래 Burnin’ like HOT HOT HOT HOT (Boom Brr Boom Boom)\\n우리는 Drop it like HOT HOT HOT (Oh 지금 Feelin’ so HOT)\\nYeah I’m runnin’ too HOT HOT HOT HOT (Boom Brr Boom Boom)\\n\\n태양을 향해 불붙여라\\n아주 뜨겁게 (Boom Brr Boom Boom)\\n태양을 향해 불붙여라\\n뜨거워 이 노래 Everybody 떼창',\n",
       " 'Perfume ooh ooh yeah\\nay 너의 하룰\\n향기롭게 꾸며 줄게\\n걸음 끝에\\n내 이름이 떠오르게\\n네 숨결에 스미고\\n코 끝에서 맴돌게 해\\n네 맘에 각인되게\\n잔향까지 오래\\n달아 널 생각하는 나의 향은\\n담아 선명한 내 흔적들을\\n손목 위에 난\\n옷깃 위에 난\\n남겨두려 해\\n나를 잊을 수 없게\\n작은 숨결까지\\n파고들어 난\\nay 방안에 공기에도\\n널 위한 내 맘을 풍겨\\n네 온긴 내 것이 돼\\nEvery time is paradise yeah\\n긴 시간이 흘러도\\n질릴 수가 없으니까\\n처음 느낀 경험일 걸\\n솔직해져 baby\\n좋아 내 순간들에 있는 네가\\nTonight 빈틈 없이 빠져들어\\n손목 위에 난\\n옷깃 위에 난\\n남겨두려 해\\n나를 잊을 수 없게\\n작은 숨결까지\\n파고들어 난\\n(baby I’m baby I’m)\\nbaby I’m comfortable with you\\n(You know that I’m)\\nand you’re comfortable with me\\n(I know that you are)\\n두 눈을 맞추면 (맞추면)\\n더 선명해질 테니\\nyeah yeah that’s me\\n짙은 농도에 (oh yeah)\\n정신이 혼미해 (Love yeah)\\nuh 호흡마저 향기로워\\n너를 보면 모두가 다\\n나를 떠올려\\nyeah 한 방울\\nDrip Drop (Drip Drop)\\n너의 기억 속에\\n흔적을 남겨 (남겨)\\n시간 지날수록\\n더 뚜렷해져\\n네 주위를 맴돌아\\n24 hour whoa whoa!\\nHold tight\\n서로의 맘을 확인한 밤\\noh 난 이미 스며든 것 같아\\n이젠 확실히 알아\\n난 감각이 깨어나\\n다시 한번 깊이 새겨\\n손목 위에 난\\n옷깃 위에 난\\n남겨두려 해\\n나를 잊을 수 없게\\n모든 순간 속에\\n파고들어 난',\n",
       " '조심해 손 델라\\n눈떠도 코 베인다\\n먼저 얘네들부터 제친 다음\\n내 차례는 오케이야\\n자 우주공장 집합\\n갓 만든 내 집밥\\n차려진 식탁 첫술로 싹 다\\n다시 잡아 기강\\nTake Off Your Mask Now\\n이제는 해제 Now\\nIt’s Time To Dance Now Hey\\nBeen Touring Domes Now\\nHaven’t U Heard Now\\nStadium Tours Now Hey\\n다 뚜까패 Now\\n부정을 부정 필승 Yes I Can Now Hey\\nBoy Band Making Bands\\n12년째 17 Got My Back Now Hey\\nI Got The Fire\\n더 높이 Higher\\nI Don’t Retire\\nMy Michelin Tire\\nI Got The Fire\\n더 높이 Higher\\nI Don’t Retire\\nI Got The Fire\\nI Got The Fire\\n열정은 Main Dish 덤으로 후식은 목표\\n접시 위에 Creative 매년 올라 가격표\\n모두 뒤로 Turning Back\\n샴페인 터뜨려 Birthday\\n10년 전으로 돌아가도\\n난 또 오를 자신 있어 My Way\\n우린 Masterpiece야\\n비행기 안 우리끼리만 Fly Yeah\\n머릿속 퍼즐 조각\\n채워놓고 감상 대작\\nI Got The 환상 I Got The 꿈\\n이렇게 살다 죽으면 꿀\\nWin Win Win Win\\nI Got The Fire\\nI Got The Fire\\n조심해 손 델라\\n눈떠도 코 베인다\\n먼저 얘네들부터 제친 다음\\n내 차례는 오케이야\\n자 우주공장 집합\\n갓 만든 내 집밥\\n차려진 식탁 첫술로 싹 다\\n다시 잡아 기강\\nI Got The Fire\\nI Got The Fire']"
      ]
     },
     "execution_count": 60,
     "metadata": {},
     "output_type": "execute_result"
    }
   ],
   "source": [
    "LYRIC"
   ]
  },
  {
   "cell_type": "code",
   "execution_count": 63,
   "id": "1e73fb6d",
   "metadata": {},
   "outputs": [
    {
     "data": {
      "text/html": [
       "<div>\n",
       "<style scoped>\n",
       "    .dataframe tbody tr th:only-of-type {\n",
       "        vertical-align: middle;\n",
       "    }\n",
       "\n",
       "    .dataframe tbody tr th {\n",
       "        vertical-align: top;\n",
       "    }\n",
       "\n",
       "    .dataframe thead th {\n",
       "        text-align: right;\n",
       "    }\n",
       "</style>\n",
       "<table border=\"1\" class=\"dataframe\">\n",
       "  <thead>\n",
       "    <tr style=\"text-align: right;\">\n",
       "      <th></th>\n",
       "      <th>제목</th>\n",
       "      <th>가수</th>\n",
       "      <th>가사</th>\n",
       "      <th>장르</th>\n",
       "    </tr>\n",
       "  </thead>\n",
       "  <tbody>\n",
       "    <tr>\n",
       "      <th>0</th>\n",
       "      <td>I AM</td>\n",
       "      <td>IVE (아이브)</td>\n",
       "      <td>다른 문을 열어 따라 갈 필요는 없어\\n넌 너의 길로 난 나의 길로 음\\n하루하루마...</td>\n",
       "      <td>댄스</td>\n",
       "    </tr>\n",
       "    <tr>\n",
       "      <th>1</th>\n",
       "      <td>UNFORGIVEN (feat. Nile Rodgers)</td>\n",
       "      <td>LE SSERAFIM (르세라핌)</td>\n",
       "      <td>Unforgiven I’m a villain I’m a\\nUnforgiven 난 그...</td>\n",
       "      <td>댄스</td>\n",
       "    </tr>\n",
       "    <tr>\n",
       "      <th>2</th>\n",
       "      <td>Spicy</td>\n",
       "      <td>aespa</td>\n",
       "      <td>Uh Uh Too Spicy\\nYou want my A to the Z\\nBut y...</td>\n",
       "      <td>댄스</td>\n",
       "    </tr>\n",
       "    <tr>\n",
       "      <th>3</th>\n",
       "      <td>Kitsch</td>\n",
       "      <td>IVE (아이브)</td>\n",
       "      <td>It's our time 우린 달라 특별한 게 좋아\\nOh What a good t...</td>\n",
       "      <td>댄스</td>\n",
       "    </tr>\n",
       "    <tr>\n",
       "      <th>4</th>\n",
       "      <td>퀸카 (Queencard)</td>\n",
       "      <td>(여자)아이들</td>\n",
       "      <td>Hey you\\n뭘 보니? 내가 좀 Sexy Sexy 반했니\\nYe you\\n뭐 하...</td>\n",
       "      <td>댄스</td>\n",
       "    </tr>\n",
       "    <tr>\n",
       "      <th>...</th>\n",
       "      <td>...</td>\n",
       "      <td>...</td>\n",
       "      <td>...</td>\n",
       "      <td>...</td>\n",
       "    </tr>\n",
       "    <tr>\n",
       "      <th>95</th>\n",
       "      <td>부동의 첫사랑</td>\n",
       "      <td>10CM</td>\n",
       "      <td>주인공은 아니었지\\n누구의 시점에서도\\n그냥 스쳐 지나가거나\\n친구3이라거나\\n이름...</td>\n",
       "      <td>인디음악, 포크/블루스</td>\n",
       "    </tr>\n",
       "    <tr>\n",
       "      <th>96</th>\n",
       "      <td>I Don't Understand But I Luv U</td>\n",
       "      <td>세븐틴 (SEVENTEEN)</td>\n",
       "      <td>When I Saw you 멈춰버린 공간\\n예민해진 감각\\n오직 너 하나 보일 때\\...</td>\n",
       "      <td>R&amp;B/Soul</td>\n",
       "    </tr>\n",
       "    <tr>\n",
       "      <th>97</th>\n",
       "      <td>HOT</td>\n",
       "      <td>세븐틴 (SEVENTEEN)</td>\n",
       "      <td>모두 우릴 쳐다봐 (봐)\\n태양 위를 달리는 마차 (계속 달려 Uh)\\nJuicy ...</td>\n",
       "      <td>랩/힙합</td>\n",
       "    </tr>\n",
       "    <tr>\n",
       "      <th>98</th>\n",
       "      <td>Perfume</td>\n",
       "      <td>NCT 도재정</td>\n",
       "      <td>Perfume ooh ooh yeah\\nay 너의 하룰\\n향기롭게 꾸며 줄게\\n걸음...</td>\n",
       "      <td>R&amp;B/Soul</td>\n",
       "    </tr>\n",
       "    <tr>\n",
       "      <th>99</th>\n",
       "      <td>Fire</td>\n",
       "      <td>세븐틴 (SEVENTEEN)</td>\n",
       "      <td>조심해 손 델라\\n눈떠도 코 베인다\\n먼저 얘네들부터 제친 다음\\n내 차례는 오케이...</td>\n",
       "      <td>랩/힙합</td>\n",
       "    </tr>\n",
       "  </tbody>\n",
       "</table>\n",
       "<p>100 rows × 4 columns</p>\n",
       "</div>"
      ],
      "text/plain": [
       "                                 제목                  가수  \\\n",
       "0                              I AM           IVE (아이브)   \n",
       "1   UNFORGIVEN (feat. Nile Rodgers)  LE SSERAFIM (르세라핌)   \n",
       "2                             Spicy               aespa   \n",
       "3                            Kitsch           IVE (아이브)   \n",
       "4                    퀸카 (Queencard)             (여자)아이들   \n",
       "..                              ...                 ...   \n",
       "95                          부동의 첫사랑                10CM   \n",
       "96   I Don't Understand But I Luv U     세븐틴 (SEVENTEEN)   \n",
       "97                              HOT     세븐틴 (SEVENTEEN)   \n",
       "98                          Perfume             NCT 도재정   \n",
       "99                             Fire     세븐틴 (SEVENTEEN)   \n",
       "\n",
       "                                                   가사            장르  \n",
       "0   다른 문을 열어 따라 갈 필요는 없어\\n넌 너의 길로 난 나의 길로 음\\n하루하루마...            댄스  \n",
       "1   Unforgiven I’m a villain I’m a\\nUnforgiven 난 그...            댄스  \n",
       "2   Uh Uh Too Spicy\\nYou want my A to the Z\\nBut y...            댄스  \n",
       "3   It's our time 우린 달라 특별한 게 좋아\\nOh What a good t...            댄스  \n",
       "4   Hey you\\n뭘 보니? 내가 좀 Sexy Sexy 반했니\\nYe you\\n뭐 하...            댄스  \n",
       "..                                                ...           ...  \n",
       "95  주인공은 아니었지\\n누구의 시점에서도\\n그냥 스쳐 지나가거나\\n친구3이라거나\\n이름...  인디음악, 포크/블루스  \n",
       "96  When I Saw you 멈춰버린 공간\\n예민해진 감각\\n오직 너 하나 보일 때\\...      R&B/Soul  \n",
       "97  모두 우릴 쳐다봐 (봐)\\n태양 위를 달리는 마차 (계속 달려 Uh)\\nJuicy ...          랩/힙합  \n",
       "98  Perfume ooh ooh yeah\\nay 너의 하룰\\n향기롭게 꾸며 줄게\\n걸음...      R&B/Soul  \n",
       "99  조심해 손 델라\\n눈떠도 코 베인다\\n먼저 얘네들부터 제친 다음\\n내 차례는 오케이...          랩/힙합  \n",
       "\n",
       "[100 rows x 4 columns]"
      ]
     },
     "execution_count": 63,
     "metadata": {},
     "output_type": "execute_result"
    }
   ],
   "source": [
    "df=pd.DataFrame({\"제목\":title2,\"가수\":singer2,\"가사\":LYRIC, \"장르\":Genre})\n",
    "df"
   ]
  },
  {
   "cell_type": "code",
   "execution_count": 64,
   "id": "614f9169",
   "metadata": {},
   "outputs": [],
   "source": [
    "df.to_csv(\"Melon Top 100.csv\", encoding='utf-8')"
   ]
  }
 ],
 "metadata": {
  "kernelspec": {
   "display_name": "Python 3 (ipykernel)",
   "language": "python",
   "name": "python3"
  },
  "language_info": {
   "codemirror_mode": {
    "name": "ipython",
    "version": 3
   },
   "file_extension": ".py",
   "mimetype": "text/x-python",
   "name": "python",
   "nbconvert_exporter": "python",
   "pygments_lexer": "ipython3",
   "version": "3.10.6"
  }
 },
 "nbformat": 4,
 "nbformat_minor": 5
}
